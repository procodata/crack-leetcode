{
 "cells": [
  {
   "cell_type": "markdown",
   "metadata": {},
   "source": [
    "https://github.com/lxztju/leetcode-algorithm/blob/master/leetcode算法之栈和队列.md\n",
    "\n",
    "* 利用stack的push pop的对称性，等量相反的操作\n",
    "* 辅助栈同步更新：155 min stack\n",
    "* 单调栈 next larger element"
   ]
  },
  {
   "cell_type": "markdown",
   "metadata": {},
   "source": [
    "### 232 用栈实现队列 Implement Queue using Stacks\n",
    "\n",
    "Implement a first in first out (FIFO) queue using only two stacks. The implemented queue should support all the functions of a normal queue (push, peek, pop, and empty).\n"
   ]
  },
  {
   "cell_type": "code",
   "execution_count": null,
   "metadata": {},
   "outputs": [],
   "source": [
    "class MyQueue(object):\n",
    "\n",
    "    def __init__(self):\n",
    "        self.stackin = []\n",
    "        self.stackout = []\n",
    "\n",
    "    def push(self, x):\n",
    "        \"\"\"\n",
    "        :type x: int\n",
    "        :rtype: None\n",
    "        \"\"\"\n",
    "        self.stackin.append(x)\n",
    "\n",
    "    def pop(self):\n",
    "        \"\"\"\n",
    "        :rtype: int\n",
    "        \"\"\"\n",
    "        if not self.stackout: ### pop stackout first before transfer stackin\n",
    "            while (self.stackin != []):\n",
    "                self.stackout.append(self.stackin.pop())\n",
    "        return self.stackout.pop()\n",
    "\n",
    "\n",
    "    def peek(self):\n",
    "        \"\"\"\n",
    "        :rtype: int\n",
    "        \"\"\"\n",
    "        if not self.stackout:\n",
    "            while (self.stackin != []):\n",
    "                self.stackout.append(self.stackin.pop())\n",
    "        return self.stackout[-1]\n",
    "        \n",
    "\n",
    "    def empty(self):\n",
    "        \"\"\"\n",
    "        :rtype: bool\n",
    "        \"\"\"\n",
    "        if self.stackin == [] and self.stackout == []:\n",
    "            return True\n",
    " "
   ]
  },
  {
   "cell_type": "markdown",
   "metadata": {},
   "source": [
    "       \n",
    "### 225 用队列实现栈  Implement Stack using Queues\n",
    "Implement a last-in-first-out (LIFO) stack using only two queues. The implemented stack should support all the functions of a normal stack (push, top, pop, and empty).\n"
   ]
  },
  {
   "cell_type": "markdown",
   "metadata": {},
   "source": [
    "Idea:\n",
    "可以把队列想成一个环，在队尾加入新元素后，之前已存在的元素沿着环回到了新元素的后面，使新元素变成了队头，而已存在元素的相对位置不会发生改变（队列输出不改变元素顺序）。从一开始push时就维护整个队列的这种属性：新入队的元素都在队头，之后的操作也一直保持此性质，从而使整个队列变成栈。"
   ]
  },
  {
   "cell_type": "code",
   "execution_count": null,
   "metadata": {},
   "outputs": [],
   "source": [
    "\n",
    "class MyStack:\n",
    "\n",
    "    def __init__(self):\n",
    "        \"\"\"\n",
    "        Initialize your data structure here.\n",
    "        \"\"\"\n",
    "        self.queue = collections.deque()\n",
    "\n",
    "\n",
    "    def push(self, x: int) -> None:\n",
    "        \"\"\"\n",
    "        Push element x onto stack.\n",
    "        \"\"\"\n",
    "        n = len(self.queue)\n",
    "        self.queue.append(x)\n",
    "        for _ in range(n):\n",
    "            self.queue.append(self.queue.popleft())\n",
    "\n",
    "\n",
    "    def pop(self) -> int:\n",
    "        \"\"\"\n",
    "        Removes the element on top of the stack and returns that element.\n",
    "        \"\"\"\n",
    "        return self.queue.popleft()\n",
    "\n",
    "\n",
    "    def top(self) -> int:\n",
    "        \"\"\"\n",
    "        Get the top element.\n",
    "        \"\"\"\n",
    "        return self.queue[0]\n",
    "\n",
    "\n",
    "    def empty(self) -> bool:\n",
    "        \"\"\"\n",
    "        Returns whether the stack is empty.\n",
    "        \"\"\"\n",
    "        return not self.queue\n"
   ]
  },
  {
   "cell_type": "markdown",
   "metadata": {},
   "source": [
    "### 155 最小栈 Min Stack\n",
    "Design a stack that supports push, pop, top, and retrieving the minimum element in constant time.\n"
   ]
  },
  {
   "cell_type": "code",
   "execution_count": null,
   "metadata": {},
   "outputs": [],
   "source": [
    "\n",
    "\"\"\"\n",
    "Problem: What if min is popped?\n",
    "Solution: 辅助栈来记录同步的最小值\n",
    "\"\"\"\n",
    "class MinStack(object):\n",
    "\n",
    "    def __init__(self):\n",
    "        self.stack = []\n",
    "        self.min_stack = []\n",
    "\n",
    "    def push(self, val):\n",
    "        \"\"\"\n",
    "        :type val: int\n",
    "        :rtype: None\n",
    "        \"\"\"\n",
    "        self.stack.append(val)\n",
    "        if not self.min_stack:\n",
    "            self.min_stack.append(val)\n",
    "        else:\n",
    "            min_ = val if self.min_stack[-1] > val else self.min_stack[-1] \n",
    "            self.min_stack.append(min_)\n",
    "            \n",
    "    def pop(self): \n",
    "        \"\"\"\n",
    "        :rtype: None\n",
    "        \"\"\"\n",
    "        temp = self.stack.pop()\n",
    "        self.min_stack.pop()\n",
    "        return temp\n",
    "\n",
    "    def top(self):\n",
    "        \"\"\"\n",
    "        :rtype: int\n",
    "        \"\"\"\n",
    "        return self.stack[-1]\n",
    "\n",
    "    def getMin(self):\n",
    "        \"\"\"\n",
    "        :rtype: int\n",
    "        \"\"\"\n",
    "        return self.min_stack[-1]\n"
   ]
  },
  {
   "cell_type": "markdown",
   "metadata": {},
   "source": [
    "\n",
    "### 20 有效的括号 Valid Parentheses\n",
    "Given a string s containing just the characters '(', ')', '{', '}', '[' and ']', determine if the input string is valid.\n",
    "\n",
    "An input string is valid if:\n",
    "\n",
    "Open brackets must be closed by the same type of brackets.\n",
    "Open brackets must be closed in the correct order.\n"
   ]
  },
  {
   "cell_type": "code",
   "execution_count": null,
   "metadata": {},
   "outputs": [],
   "source": [
    "def isValid(s: str) -> bool:\n",
    "    hashmap = {\"(\": \")\", \"[\": \"]\", \"{\": \"}\"}\n",
    "    left = []\n",
    "    for char in s:\n",
    "        if char in hashmap:\n",
    "            left.append(char)\n",
    "        else:\n",
    "            if not left: # Edge case when closing is more than opening, thus empty stack pops\n",
    "                return False\n",
    "            else:\n",
    "                last = left[-1] \n",
    "                if hashmap[last] != char:\n",
    "                    return False\n",
    "                else:\n",
    "                    left.pop()\n",
    "    return True if not left else False # Edge case when opening is more than closing"
   ]
  },
  {
   "cell_type": "markdown",
   "metadata": {},
   "source": [
    "\n",
    "### 1021 删除最外层的括号 Remove Outermost Parentheses\n",
    "A valid parentheses string is either empty \"\", \"(\" + A + \")\", or A + B, where A and B are valid parentheses strings, and + represents string concatenation.\n",
    "\n",
    "For example, \"\", \"()\", \"(())()\", and \"(()(()))\" are all valid parentheses strings.\n",
    "A valid parentheses string s is primitive if it is nonempty, and there does not exist a way to split it into s = A + B, with A and B nonempty valid parentheses strings.\n",
    "\n",
    "Given a valid parentheses string s, consider its primitive decomposition: s = P1 + P2 + ... + Pk, where Pi are primitive valid parentheses strings.\n",
    "\n",
    "Return s after removing the outermost parentheses of every primitive string in the primitive decomposition of s.\n"
   ]
  },
  {
   "cell_type": "markdown",
   "metadata": {},
   "source": [
    "Idea:  \n",
    "* Use an updating container to hold the result along the way, say updating the max. Instead of generating in the end. "
   ]
  },
  {
   "cell_type": "code",
   "execution_count": null,
   "metadata": {},
   "outputs": [],
   "source": [
    "\n",
    "def removeOuterParentheses(s: str) -> str:\n",
    "    \"\"\"\n",
    "    遇到右括号，左括号出栈。当辅助栈里没有左括号就是节点\n",
    "    \"\"\"\n",
    "    output = ''\n",
    "    primitive = []\n",
    "    stack = 0\n",
    "    for char in s:\n",
    "        primitive.append(char)\n",
    "        if char == '(':\n",
    "            stack+=1\n",
    "        else:\n",
    "            stack-=1\n",
    "        if not stack:\n",
    "            output = output + (\"\".join(primitive[1:-1]))\n",
    "            primitive = []\n",
    "    return output"
   ]
  },
  {
   "cell_type": "markdown",
   "metadata": {},
   "source": [
    "\n",
    "### 496 下一个更大元素 I Next Greater Element \n",
    "The next greater element of some element x in an array is the first greater element that is to the right of x in the same array.\n",
    "\n",
    "You are given two distinct 0-indexed integer arrays nums1 and nums2, where nums1 is a subset of nums2.\n",
    "\n",
    "For each 0 <= i < nums1.length, find the index j such that nums1[i] == nums2[j] and determine the next greater element of nums2[j] in nums2. If there is no next greater element, then the answer for this query is -1.\n",
    "\n",
    "Return an array ans of length nums1.length such that ans[i] is the next greater element as described above.\n",
    "\n",
    "Input: nums1 = [4,1,2], nums2 = [1,3,4,2]\n",
    "Output: [-1,3,-1]"
   ]
  },
  {
   "cell_type": "markdown",
   "metadata": {},
   "source": [
    "Idea: 单调栈\n",
    "* https://leetcode-cn.com/problems/next-greater-element-i/solution/dan-diao-zhan-jie-jue-next-greater-number-yi-lei-w/\n",
    "* https://leetcode-cn.com/problems/next-greater-element-i/solution/dong-hua-yan-shi-dan-diao-zhan-496xia-yi-ql65/ 逆序\n",
    "\n",
    "![](2022-04-07-17-56-32.png)"
   ]
  },
  {
   "cell_type": "code",
   "execution_count": null,
   "metadata": {},
   "outputs": [],
   "source": [
    "\n",
    "def nextGreaterElement(nums1: List[int], nums2: List[int]) -> List[int]:\n",
    "    '''\n",
    "    单调栈，不管nums1，直接对nums2求每个元素的下一个最大的元素，存入hashmap中，然后遍历nums1求解\n",
    "    具体操作就是维护一个单调栈，参考官方题解（比较清晰）\n",
    "    https://leetcode-cn.com/problems/next-greater-element-i/solution/dong-hua-yan-shi-dan-diao-zhan-496xia-yi-ql65/\n",
    "\n",
    "    '''\n",
    "    if not nums1: return []\n",
    "    hashmap = {}\n",
    "    stack = []\n",
    "    res = []\n",
    "\n",
    "    # 逆序维持单调栈\n",
    "    # for i in range(len(nums2)-1, -1 ,-1) \n",
    "    i = len(nums2) -1\n",
    "    while i >= 0:\n",
    "        # 如果栈不为空且大于栈顶元素\n",
    "        # 由于是逆序遍历，所以栈中元素不可能是其之前某个元素的\n",
    "        # 下一个更大元素，所以将栈中元素清空\n",
    "        while stack and stack[-1] <= nums2[i]: \n",
    "            stack.pop()\n",
    "\n",
    "        # 1.如果栈不为空，且nums[i]小于栈顶元素，由于是逆序遍历\n",
    "        # 所以栈顶元素是nums[i]的下一个更大元素\n",
    "        # 2.如果栈为空，说明nums[i]没有下一个更大元素,value=-1\n",
    "        hashmap.update({nums2[i]: stack[-1] if stack else -1})\n",
    "\n",
    "        # 存入map，看其是否可能是之前某个元素的下一个更大元素\n",
    "        stack.append(nums2[i])\n",
    "\n",
    "        i -= 1\n",
    "    \n",
    "    res = [hashmap[i] for i in nums1]\n",
    "    return res"
   ]
  },
  {
   "cell_type": "markdown",
   "metadata": {},
   "source": [
    "### 503 Next Greater Element II\n",
    "Given a circular integer array nums (i.e., the next element of nums[nums.length - 1] is nums[0]), return the next greater number for every element in nums.\n",
    "\n",
    "Input: nums = [1,2,1]\n",
    "Output: [2,-1,2]"
   ]
  },
  {
   "cell_type": "markdown",
   "metadata": {},
   "source": [
    "Idea:\n",
    "* 循化数组：\n",
    "    * 遍历两边\n",
    "    * 取模 把下标 i 映射到数组长度的 0-N 内。"
   ]
  },
  {
   "cell_type": "code",
   "execution_count": 16,
   "metadata": {},
   "outputs": [],
   "source": [
    "def nextGreaterElements(nums):\n",
    "        \"\"\"\n",
    "        :type nums: List[int]\n",
    "        :rtype: List[int]\n",
    "        \"\"\"\n",
    "        N = len(nums)\n",
    "        res = [-1]*N\n",
    "        stack = []\n",
    "        for i in range(N*2, 0, -1):\n",
    "            while stack and nums[i%N] >= stack[-1]:\n",
    "                stack.pop()\n",
    "            res[i%N] = stack[-1] if stack else -1\n",
    "            stack.append(nums[i%N])\n",
    "        return res\n",
    "\n"
   ]
  },
  {
   "cell_type": "markdown",
   "metadata": {},
   "source": [
    "### 739 Daily Temperatures\n",
    "Given an array of integers temperatures represents the daily temperatures, return an array answer such that answer[i] is the number of days you have to wait after the ith day to get a warmer temperature. If there is no future day for which this is possible, keep answer[i] == 0 instead.\n",
    "\n",
    "Input: temperatures = [73,74,75,71,69,72,76,73]\n",
    "Output: [1,1,4,2,1,1,0,0]"
   ]
  },
  {
   "cell_type": "code",
   "execution_count": null,
   "metadata": {},
   "outputs": [],
   "source": [
    "def dailyTemperatures(temperatures):\n",
    "        \"\"\"\n",
    "        :type temperatures: List[int]\n",
    "        :rtype: List[int]\n",
    "        \"\"\"\n",
    "        n = len(temperatures)\n",
    "        res = [0]*n\n",
    "        stack = []\n",
    "        for i in range(len(temperatures)-1, -1, -1): # Note the end of range is exclusive, -1 for actual index 0\n",
    "            while stack and temperatures[stack[-1]] <= temperatures[i]:\n",
    "                stack.pop()\n",
    "            res[i] = stack[-1] - i if stack else 0\n",
    "            stack.append(i)\n",
    "        return res\n"
   ]
  },
  {
   "cell_type": "code",
   "execution_count": 15,
   "metadata": {},
   "outputs": [
    {
     "data": {
      "text/plain": [
       "[10, 9, 8, 7, 6, 5, 4, 3, 2]"
      ]
     },
     "execution_count": 15,
     "metadata": {},
     "output_type": "execute_result"
    }
   ],
   "source": [
    "nextGreaterElements([1,2,1])"
   ]
  },
  {
   "cell_type": "code",
   "execution_count": null,
   "metadata": {},
   "outputs": [],
   "source": []
  }
 ],
 "metadata": {
  "interpreter": {
   "hash": "96b3db1ba501e2036d5ffa359dd7a984d144cc5b19755c3a7f94483ac299aa27"
  },
  "kernelspec": {
   "display_name": "Python 3.8.5 ('trading')",
   "language": "python",
   "name": "python3"
  },
  "language_info": {
   "codemirror_mode": {
    "name": "ipython",
    "version": 3
   },
   "file_extension": ".py",
   "mimetype": "text/x-python",
   "name": "python",
   "nbconvert_exporter": "python",
   "pygments_lexer": "ipython3",
   "version": "3.8.5"
  },
  "orig_nbformat": 4
 },
 "nbformat": 4,
 "nbformat_minor": 2
}
