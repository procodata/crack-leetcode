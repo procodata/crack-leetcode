{
 "cells": [
  {
   "cell_type": "markdown",
   "metadata": {},
   "source": [
    "#### Recursion General"
   ]
  },
  {
   "cell_type": "code",
   "execution_count": null,
   "metadata": {},
   "outputs": [],
   "source": [
    "\n",
    "def reccur(input):\n",
    "    # terminate in base case                                                                                                                                                                        \n",
    "    if condition:\n",
    "        return\n",
    "    # catch\n",
    "    if condition:\n",
    "        do \n",
    "        # return\n",
    "    reccur(sub)\n"
   ]
  },
  {
   "cell_type": "markdown",
   "metadata": {},
   "source": [
    "#### recursion return something\n",
    "* post order: Like fibinnaci calculation:  \n",
    "    def recur(sub):\n",
    "        base\n",
    "        sub1 = recur(sub1)\n",
    "        sub2 = recur(sub2)\n",
    "        return based on sub1/sub2"
   ]
  },
  {
   "cell_type": "code",
   "execution_count": null,
   "metadata": {},
   "outputs": [],
   "source": [
    "# 79 word search\n",
    "# 687, etc from recursive binary tree\n",
    "\n",
    "# 226 invert binary tree\n",
    "class Solution:\n",
    "    def invertTree(self, root: TreeNode) -> TreeNode:\n",
    "        if not root:return root\n",
    "        left = self.invertTree(root.left)\n",
    "        right = self.invertTree(root.right)\n",
    "        root.left,root.right = right,left\n",
    "        return root\n",
    "\n",
    "def maxDepth(root: Optional[TreeNode]) -> int:\n",
    "    if not root: return 0\n",
    "    left_len = maxDepth(root.left)\n",
    "    right_len = maxDepth(root.right)\n",
    "    return max(left_len, right_len) + 1"
   ]
  },
  {
   "cell_type": "markdown",
   "metadata": {},
   "source": [
    "#### recursion that needs to track path"
   ]
  },
  {
   "cell_type": "code",
   "execution_count": null,
   "metadata": {},
   "outputs": [],
   "source": [
    "# Backtrack\n",
    "def fun(input):\n",
    "    res = []\n",
    "    def dfs(path, sub):\n",
    "        # Before loop, terminate recursive call in stack \n",
    "        # 目标 捕获\n",
    "        if condition:\n",
    "            res.append(path) \n",
    "            return # re turn 提前结束当下即之后的搜索；没有return 则继续搜索 (78)\n",
    "        if condition: # 剪枝. condition on path\n",
    "            return \n",
    "        if not sub: # terminate, 放在loop之前的最后\n",
    "            return \n",
    "        for i in range(len(sub)): # list all next routes\n",
    "            new_path = path + [i]\n",
    "            if condition: # 剪枝。condition on sub. 有的剪枝可以放在loop外，有的只能在loop内 （40，90）\n",
    "                continue # break or return. It depends\n",
    "            dfs(new_path, new_sub)"
   ]
  },
  {
   "cell_type": "code",
   "execution_count": null,
   "metadata": {},
   "outputs": [],
   "source": [
    "# 113 path sum II\n",
    "class Solution:\n",
    "    def pathSum(self, root: Optional[TreeNode], targetSum: int) -> List[List[int]]:\n",
    "        paths = []\n",
    "        def dfs(path, root):\n",
    "            if not root:\n",
    "                return\n",
    "            \n",
    "            new_path = path + [root.val]\n",
    "            if not root.left and not root.right and sum(new_path) == targetSum:\n",
    "                paths.append(new_path)\n",
    "                return\n",
    "            dfs(new_path, root.left)\n",
    "            dfs(new_path, root.right)\n",
    "        dfs([], root)\n",
    "        return paths"
   ]
  },
  {
   "cell_type": "markdown",
   "metadata": {},
   "source": [
    "#### dfs/bfs + tree(general binary tree or BST)\n",
    "\n",
    "* BST inorder: Mode, minimum absolute difference, kth smallest\n",
    "* BST preorder: Trim BST, two sum"
   ]
  },
  {
   "cell_type": "code",
   "execution_count": null,
   "metadata": {},
   "outputs": [],
   "source": [
    "def fun(root):\n",
    "    res = []\n",
    "    def dfs(root):\n",
    "        if not root:\n",
    "            return\n",
    "        dfs(root.right)\n",
    "        res.append(root.val)\n",
    "        dfs(root.left)\n",
    "\n",
    "# post order: bottom to up\n",
    "def maxDepth(root: Optional[TreeNode]) -> int:\n",
    "    if not root: return 0\n",
    "    left_len = maxDepth(root.left)\n",
    "    right_len = maxDepth(root.right)\n",
    "    return max(left_len, right_len) + 1\n",
    "\n",
    "# pre order\n",
    "def binaryTreePaths(self, root: Optional[TreeNode]) -> List[str]:\n",
    "    def dfs(path, root):\n",
    "        if not root:\n",
    "            return \n",
    "        if not root.left and not root.right:\n",
    "            self.res.append(path + [str(root.val)])\n",
    "        # path = path + [str(root.val)]\n",
    "        dfs(path + [str(root.val)], root.left)\n",
    "        dfs(path + [str(root.val)], root.right)\n",
    "    dfs([], root)\n",
    "    return ['->'.join(res) for res in self.res]\n"
   ]
  },
  {
   "cell_type": "markdown",
   "metadata": {},
   "source": [
    "####  Graph "
   ]
  },
  {
   "cell_type": "code",
   "execution_count": null,
   "metadata": {},
   "outputs": [],
   "source": [
    "# dfs, topological order(detect cycle)\n",
    "def findOrder(self, numCourses: int, prerequisites: List[List[int]]) -> List[int]:\n",
    "    adj = [[] for _ in range(numCourses)]\n",
    "    for end, start in prerequisites:\n",
    "        adj[start].append(end)\n",
    "    marked = [-1 for _ in range(numCourses)]  # -1 表示未被访问， 0表示被其他的节点访问， 1表示被本节点访问过\n",
    "    valid = True # whether a cycle exists or not\n",
    "    reverse_post = []\n",
    "\n",
    "    def dfs(v):\n",
    "        nonlocal valid\n",
    "        marked[v] = 1 # this step makes condition checking 剪枝 within loop\n",
    "        for w in adj[v]:\n",
    "            if marked[w] == -1:\n",
    "                dfs(w)\n",
    "            elif marked[w] == 1:\n",
    "                valid = False\n",
    "                return\n",
    "            else: # 0\n",
    "                continue\n",
    "        reverse_post.append(v) # key step\n",
    "        marked[v] = 0 # key step\n",
    "\n",
    "# connected component\n",
    "# 200 number of islands\n",
    "def fun(G):\n",
    "    for v in G.V():\n",
    "        if not marked[v]:\n",
    "            dfs(v) \n",
    "            cnt += 1\n",
    "    def dfs(v):\n",
    "        marked[v] = True\n",
    "        for w in G.adj(v):\n",
    "            if not marked[w]:\n",
    "                dfs(w)\n",
    "\n",
    "# union find to detect cycle (undirected graph)\n"
   ]
  }
 ],
 "metadata": {
  "interpreter": {
   "hash": "96b3db1ba501e2036d5ffa359dd7a984d144cc5b19755c3a7f94483ac299aa27"
  },
  "kernelspec": {
   "display_name": "Python 3.8.5 ('trading')",
   "language": "python",
   "name": "python3"
  },
  "language_info": {
   "codemirror_mode": {
    "name": "ipython",
    "version": 3
   },
   "file_extension": ".py",
   "mimetype": "text/x-python",
   "name": "python",
   "nbconvert_exporter": "python",
   "pygments_lexer": "ipython3",
   "version": "3.8.5"
  },
  "orig_nbformat": 4
 },
 "nbformat": 4,
 "nbformat_minor": 2
}
