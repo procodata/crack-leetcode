{
 "cells": [
  {
   "cell_type": "code",
   "execution_count": null,
   "metadata": {},
   "outputs": [],
   "source": [
    "# Recursion\n",
    "def reccur(input):\n",
    "    # terminate in base case\n",
    "    if condition:\n",
    "        return\n",
    "    # catch\n",
    "    if condition:\n",
    "        do \n",
    "        # return\n",
    "    reccur(sub)\n"
   ]
  },
  {
   "cell_type": "code",
   "execution_count": null,
   "metadata": {},
   "outputs": [],
   "source": [
    "# Backtrack\n",
    "def fun(input):\n",
    "    res = []\n",
    "    def dfs(path, sub):\n",
    "        # Before loop, terminate recursive call in stack \n",
    "        # 目标 捕获\n",
    "        if condition:\n",
    "            res.append(path) \n",
    "            return # re turn 提前结束当下即之后的搜索；没有return 则继续搜索 (78)\n",
    "        if condition: # 剪枝\n",
    "            return \n",
    "        if not sub: # 放在loop之前的最后\n",
    "            return \n",
    "        for i in range(len(sub)): # list all next routes\n",
    "            new_path = path + [i]\n",
    "            if condition: # 剪枝。有的剪枝可以放在loop外，有的只能在loop内 （40，90）\n",
    "                continue\n",
    "            dfs(new_path, new_sub)"
   ]
  },
  {
   "cell_type": "code",
   "execution_count": null,
   "metadata": {},
   "outputs": [],
   "source": [
    "# dfs/bfs + tree(general binary tree or BST)\n",
    "\n",
    "# BST inorder: Mode, minimum absolute difference, kth smallest\n",
    "# BST preorder: Trim BST, two sum\n",
    "\n",
    "def fun(root):\n",
    "    res = []\n",
    "    def dfs(root):\n",
    "        if not root:\n",
    "            return\n",
    "        dfs(root.right)\n",
    "        res.append(root.val)\n",
    "        dfs(root.left)\n",
    "\n",
    "# post order: bottom to up\n",
    "def maxDepth(root: Optional[TreeNode]) -> int:\n",
    "    if not root: return 0\n",
    "    left_len = maxDepth(root.left)\n",
    "    right_len = maxDepth(root.right)\n",
    "    return max(left_len, right_len) + 1\n",
    "\n",
    "def binaryTreePaths(self, root: Optional[TreeNode]) -> List[str]:\n",
    "    def dfs(path, root):\n",
    "        if not root:\n",
    "            return \n",
    "        if not root.left and not root.right:\n",
    "            self.res.append(path + [str(root.val)])\n",
    "        # path = path + [str(root.val)]\n",
    "        dfs(path + [str(root.val)], root.left)\n",
    "        dfs(path + [str(root.val)], root.right)\n",
    "    dfs([], root)\n",
    "    return ['->'.join(res) for res in self.res]\n"
   ]
  },
  {
   "cell_type": "code",
   "execution_count": null,
   "metadata": {},
   "outputs": [],
   "source": [
    "# Graph \n",
    "\n",
    "# dfs, topological order(detect cycle)\n",
    "def findOrder(self, numCourses: int, prerequisites: List[List[int]]) -> List[int]:\n",
    "    adj = [[] for _ in range(numCourses)]\n",
    "    for end, start in prerequisites:\n",
    "        adj[start].append(end)\n",
    "    marked = [-1 for _ in range(numCourses)]  # -1 表示未被访问， 0表示被其他的节点访问， 1表示被本节点访问过\n",
    "    valid = True # whether a cycle exists or not\n",
    "    reverse_post = []\n",
    "\n",
    "    def dfs(v):\n",
    "        nonlocal valid\n",
    "        marked[v] = 1\n",
    "        for w in adj[v]:\n",
    "            if marked[w] == -1:\n",
    "                dfs(w)\n",
    "            elif marked[w] == 1:\n",
    "                valid = False\n",
    "                return\n",
    "            else: # 0\n",
    "                continue\n",
    "        reverse_post.append(v) # key step\n",
    "        marked[v] = 0 # key step"
   ]
  }
 ],
 "metadata": {
  "language_info": {
   "name": "python"
  },
  "orig_nbformat": 4
 },
 "nbformat": 4,
 "nbformat_minor": 2
}
