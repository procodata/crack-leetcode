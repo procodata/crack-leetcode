{
 "cells": [
  {
   "cell_type": "markdown",
   "metadata": {},
   "source": [
    "Recursion:\n",
    "* global variable saving result along recursion\n",
    "* `dfs(root, path/dep)` 需要记住recursion的state， 199\n",
    "* recursion returning a value, 108， 669, 653\n",
    "* normal while loop: 235\n",
    "* Inorder: 530, 538"
   ]
  },
  {
   "cell_type": "markdown",
   "metadata": {},
   "source": [
    "BST:\n",
    "* Inorder  traversal. left < root< right"
   ]
  },
  {
   "cell_type": "markdown",
   "metadata": {},
   "source": [
    "### 538. Convert BST to Greater Tree\n",
    "Given the root of a Binary Search Tree (BST), convert it to a Greater Tree such that every key of the original BST is changed to the original key plus the sum of all keys greater than the original key in BST."
   ]
  },
  {
   "cell_type": "code",
   "execution_count": null,
   "metadata": {},
   "outputs": [],
   "source": [
    "def convertBST(self, root: Optional[TreeNode]) -> Optional[TreeNode]:\n",
    "    sum = 0\n",
    "    def dfs(root):\n",
    "        nonlocal sum\n",
    "        if root:\n",
    "            dfs(root.right)\n",
    "            sum = sum + root.val\n",
    "            root.val  = sum\n",
    "            dfs(root.left)\n",
    "    dfs(root)\n",
    "    return root\n"
   ]
  },
  {
   "cell_type": "markdown",
   "metadata": {},
   "source": [
    "### 530. Minimum Absolute Difference in BST"
   ]
  },
  {
   "cell_type": "markdown",
   "metadata": {},
   "source": [
    "Idea: \n",
    "* embed logic in Inorder traversal"
   ]
  },
  {
   "cell_type": "code",
   "execution_count": null,
   "metadata": {},
   "outputs": [],
   "source": [
    "class Solution(object):\n",
    "    def getMinimumDifference(self, root):\n",
    "        \"\"\"\n",
    "        :type root: TreeNode\n",
    "        :rtype: int\n",
    "        \"\"\"\n",
    "        self.pre = -1\n",
    "        self.ans = float('inf')\n",
    "        def inOrder(root):\n",
    "            if root is None:\n",
    "                return\n",
    "            inOrder(root.left)\n",
    "            if self.pre == -1:\n",
    "                self.pre = root.val\n",
    "            else:\n",
    "                self.ans = min(self.ans, root.val - self.pre)\n",
    "                self.pre = root.val\n",
    "            inOrder(root.right)\n",
    "        inOrder(root)\n",
    "        return self.ans\n"
   ]
  },
  {
   "cell_type": "code",
   "execution_count": null,
   "metadata": {},
   "outputs": [
    {
     "data": {
      "text/plain": [
       "4"
      ]
     },
     "metadata": {},
     "output_type": "display_data"
    }
   ],
   "source": [
    "class Solution:\n",
    "    def getMinimumDifference(self, root: TreeNode) -> int:\n",
    "        if not root: return\n",
    "        # 中序遍历，然后计算差值\n",
    "        def helper(root):\n",
    "            if not root: return\n",
    "            helper(root.left)\n",
    "            res.append(root.val)\n",
    "            helper(root.right)\n",
    "            return \n",
    "        res = []\n",
    "        helper(root)\n",
    "        minnum = float('inf')\n",
    "        for i in range(len(res)-1):\n",
    "            minnum = min(minnum, res[i+1]-res[i])\n",
    "        return minnum"
   ]
  },
  {
   "cell_type": "markdown",
   "metadata": {},
   "source": [
    "### 235 Lowest Common Ancestor of a Binary Search Tree\n",
    "Given a binary search tree (BST), find the lowest common ancestor (LCA) of two given nodes in the BST.\n",
    "\n",
    "According to the definition of LCA on Wikipedia: “The lowest common ancestor is defined between two nodes p and q as the lowest node in T that has both p and q as descendants (where we allow a node to be a descendant of itself).”"
   ]
  },
  {
   "cell_type": "code",
   "execution_count": null,
   "metadata": {},
   "outputs": [],
   "source": [
    "def lowestCommonAncestor(root, p, q):\n",
    "    x = root\n",
    "    while root:\n",
    "        if ( x.val > p.val and x.val > q.val ):\n",
    "            x = x.left\n",
    "        elif (x.val < p.val and x.val < q.val):\n",
    "            x = x.right\n",
    "        # else:\n",
    "        #     return x\n",
    "        else:\n",
    "            break\n",
    "    return x # make sure return outside of while loop"
   ]
  },
  {
   "cell_type": "markdown",
   "metadata": {},
   "source": [
    "### 108 Convert Sorted Array to Binary Search Tree\n",
    "Given an integer array nums where the elements are sorted in ascending order, convert it to a height-balanced binary search tree.\n",
    "\n",
    "A height-balanced binary tree is a binary tree in which the depth of the two subtrees of every node never differs by more than one."
   ]
  },
  {
   "cell_type": "code",
   "execution_count": null,
   "metadata": {},
   "outputs": [],
   "source": [
    "\n",
    "class Solution(object):\n",
    "    def sortedArrayToBST(self, nums):\n",
    "        \"\"\"\n",
    "        :type nums: List[int]\n",
    "        :rtype: TreeNode\n",
    "        \"\"\"\n",
    "        def helper(left, right):\n",
    "            mid = (left + right)//2\n",
    "            if left > right:\n",
    "                return None\n",
    "            else:\n",
    "                root = TreeNode(val = nums[mid])\n",
    "                root.left = helper(left, mid-1)\n",
    "                root.right = helper(mid+1, right)\n",
    "                return root\n",
    "        return helper(0, len(nums) - 1)"
   ]
  },
  {
   "cell_type": "markdown",
   "metadata": {},
   "source": [
    "Space complexity: O(logn)，其中 n 是数组的长度。空间复杂度不考虑返回值，因此空间复杂度主要取决于递归栈的深度，递归栈的深度是 O(logn)。"
   ]
  },
  {
   "cell_type": "markdown",
   "metadata": {},
   "source": [
    "### 653. Two Sum IV - Input is a BST\n",
    "Given the root of a Binary Search Tree and a target number k, return true if there exist two elements in the BST such that their sum is equal to the given target.\n"
   ]
  },
  {
   "cell_type": "code",
   "execution_count": null,
   "metadata": {},
   "outputs": [],
   "source": [
    "class Solution:\n",
    "    def __init__(self):\n",
    "        self.s = set()\n",
    "\n",
    "    def findTarget(self, root: Optional[TreeNode], k: int) -> bool:\n",
    "        if root is None:\n",
    "            return False\n",
    "        if k - root.val in self.s:\n",
    "            return True\n",
    "        self.s.add(root.val)\n",
    "        return self.findTarget(root.left, k) or self.findTarget(root.right, k)\n"
   ]
  },
  {
   "cell_type": "markdown",
   "metadata": {},
   "source": [
    "### 501. Find Mode in Binary Search Tree\n",
    "Given the root of a binary search tree (BST) with duplicates, return all the mode(s) (i.e., the most frequently occurred element) in it.\n",
    "\n",
    "If the tree has more than one mode, return them in any order."
   ]
  },
  {
   "cell_type": "code",
   "execution_count": 2,
   "metadata": {},
   "outputs": [],
   "source": [
    "# 笨法，BST -> hashcode-> mode\n",
    "class Solution(object):\n",
    "    def findMode(self, root):\n",
    "        \"\"\"\n",
    "        :type root: TreeNode\n",
    "        :rtype: List[int]\n",
    "        \"\"\"\n",
    "\n",
    "        self.map = dict()\n",
    "        def inOrder(root):\n",
    "            if root == None:\n",
    "                return\n",
    "            inOrder(root.left)\n",
    "            self.map[root.val] = 1 if not self.map.get(root.val) else self.map[root.val] + 1\n",
    "            inOrder(root.right)\n",
    "        inOrder(root)\n",
    "        max_count = max(self.map.values())\n",
    "        mode = [key for key, value in self.map.items() if value == max_count]\n",
    "        return mode"
   ]
  },
  {
   "cell_type": "code",
   "execution_count": null,
   "metadata": {},
   "outputs": [],
   "source": [
    "class Solution(object):\n",
    "    def findMode(self, root):\n",
    "        \"\"\"\n",
    "        :type root: TreeNode\n",
    "        :rtype: List[int]\n",
    "        \"\"\"\n",
    "        self.max_count = 0\n",
    "        self.mode = []\n",
    "        self.count = 0\n",
    "        self.pre = None ###  always 处理currnent\n",
    "\n",
    "        def InOrder(root):\n",
    "            if root is None:\n",
    "                return \n",
    "            InOrder(root.left)\n",
    "            if self.pre == root.val:\n",
    "                self.count = self.count + 1\n",
    "            else:\n",
    "                if self.max_count == self.count:\n",
    "                    self.mode.append(root.val)\n",
    "                elif self.max_count > self.count:\n",
    "                    self.count = 0\n",
    "                else:\n",
    "                    self.max_count = self.count\n",
    "                    self.mode = [root.val]\n",
    "                self.count = 0\n",
    "                self.pre = root.val\n",
    "            InOrder(root.right)\n",
    "        InOrder(root)\n",
    "        return self.mode\n",
    "\n",
    "\n"
   ]
  },
  {
   "cell_type": "code",
   "execution_count": null,
   "metadata": {},
   "outputs": [],
   "source": [
    "# Definition for a binary tree node.\n",
    "# class TreeNode(object):\n",
    "#     def __init__(self, val=0, left=None, right=None):\n",
    "#         self.val = val\n",
    "#         self.left = left\n",
    "#         self.right = right\n",
    "class Solution(object):\n",
    "    def findMode(self, root):\n",
    "        \"\"\"\n",
    "        :type root: TreeNode\n",
    "        :rtype: List[int]\n",
    "        \"\"\"\n",
    "        self.base = None\n",
    "        self.max_count = 0\n",
    "        self.count = 0\n",
    "        self.mode = []\n",
    "        def InOrder(root):\n",
    "            if root is None:\n",
    "                return\n",
    "            InOrder(root.left)\n",
    "            if self.base == root.val:\n",
    "                self.count = self.count + 1\n",
    "            else:\n",
    "                self.count = 1\n",
    "                self.base = root.val\n",
    "            # 对所有element同样操作，就不用考虑特殊地首尾情况，降低复杂度\n",
    "            if self.count > self.max_count:\n",
    "                self.mode = [root.val]\n",
    "                self.max_count = self.count\n",
    "            if self.count == self.max_count:\n",
    "                # 如果还是同一个value，\n",
    "                if root.val not in self.mode:\n",
    "                    self.mode.append(root.val)\n",
    "            InOrder(root.right)\n",
    "        InOrder(root)\n",
    "        return self.mode\n",
    "\n"
   ]
  },
  {
   "cell_type": "markdown",
   "metadata": {},
   "source": [
    "### 669. Trim a Binary Search Tree\n",
    "Given the root of a binary search tree and the lowest and highest boundaries as low and high, trim the tree so that all its elements lies in [low, high]. Trimming the tree should not change the relative structure of the elements that will remain in the tree"
   ]
  },
  {
   "cell_type": "code",
   "execution_count": null,
   "metadata": {},
   "outputs": [],
   "source": [
    "def trimBST(self, root: Optional[TreeNode], low: int, high: int) -> Optional[TreeNode]:\n",
    "    def trim(root):\n",
    "        if not root:\n",
    "            return None\n",
    "        if root.val >= low and root.val <= high:\n",
    "            root = root\n",
    "            root.left = trim(root.left)\n",
    "            root.right = trim(root.right)\n",
    "            return root\n",
    "        elif root.val < low:\n",
    "            return trim(root.right)\n",
    "        else: \n",
    "            return trim(root.left)\n",
    "    return trim(root)"
   ]
  },
  {
   "cell_type": "markdown",
   "metadata": {},
   "source": [
    "### 230. Kth Smallest Element in a BST\n"
   ]
  },
  {
   "cell_type": "markdown",
   "metadata": {},
   "source": [
    "Idea:\n",
    "* Inorder() -> list \n",
    "* Store rank in a dict"
   ]
  },
  {
   "cell_type": "code",
   "execution_count": null,
   "metadata": {},
   "outputs": [],
   "source": [
    "def kthSmallest(self, root: Optional[TreeNode], k: int) -> int:\n",
    "    mapping = dict()\n",
    "    cnt = 0\n",
    "    res = None\n",
    "    def dfs(root):\n",
    "        nonlocal cnt\n",
    "        nonlocal res\n",
    "        nonlocal mapping\n",
    "        if not root:\n",
    "            return\n",
    "        dfs(root.left)\n",
    "        cnt += 1\n",
    "        mapping.update({cnt: root.val})\n",
    "        if cnt == k:\n",
    "            res = root.val\n",
    "        dfs(root.right)\n",
    "    dfs(root)\n",
    "    return res\n",
    "    # return mapping[k]\n",
    "    "
   ]
  },
  {
   "cell_type": "markdown",
   "metadata": {},
   "source": [
    "### 109. Convert Sorted List to Binary Search Tree\n",
    "Given the head of a singly linked list where elements are sorted in ascending order, convert it to a height balanced BST.\n"
   ]
  },
  {
   "cell_type": "markdown",
   "metadata": {},
   "source": [
    "Idea:\n",
    "    linked list -> array, then use 108. But extra O(n) space\n"
   ]
  },
  {
   "cell_type": "code",
   "execution_count": null,
   "metadata": {},
   "outputs": [],
   "source": [
    "# 快慢指针找中间点, but time O(n)\n",
    "class Solution:\n",
    "    def sortedListToBST(self, head: ListNode) -> TreeNode:\n",
    "        def getMedian(left: ListNode, right: ListNode) -> ListNode:\n",
    "            fast = slow = left\n",
    "            while fast != right and fast.next != right:\n",
    "                fast = fast.next.next\n",
    "                slow = slow.next\n",
    "            return slow\n",
    "        \n",
    "        def buildTree(left: ListNode, right: ListNode) -> TreeNode:\n",
    "            if left == right:\n",
    "                return None\n",
    "            mid = getMedian(left, right)\n",
    "            root = TreeNode(mid.val)\n",
    "            root.left = buildTree(left, mid)\n",
    "            root.right = buildTree(mid.next, right)\n",
    "            return root\n",
    "        \n",
    "        return buildTree(head, None)"
   ]
  },
  {
   "cell_type": "code",
   "execution_count": null,
   "metadata": {},
   "outputs": [],
   "source": [
    "# sorted array/list -> Inorder， 反向构建BST tree\n",
    "class Solution:\n",
    "    def sortedListToBST(self, head: ListNode) -> TreeNode:\n",
    "        def getLength(head: ListNode) -> int:\n",
    "            ret = 0\n",
    "            while head:\n",
    "                ret += 1\n",
    "                head = head.next\n",
    "            return ret\n",
    "        \n",
    "        def buildTree(left: int, right: int) -> TreeNode:\n",
    "            if left > right:\n",
    "                return None\n",
    "            mid = (left + right + 1) // 2\n",
    "            root = TreeNode()\n",
    "            root.left = buildTree(left, mid - 1)\n",
    "            nonlocal head\n",
    "            root.val = head.val\n",
    "            head = head.next\n",
    "            root.right = buildTree(mid + 1, right)\n",
    "            return root\n",
    "        \n",
    "        length = getLength(head)\n",
    "        return buildTree(0, length - 1)"
   ]
  }
 ],
 "metadata": {
  "interpreter": {
   "hash": "96b3db1ba501e2036d5ffa359dd7a984d144cc5b19755c3a7f94483ac299aa27"
  },
  "kernelspec": {
   "display_name": "base",
   "language": "python",
   "name": "base"
  },
  "language_info": {
   "codemirror_mode": {
    "name": "ipython",
    "version": 3
   },
   "file_extension": ".py",
   "mimetype": "text/x-python",
   "name": "python",
   "nbconvert_exporter": "python",
   "pygments_lexer": "ipython3",
   "version": "3.8.5"
  },
  "orig_nbformat": 4
 },
 "nbformat": 4,
 "nbformat_minor": 2
}
