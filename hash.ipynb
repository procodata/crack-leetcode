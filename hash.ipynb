{
 "cells": [
  {
   "cell_type": "markdown",
   "metadata": {},
   "source": [
    "### 1 Two Sum \n",
    "Given an array of integers nums and an integer target, return indices of the two numbers such that they add up to target\n"
   ]
  },
  {
   "cell_type": "code",
   "execution_count": null,
   "metadata": {},
   "outputs": [],
   "source": [
    "\n",
    "### Problem: In Dict, decide what to put as key or as value?\n",
    "### Solution: Index needs to be found, index should be the value instead of key. \n",
    "\n",
    "### Problem: Nested loop results in redundent checking. 2+7 and 7+2 are redundent\n",
    "### Solution: hash\n",
    "from typing import List\n",
    "def twoSum(nums: List[int], target: int) -> List[int]:\n",
    "    temp = dict()\n",
    "    for i in range(len(nums)):\n",
    "        if nums[i] not in temp.keys():\n",
    "            temp.update({target - nums[i]: i})\n",
    "        else:\n",
    "            return (i, temp[nums[i]])\n"
   ]
  },
  {
   "cell_type": "markdown",
   "metadata": {},
   "source": [
    "## 594 Longest Harmonious Subsequence\n",
    "We define a harmonious array as an array where the difference between its maximum value and its minimum value is exactly 1.\n",
    "\n",
    "Given an integer array nums, return the length of its longest harmonious subsequence among all its possible subsequences.\n",
    "A subsequence of array is a sequence that can be derived from the array by deleting some or no elements without changing the order of the remaining elements.\n",
    "\n",
    "nums = [1,3,2,2,5,2,3,7] The longest harmonious subsequence is [3,2,2,2,3].\n"
   ]
  },
  {
   "cell_type": "code",
   "execution_count": null,
   "metadata": {},
   "outputs": [],
   "source": [
    "\n",
    "def findLHS(nums: List[int]) -> int:\n",
    "    hash_map = {}\n",
    "    for num in nums:\n",
    "        # if num not in hash_map:\n",
    "        #     hash_map[num] = 1\n",
    "        # else:\n",
    "        #     hash_map[num] += 1\n",
    "        hash_map[num] = hash_map.get(num, 0) + 1 ### Deal with cases when item is not in dict\n",
    "    max_len = 0\n",
    "    for k, v in hash_map.items():\n",
    "        if hash_map.get(k+1, 0) != 0:\n",
    "            max_len = max(max_len, hash_map.get(k+1)+v) ### find max\n",
    "    return max_len\n"
   ]
  },
  {
   "cell_type": "markdown",
   "metadata": {},
   "source": [
    "\n",
    "### 349 两个数组的交集 \n",
    "Given two integer arrays nums1 and nums2, return an array of their intersection. Each element in the result must be unique and you may return the result in any order.\n",
    "\n",
    "Input: nums1 = [1,2,2,1], nums2 = [2,2]\n",
    "Output: [2]\n"
   ]
  },
  {
   "cell_type": "markdown",
   "metadata": {},
   "source": [
    "Idea:\n",
    "* time complexity of `in`.  covert list to set. Python set is implemented by hashtable. \n",
    " O(mn) -> O(m) + O(n)\n",
    "* time of creating a hashtable is O(n)"
   ]
  },
  {
   "cell_type": "code",
   "execution_count": null,
   "metadata": {},
   "outputs": [],
   "source": [
    "\n",
    "def intersection(nums1: List[int], nums2: List[int]) -> List[int]:\n",
    "    res = []\n",
    "    set1 = set(nums1)\n",
    "    set2 = set(nums2)\n",
    "    for num in set1:\n",
    "        if num in set2:\n",
    "            res.append(num)\n",
    "    return res\n"
   ]
  },
  {
   "cell_type": "markdown",
   "metadata": {},
   "source": [
    "\n",
    "### 350 两个数组的交集 II\n",
    "Given two integer arrays nums1 and nums2, return an array of their intersection. Each element in the result must appear as many times as it shows in both arrays and you may return the result in any order.\n",
    "\n",
    "Input: nums1 = [1,2,2,1], nums2 = [2,2]\n",
    "Output: [2,2]\n"
   ]
  },
  {
   "cell_type": "markdown",
   "metadata": {},
   "source": [
    "Idea:\n",
    "* space complexity: 对较短的数组进行哈希表的操作，哈希表的大小不会超过较短的数组的长度"
   ]
  },
  {
   "cell_type": "code",
   "execution_count": null,
   "metadata": {},
   "outputs": [],
   "source": [
    "\n",
    "### Problem: \n",
    "#   * 遍历 without replacement, 用过一次就要拿掉\n",
    "#   * 统计出现的次数\n",
    "### Solution: map\n",
    "    \n",
    "def intersect(nums1: List[int], nums2: List[int]) -> List[int]:\n",
    "    count = {}\n",
    "    # hashmap1 = dict.fromkeys(nums1, 0)\n",
    "\n",
    "    res = []\n",
    "    # set1 = set(nums1)\n",
    "    for num in nums1:\n",
    "        count.update({num: count.get(num, 0) + 1})\n",
    "    for num in nums2:\n",
    "        if num in count and count[num] >= 1:\n",
    "            res.append(num)\n",
    "            count[num] -= 1\n",
    "        else:\n",
    "            continue\n",
    "    return res\n",
    "\n",
    "def intersect(nums1: List[int], nums2: List[int]) -> List[int]:\n",
    "    count = {}\n",
    "    map1 = dict()\n",
    "    for num in nums1:\n",
    "        map1.update({num: map1.get(num, 0) + 1})\n",
    "    map2 = dict()\n",
    "    for num in nums2:\n",
    "        map2.update({num: map2.get(num, 0) + 1})\n",
    "\n",
    "    res = []\n",
    "    for i in map1:\n",
    "        if i in map2:\n",
    "            n = min(map1[i], map2[i])\n",
    "            res.extend([i]*n)\n",
    "\n",
    "    return res\n"
   ]
  },
  {
   "cell_type": "markdown",
   "metadata": {},
   "source": [
    "\n",
    "### 242 有效的字母异位词  Valid Anagram\n",
    "Given two strings s and t, return true if t is an anagram of s, and false otherwise.\n",
    "\n",
    "Input: s = \"anagram\", t = \"nagaram\"\n",
    "Output: true\n"
   ]
  },
  {
   "cell_type": "code",
   "execution_count": null,
   "metadata": {},
   "outputs": [],
   "source": [
    "\n",
    "def isAnagram(s: str, t: str) -> bool:\n",
    "    map1 = dict.fromkeys(list(s), 0)\n",
    "    map2 = dict.fromkeys(list(t), 0)\n",
    "    for char in s:\n",
    "        map1[char] += 1\n",
    "    for char in t:\n",
    "        map2[char] += 1\n",
    "    return map1 == map2\n",
    "\n"
   ]
  },
  {
   "cell_type": "markdown",
   "metadata": {},
   "source": [
    "\n",
    "### 202. Happy Number\n",
    "Write an algorithm to determine if a number n is happy.\n",
    "\n",
    "A happy number is a number defined by the following process:\n",
    "\n",
    "Starting with any positive integer, replace the number by the sum of the squares of its digits.\n",
    "Repeat the process until the number equals 1 (where it will stay), or it loops endlessly in a cycle which does not include 1.\n",
    "Those numbers for which this process ends in 1 are happy.\n",
    "Return true if n is a happy number, and false if not.\n"
   ]
  },
  {
   "cell_type": "code",
   "execution_count": null,
   "metadata": {},
   "outputs": [],
   "source": [
    "\n",
    "### Problem: Decide if it will end eventually or loop forever\n",
    "### Solution: \n",
    "#   * Prove endless loop won't happen\n",
    "#   * find when/on what condition loop will happen\n",
    "\n",
    "class Solution:\n",
    "    def isHappy(n: int) -> bool:\n",
    "        def get_next(n):\n",
    "            n = sum([int(num)**2 for num in str(n)])\n",
    "            return n\n",
    "        seen = set()\n",
    "        while n != 1 and n not in seen:\n",
    "            seen.add(n)\n",
    "            n = get_next(n)\n",
    "        return n == 1\n",
    "\n"
   ]
  },
  {
   "cell_type": "code",
   "execution_count": null,
   "metadata": {},
   "outputs": [],
   "source": [
    "# 快慢指针\n",
    "def isHappy(self, n: int) -> bool:  \n",
    "    def get_next(number):\n",
    "        total_sum = 0\n",
    "        while number > 0:\n",
    "            number, digit = divmod(number, 10)\n",
    "            total_sum += digit ** 2\n",
    "        return total_sum\n",
    "\n",
    "    slow_runner = n\n",
    "    fast_runner = get_next(n)\n",
    "    while fast_runner != 1 and slow_runner != fast_runner:\n",
    "        slow_runner = get_next(slow_runner)\n",
    "        fast_runner = get_next(get_next(fast_runner))\n",
    "    return fast_runner == 1\n"
   ]
  },
  {
   "cell_type": "markdown",
   "metadata": {},
   "source": [
    "\n",
    "\n",
    "### 205. Isomorphic Strings 同构字符串\n",
    "Given two strings s and t, determine if they are isomorphic.\n",
    "\n",
    "Two strings s and t are isomorphic if the characters in s can be replaced to get t.\n",
    "\n",
    "All occurrences of a character must be replaced with another character while preserving the order of characters. No two characters may map to the same character, but a character may map to itself.\n"
   ]
  },
  {
   "cell_type": "code",
   "execution_count": null,
   "metadata": {},
   "outputs": [],
   "source": [
    "\n",
    "### Problem: one-to-one mapping, bidirectional\n",
    "### Solution: \n",
    "#   * maintain two maps\n",
    "#   * Use one map, but use set(keys) == set(values) to check if it's one-to-one mapping\n",
    "def isIsomorphic(s: str, t: str) ->[] bool:\n",
    "    hashmap1 = {}\n",
    "    hashmap2 = {}\n",
    "    for i, j in zip(s, t):\n",
    "        if i not in hashmap1:\n",
    "            hashmap1[i] = j\n",
    "        else:\n",
    "            if hashmap1[i] != j:\n",
    "                return False\n",
    "        if j not in hashmap2:\n",
    "            hashmap2[j] = i\n",
    "        else:\n",
    "            if hashmap2[j] != i:\n",
    "                return False\n",
    "    return True\n"
   ]
  },
  {
   "cell_type": "markdown",
   "metadata": {},
   "source": [
    "### 451. Sort Characters By Frequency\n",
    "Given a string s, sort it in decreasing order based on the frequency of the characters. \n",
    "\n",
    "Input: s = \"tree\"\n",
    "Output: \"eert\""
   ]
  },
  {
   "cell_type": "code",
   "execution_count": null,
   "metadata": {},
   "outputs": [],
   "source": [
    "def frequencySort(s):\n",
    "        \"\"\"\n",
    "        :type s: str\n",
    "        :rtype: str\n",
    "        \"\"\"\n",
    "        freq = dict()\n",
    "        for char in s:\n",
    "            freq.update({char: freq.get(char, 0) + 1})\n",
    "        tuple_ = sorted(freq.items(), key = lambda kv: (kv[1], kv[0]), reverse=True)\n",
    "        res = []\n",
    "        for k, v in tuple_:\n",
    "            res.extend([k]*v)\n",
    "        return ''.join(res)\n",
    "        "
   ]
  },
  {
   "cell_type": "markdown",
   "metadata": {},
   "source": [
    "### 15 3Sum\n",
    "Given an integer array nums, return all the triplets [nums[i], nums[j], nums[k]] such that i != j, i != k, and j != k, and nums[i] + nums[j] + nums[k] == 0.\n",
    "\n",
    "Notice that the solution set must not contain duplicate triplets.\n",
    "\n",
    "Input: nums = [-1,0,1,2,-1,-4]\n",
    "Output: [[-1,-1,2],[-1,0,1]]"
   ]
  },
  {
   "cell_type": "code",
   "execution_count": 14,
   "metadata": {},
   "outputs": [],
   "source": [
    "def threeSum(nums):\n",
    "        \"\"\"\n",
    "        :type nums: List[int]\n",
    "        :rtype: List[List[int]]\n",
    "        \"\"\"\n",
    "        nums = sorted(nums)\n",
    "        n = len(nums)\n",
    "        res = []\n",
    "        for i in range(n-2):\n",
    "            target = -nums[i]\n",
    "            left = i + 1\n",
    "            right = n - 1\n",
    "            while left < right:\n",
    "                temp_sum = nums[left] + nums[right]\n",
    "                if temp_sum > target:\n",
    "                    right -= 1\n",
    "                elif temp_sum < target:\n",
    "                    left += 1\n",
    "                else:\n",
    "                    triplet = [nums[i], nums[left], nums[right]]\n",
    "                    if triplet not in res:\n",
    "                        res.append(triplet)\n",
    "                    right -= 1\n",
    "                    left += 1\n",
    "                    continue\n",
    "        return res"
   ]
  },
  {
   "cell_type": "markdown",
   "metadata": {},
   "source": [
    "Idea:\n",
    "* hash or sort + two-pointer"
   ]
  },
  {
   "cell_type": "markdown",
   "metadata": {},
   "source": []
  },
  {
   "cell_type": "markdown",
   "metadata": {},
   "source": [
    "### Group Anagrams\n",
    "Given an array of strings strs, group the anagrams together. You can return the answer in any order.\n",
    "\n",
    "An Anagram is a word or phrase formed by rearranging the letters of a different word or phrase, typically using all the original letters exactly once.\n",
    "\n",
    "Input: strs = [\"eat\",\"tea\",\"tan\",\"ate\",\"nat\",\"bat\"]\n",
    "Output: [[\"bat\"],[\"nat\",\"tan\"],[\"ate\",\"eat\",\"tea\"]]"
   ]
  },
  {
   "cell_type": "markdown",
   "metadata": {},
   "source": [
    "Idea:\n",
    "* Unhashable value as key: list, dict are mutable, cannot be key of hashtable"
   ]
  },
  {
   "cell_type": "code",
   "execution_count": null,
   "metadata": {},
   "outputs": [],
   "source": [
    "def groupAnagrams(strs):\n",
    "    \"\"\"\n",
    "    :type strs: List[str]\n",
    "    :rtype: List[List[str]]\n",
    "    \"\"\"\n",
    "    mp = collections.defaultdict(list)\n",
    "\n",
    "        for st in strs:\n",
    "            key = \"\".join(sorted(st))\n",
    "            mp[key].append(st)\n",
    "        \n",
    "        return list(mp.values())\n",
    "\n",
    "    "
   ]
  },
  {
   "cell_type": "code",
   "execution_count": 1,
   "metadata": {},
   "outputs": [
    {
     "data": {
      "text/plain": [
       "97"
      ]
     },
     "execution_count": 1,
     "metadata": {},
     "output_type": "execute_result"
    }
   ],
   "source": [
    "# 比较26个字符\n",
    "def groupAnagrams(self, strs: List[str]) -> List[List[str]]:\n",
    "        mp = collections.defaultdict(list)\n",
    "\n",
    "        for st in strs:\n",
    "            counts = [0] * 26\n",
    "            for ch in st:\n",
    "                counts[ord(ch) - ord(\"a\")] += 1\n",
    "            # 需要将 list 转换成 tuple 才能进行哈希\n",
    "            mp[tuple(counts)].append(st)\n",
    "        \n",
    "        return list(mp.values())\n"
   ]
  },
  {
   "cell_type": "markdown",
   "metadata": {},
   "source": [
    "### 447. Number of Boomerangs\n",
    "You are given n points in the plane that are all distinct, where points[i] = [xi, yi]. A boomerang is a tuple of points (i, j, k) such that the distance between i and j equals the distance between i and k (the order of the tuple matters).\n",
    "\n",
    "Return the number of boomerangs.\n",
    "\n",
    "Input: points = [[0,0],[1,0],[2,0]]  \n",
    "Output: 2  \n",
    "Explanation: The two boomerangs are [[1,0],[0,0],[2,0]] and [[1,0],[2,0],[0,0]].\n"
   ]
  },
  {
   "cell_type": "code",
   "execution_count": null,
   "metadata": {},
   "outputs": [],
   "source": [
    "def numberOfBoomerangs(points):\n",
    "    \"\"\"\n",
    "    :type points: List[List[int]]\n",
    "    :rtype: int\n",
    "    \"\"\"\n",
    "    res = 0\n",
    "    for p in points:\n",
    "        cnt = defaultdict(int)\n",
    "        for q in points:\n",
    "            dis = (p[0] - q[0])*(p[0] - q[0]) + (p[1] - q[1])* (p[1] - q[1])\n",
    "            cnt[dis] += 1\n",
    "        for m in cnt.values():\n",
    "            res += m*(m-1)\n",
    "    return res"
   ]
  },
  {
   "cell_type": "markdown",
   "metadata": {},
   "source": [
    "### 219. Contains Duplicate II\n",
    "Given an integer array nums and an integer k, return true if there are two distinct indices i and j in the array such that nums[i] == nums[j] and abs(i - j) <= k.\n"
   ]
  },
  {
   "cell_type": "code",
   "execution_count": null,
   "metadata": {},
   "outputs": [],
   "source": [
    "def containsNearbyDuplicate(nums, k):\n",
    "        \"\"\"\n",
    "        :type nums: List[int]\n",
    "        :type k: int\n",
    "        :rtype: bool\n",
    "        \"\"\"\n",
    "        cnt = dict()\n",
    "        for i in range(len(nums)):\n",
    "            if nums[i] not in cnt:\n",
    "                cnt[nums[i]] = i\n",
    "            else:\n",
    "                if i - cnt[nums[i]] <= k:\n",
    "                    return True\n",
    "                cnt[nums[i]] = i\n",
    "        return False"
   ]
  }
 ],
 "metadata": {
  "kernelspec": {
   "display_name": "base",
   "language": "python",
   "name": "base"
  },
  "language_info": {
   "codemirror_mode": {
    "name": "ipython",
    "version": 3
   },
   "file_extension": ".py",
   "mimetype": "text/x-python",
   "name": "python",
   "nbconvert_exporter": "python",
   "pygments_lexer": "ipython3",
   "version": "3.8.5"
  },
  "orig_nbformat": 4
 },
 "nbformat": 4,
 "nbformat_minor": 2
}
