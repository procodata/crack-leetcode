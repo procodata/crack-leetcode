{
 "cells": [
  {
   "cell_type": "markdown",
   "metadata": {},
   "source": [
    "* 双指针: 快慢，滑窗\n",
    "* Use `prehead = ListNode(-1)`. 19\n",
    "* pre, cur(cur1, even), nex"
   ]
  },
  {
   "cell_type": "markdown",
   "metadata": {},
   "source": [
    "### 160. Intersection of Two Linked Lists\n",
    "Given the heads of two singly linked-lists headA and headB, return the node at which the two lists intersect. If the two linked lists have no intersection at all, return null."
   ]
  },
  {
   "cell_type": "code",
   "execution_count": 2,
   "metadata": {},
   "outputs": [],
   "source": [
    "def getIntersectionNode(headA, headB):\n",
    "    # https://leetcode-cn.com/problems/intersection-of-two-linked-lists/solution/intersection-of-two-linked-lists-shuang-zhi-zhen-l/\n",
    "    a, b = headA, headB\n",
    "    while a != b: # if not intersect, both are null\n",
    "        # a = a.next if not a.next else headB\n",
    "        # b = b.next if not b.next else headA  \n",
    "        a = a.next if a else headB\n",
    "        b = b.next if b else headA  \n",
    "    return a  "
   ]
  },
  {
   "cell_type": "markdown",
   "metadata": {},
   "source": [
    "### 206. Reverse Linked List"
   ]
  },
  {
   "cell_type": "code",
   "execution_count": 4,
   "metadata": {},
   "outputs": [],
   "source": [
    "def reverseList(head):\n",
    "    previous = None\n",
    "    A = head\n",
    "    while A:\n",
    "        # save old values which would be replaced later\n",
    "        next = A.next\n",
    "        # update\n",
    "        A.next = previous\n",
    "        # move forward\n",
    "        previous = A\n",
    "        # move forward\n",
    "        A = next\n",
    "    return previous"
   ]
  },
  {
   "cell_type": "markdown",
   "metadata": {},
   "source": [
    "### 21 Merge Two Sorted Lists\n",
    "Input: list1 = [1,2,4], list2 = [1,3,4]\n",
    "Output: [1,1,2,3,4,4]"
   ]
  },
  {
   "cell_type": "code",
   "execution_count": 5,
   "metadata": {},
   "outputs": [],
   "source": [
    "def mergeTwoLists(list1, list2):\n",
    "    a = list1\n",
    "    b = list2\n",
    "    prehead = ListNode(-1)\n",
    "\n",
    "    current = prehead\n",
    "    while a and b:\n",
    "        if a.val <= b.val:\n",
    "            # update\n",
    "            current.next = a\n",
    "            # move forward\n",
    "            current = a\n",
    "            # move forward\n",
    "            a = a.next\n",
    "        else:\n",
    "            current.next = b\n",
    "            current = b\n",
    "            b = b.next\n",
    "    current.next = a if a else b\n",
    "    return prehead.next\n",
    "\n"
   ]
  },
  {
   "cell_type": "markdown",
   "metadata": {},
   "source": [
    "### 83. Remove Duplicates from Sorted List\n",
    "Given the head of a sorted linked list, delete all duplicates such that each element appears only once. Return the linked list sorted as well"
   ]
  },
  {
   "cell_type": "code",
   "execution_count": null,
   "metadata": {},
   "outputs": [],
   "source": [
    "def deleteDuplicates(head):\n",
    "    # Edge case: head = []\n",
    "    if not head:\n",
    "        return head\n",
    "    next = head.next\n",
    "    current = head\n",
    "    while next:\n",
    "        if current.val == next.val:\n",
    "            next = next.next\n",
    "        else:\n",
    "            current.next = next\n",
    "            current = next\n",
    "            next = next.next\n",
    "    current.next = next\n",
    "    return head\n",
    "    "
   ]
  },
  {
   "cell_type": "code",
   "execution_count": 1,
   "metadata": {},
   "outputs": [
    {
     "name": "stdout",
     "output_type": "stream",
     "text": [
      "a\n"
     ]
    }
   ],
   "source": [
    "def deleteDuplicates(self, head: ListNode) -> ListNode:\n",
    "    if not head:\n",
    "        return head\n",
    "\n",
    "    cur = head\n",
    "    while cur.next:\n",
    "        if cur.val == cur.next.val:\n",
    "            cur.next = cur.next.next\n",
    "        else:\n",
    "            cur = cur.next\n",
    "\n",
    "    return head\n"
   ]
  },
  {
   "cell_type": "markdown",
   "metadata": {},
   "source": [
    "### 234. Palindrome Linked List\n",
    "Given the head of a singly linked list, return true if it is a palindrome."
   ]
  },
  {
   "cell_type": "markdown",
   "metadata": {},
   "source": [
    "\n",
    "    复制链表值到数组列表中。\n",
    "    使用双指针法判断是否为回文。"
   ]
  },
  {
   "cell_type": "code",
   "execution_count": null,
   "metadata": {},
   "outputs": [],
   "source": [
    "class Solution:\n",
    "    def isPalindrome(self, head: ListNode) -> bool:\n",
    "        vals = []\n",
    "        current_node = head\n",
    "        while current_node is not None:\n",
    "            vals.append(current_node.val)\n",
    "            current_node = current_node.next\n",
    "        return vals == vals[::-1]"
   ]
  },
  {
   "cell_type": "markdown",
   "metadata": {},
   "source": [
    "### 19. Remove Nth Node From End of List\n"
   ]
  },
  {
   "cell_type": "markdown",
   "metadata": {},
   "source": [
    "Idea:\n",
    "* 滑窗(双指针)\n",
    "* 利用虚拟头节点,解决删除头节点的问题."
   ]
  },
  {
   "cell_type": "code",
   "execution_count": null,
   "metadata": {},
   "outputs": [],
   "source": [
    "class Solution:\n",
    "    def removeNthFromEnd(self, head: ListNode, n: int) -> ListNode:\n",
    "        dummy = ListNode(-1)\n",
    "        dummy.next = head\n",
    "        # make i, j start from dummy instead of head, in case head itself will be replaced.\n",
    "        i = dummy\n",
    "        j = dummy\n",
    "        # 中间相隔n-1个节点\n",
    "        for _ in range(n):\n",
    "            j = n.next\n",
    "        # 当j到达链表最后一个节点时，i到达待删除节点的前一个节点\n",
    "        while j.next:\n",
    "            \n",
    "            i = i.next\n",
    "            j = j.next\n",
    "        i.next = i.next.next\n",
    "        # return head\n",
    "        # make i, j start from dummy instead of head, in case head itself will be replaced.\n",
    "        return dummy.next"
   ]
  },
  {
   "cell_type": "markdown",
   "metadata": {},
   "source": [
    "### 24. Swap Nodes in Pairs\n",
    "Given a linked list, swap every two adjacent nodes and return its head. You must solve the problem without modifying the values in the list's nodes (i.e., only nodes themselves may be changed.)"
   ]
  },
  {
   "cell_type": "code",
   "execution_count": null,
   "metadata": {},
   "outputs": [],
   "source": [
    "class Solution:\n",
    "    def swapPairs(self, head: ListNode) -> ListNode:\n",
    "        if not head:\n",
    "            return head\n",
    "        dummy = ListNode(-1)\n",
    "        dummy.next = head\n",
    "        pre = dummy\n",
    "        cur1 = pre.next\n",
    "        cur2 = cur1.next\n",
    "        while cur2:\n",
    "            # save old values which would be replaced later\n",
    "            next = cur2.next\n",
    "            # update\n",
    "            pre.next = cur2\n",
    "            cur2.next = cur1\n",
    "            # move forward\n",
    "            if next and next.next:\n",
    "                pre = cur1\n",
    "                cur1 = next\n",
    "                cur2 = next.next\n",
    "            else:\n",
    "                cur1.next = next\n",
    "                break\n",
    "        return  dummy.next"
   ]
  },
  {
   "cell_type": "markdown",
   "metadata": {},
   "source": [
    "### 445. Add Two Numbers II\n",
    "The most significant digit comes first and each of their nodes contains a single digit. Add the two numbers and return the sum as a linked list.\n",
    "image.png![](2022-05-11-22-27-06.png)"
   ]
  },
  {
   "cell_type": "code",
   "execution_count": null,
   "metadata": {},
   "outputs": [],
   "source": [
    "class Solution:\n",
    "    def addTwoNumbers(self, l1: ListNode, l2: ListNode) -> ListNode:\n",
    "        s1, s2 = [], []\n",
    "        while l1:\n",
    "            s1.append(l1.val)\n",
    "            l1 = l1.next\n",
    "        while l2:\n",
    "            s2.append(l2.val)\n",
    "            l2 = l2.next\n",
    "        ans = None\n",
    "        carry = 0\n",
    "        while s1 or s2 or carry != 0:\n",
    "            a = 0 if not s1 else s1.pop()\n",
    "            b = 0 if not s2 else s2.pop()\n",
    "            cur = a + b + carry\n",
    "            carry = cur // 10\n",
    "            cur %= 10\n",
    "            curnode = ListNode(cur)\n",
    "            curnode.next = ans\n",
    "            ans = curnode\n",
    "        return ans\n",
    "\n"
   ]
  },
  {
   "cell_type": "markdown",
   "metadata": {},
   "source": [
    "### 725. Split Linked List in Parts\n",
    "Given the head of a singly linked list and an integer k, split the linked list into k consecutive linked list parts.\n",
    "\n",
    "The length of each part should be as equal as possible\n",
    "\n",
    "Input: head = [1,2,3,4,5,6,7,8,9,10], k = 3  \n",
    "Output: [[1,2,3,4],[5,6,7],[8,9,10]]  "
   ]
  },
  {
   "cell_type": "code",
   "execution_count": null,
   "metadata": {},
   "outputs": [],
   "source": [
    "class Solution:\n",
    "    def splitListToParts(self, head: ListNode, k: int) -> List[ListNode]:\n",
    "        n = 0\n",
    "        node = head\n",
    "        while node:\n",
    "            n += 1\n",
    "            node = node.next\n",
    "        quotient, remainder = n // k, n % k\n",
    "\n",
    "        parts = [None for _ in range(k)]\n",
    "        i, curr = 0, head\n",
    "        while i < k and curr:\n",
    "            parts[i] = curr\n",
    "            part_size = quotient + (1 if i < remainder else 0)\n",
    "            for _ in range(part_size - 1):\n",
    "                curr = curr.next\n",
    "            next = curr.next\n",
    "            curr.next = None\n",
    "            curr = next\n",
    "            i += 1\n",
    "        return parts"
   ]
  },
  {
   "cell_type": "markdown",
   "metadata": {},
   "source": [
    "### 328. Odd Even Linked List\n",
    "Given the head of a singly linked list, group all the nodes with odd indices together followed by the nodes with even indices, and return the reordered list.\n",
    "\n",
    "The first node is considered odd, and the second node is even, and so on."
   ]
  },
  {
   "cell_type": "code",
   "execution_count": null,
   "metadata": {},
   "outputs": [],
   "source": [
    "class Solution:\n",
    "    def oddEvenList(self, head: Optional[ListNode]) -> Optional[ListNode]:\n",
    "        cur1 = head\n",
    "        cur2 = head.next\n",
    "        head_even = head.next\n",
    "        while cur2 and cur2.next:\n",
    "            next1 = cur2.next\n",
    "            next2 = cur2.next.next\n",
    "            cur1.next = next1\n",
    "            cur2.next = next2\n",
    "            cur1 = next1\n",
    "            cur2 = next2\n",
    "        \n",
    "        cur1.next = head_even\n",
    "        # cur1.next.next = head_even\n",
    "        return head\n"
   ]
  }
 ],
 "metadata": {
  "interpreter": {
   "hash": "767d51c1340bd893661ea55ea3124f6de3c7a262a8b4abca0554b478b1e2ff90"
  },
  "kernelspec": {
   "display_name": "Python 3.8.5 64-bit",
   "language": "python",
   "name": "python3"
  },
  "language_info": {
   "codemirror_mode": {
    "name": "ipython",
    "version": 3
   },
   "file_extension": ".py",
   "mimetype": "text/x-python",
   "name": "python",
   "nbconvert_exporter": "python",
   "pygments_lexer": "ipython3",
   "version": "3.8.5"
  },
  "orig_nbformat": 4
 },
 "nbformat": 4,
 "nbformat_minor": 2
}
