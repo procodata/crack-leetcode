{
 "cells": [
  {
   "cell_type": "markdown",
   "metadata": {},
   "source": [
    "# Fibonacci"
   ]
  },
  {
   "cell_type": "markdown",
   "metadata": {},
   "source": [
    "### 70. Climbing Stairs 爬楼梯\n",
    "You are climbing a staircase. It takes n steps to reach the top.\n",
    "\n",
    "Each time you can either climb 1 or 2 steps. In how many distinct ways can you climb to the top?\n"
   ]
  },
  {
   "cell_type": "code",
   "execution_count": 8,
   "metadata": {},
   "outputs": [],
   "source": [
    "# space complexity O(N)\n",
    "def climbStairs(n):\n",
    "    ways = [None]*(n)\n",
    "    ways[0] = 1\n",
    "    ways[1] = 2\n",
    "    for i in range(2, n):\n",
    "        ways[i] = ways[i-1] + ways[i-2]\n",
    "    return ways[-1]"
   ]
  },
  {
   "cell_type": "code",
   "execution_count": 10,
   "metadata": {},
   "outputs": [],
   "source": [
    "# space complexity O(1)\n",
    "def climbStairs(n):\n",
    "    if n == 1:\n",
    "        return 1\n",
    "    if n == 2:\n",
    "        return 2\n",
    "    first = 1\n",
    "    second = 2\n",
    "    for i in range(3, n+1):\n",
    "        third = first + second\n",
    "        first = second\n",
    "        second = third\n",
    "    return third"
   ]
  },
  {
   "cell_type": "markdown",
   "metadata": {},
   "source": [
    "### 198 打家劫舍 House Robber\n",
    "You are a professional robber planning to rob houses along a street. Each house has a certain amount of money stashed, the only constraint stopping you from robbing each of them is that adjacent houses have security systems connected and it will automatically contact the police if two adjacent houses were broken into on the same night.\n",
    "\n",
    "Input: nums = [2,7,9,3,1]  \n",
    "Output: 12  \n",
    "Explanation: Rob house 1 (money = 2), rob house 3 (money = 9) and rob house 5 (money = 1).  \n",
    "Total amount you can rob = 2 + 9 + 1 = 12.  "
   ]
  },
  {
   "cell_type": "code",
   "execution_count": 17,
   "metadata": {},
   "outputs": [],
   "source": [
    "def rob(nums):\n",
    "    total = [0]*(len(nums)+1)\n",
    "    total[0] = 0\n",
    "    total[1] = nums[0]\n",
    "    if len(nums) == 1:\n",
    "        return nums[0]\n",
    "    for i in range(2, len(nums)+1):\n",
    "        total[i] = max((total[i-2] + nums[i-1]), total[i-1])\n",
    "    return total[-1]\n"
   ]
  },
  {
   "cell_type": "markdown",
   "metadata": {},
   "source": []
  },
  {
   "cell_type": "code",
   "execution_count": 18,
   "metadata": {},
   "outputs": [
    {
     "data": {
      "text/plain": [
       "12"
      ]
     },
     "execution_count": 18,
     "metadata": {},
     "output_type": "execute_result"
    }
   ],
   "source": [
    "def rob(nums: List[int]) -> int:\n",
    "    if not nums:\n",
    "        return 0\n",
    "\n",
    "    size = len(nums)\n",
    "    if size == 1:\n",
    "        return nums[0]\n",
    "    \n",
    "    dp = [0] * size\n",
    "    dp[0] = nums[0]\n",
    "    dp[1] = max(nums[0], nums[1])\n",
    "    for i in range(2, size):\n",
    "        dp[i] = max(dp[i - 2] + nums[i], dp[i - 1])\n",
    "    \n",
    "    return dp[size - 1]\n",
    "    # 使用滚动数组，可以只存储前两间房屋的最高总金额，而不需要存储整个数组的结果，因此空间复杂度是 O(1)"
   ]
  },
  {
   "cell_type": "markdown",
   "metadata": {},
   "source": [
    "# 数组区间\n"
   ]
  },
  {
   "cell_type": "markdown",
   "metadata": {},
   "source": [
    "### 303. Range Sum Query - Immutable\n",
    "Given an integer array nums, handle multiple queries of the following type:\n",
    "\n",
    "    Calculate the sum of the elements of nums between indices left and right inclusive where left <= right.\n",
    "\n",
    "Implement the NumArray class:\n",
    "\n",
    "    NumArray(int[] nums) Initializes the object with the integer array nums.\n",
    "    int sumRange(int left, int right) Returns the sum of the elements of nums between indices left and right inclusive (i.e. nums[left] + nums[left + 1] + ... + nums[right])."
   ]
  },
  {
   "cell_type": "markdown",
   "metadata": {},
   "source": [
    "For each query, time is O(N), slow. O(1)?"
   ]
  },
  {
   "cell_type": "code",
   "execution_count": null,
   "metadata": {},
   "outputs": [],
   "source": [
    "class NumArray(object):\n",
    "\n",
    "    def __init__(self, nums):\n",
    "        \"\"\"\n",
    "        :type nums: List[int]\n",
    "        \"\"\"\n",
    "        self.nums = nums\n",
    "\n",
    "\n",
    "    def sumRange(self, left, right):\n",
    "        \"\"\"\n",
    "        :type left: int\n",
    "        :type right: int\n",
    "        :rtype: int\n",
    "        \"\"\"\n",
    "        sum = 0\n",
    "        while left <= right:\n",
    "            sum = sum + self.nums[left]\n",
    "            left = left + 1\n",
    "        return sum"
   ]
  },
  {
   "cell_type": "code",
   "execution_count": null,
   "metadata": {},
   "outputs": [],
   "source": [
    "class NumArray(object):\n",
    "\n",
    "    def __init__(self, nums):\n",
    "        \"\"\"\n",
    "        :type nums: List[int]\n",
    "        \"\"\"\n",
    "        self.sums = [0]\n",
    "        for num in nums:\n",
    "            self.sums.append(self.sums[-1] + num)\n",
    "\n",
    "\n",
    "    def sumRange(self, left, right):\n",
    "        \"\"\"\n",
    "        :type left: int\n",
    "        :type right: int\n",
    "        :rtype: int\n",
    "        \"\"\"\n",
    "        return self.sums[right+1] - self.sums[left]"
   ]
  },
  {
   "cell_type": "markdown",
   "metadata": {},
   "source": [
    "# 矩阵路径"
   ]
  },
  {
   "cell_type": "markdown",
   "metadata": {},
   "source": [
    "### 64. Minimum Path Sum\n",
    "Given a m x n grid filled with non-negative numbers, find a path from top left to bottom right, which minimizes the sum of all numbers along its path.\n",
    "\n",
    "Note: You can only move either down or right at any point in time."
   ]
  },
  {
   "cell_type": "code",
   "execution_count": 51,
   "metadata": {},
   "outputs": [],
   "source": [
    "def minPathSum(grid):\n",
    "    n_row = len(grid)\n",
    "    n_col = len(grid[0])\n",
    "    # opt = [[0]*(n_col)]*(n_row) # column are reference to the same value, will change all column at once\n",
    "    opt = [[0] * n_col for _ in range(n_row)]\n",
    "    opt[0][0] = grid[0][0]\n",
    "    # for i in range(0, n_row):\n",
    "    #     for j in range(0, n_col):\n",
    "    #         if i == 0 and j == 0:\n",
    "    #             continue\n",
    "    #         if i == 0:\n",
    "    #             opt[i][j] = opt[i][j-1] + grid[i][j]\n",
    "    #             continue\n",
    "    #         if j == 0:\n",
    "    #             opt[i][j] = opt[i-1][j] + grid[i][j]\n",
    "    #             continue\n",
    "    #         opt[i][j] = min(opt[i-1][j], opt[i][j-1]) + grid[i][j]\n",
    "    for i in range(1, rows):\n",
    "            dp[i][0] = dp[i - 1][0] + grid[i][0]\n",
    "    for j in range(1, columns):\n",
    "        dp[0][j] = dp[0][j - 1] + grid[0][j]\n",
    "    for i in range(1, rows):\n",
    "        for j in range(1, columns):\n",
    "            dp[i][j] = min(dp[i - 1][j], dp[i][j - 1]) + grid[i][j]\n",
    "\n",
    "    print(opt)\n",
    "    return opt[n_row-1][n_col-1]"
   ]
  },
  {
   "cell_type": "markdown",
   "metadata": {},
   "source": [
    "空间复杂度可以优化，例如每次只存储上一行的 dp\\textit{dp}dp 值，则可以将空间复杂度优化到 O(n)O(n)O(n)。"
   ]
  }
 ],
 "metadata": {
  "interpreter": {
   "hash": "96b3db1ba501e2036d5ffa359dd7a984d144cc5b19755c3a7f94483ac299aa27"
  },
  "kernelspec": {
   "display_name": "Python 3.8.5 ('trading')",
   "language": "python",
   "name": "python3"
  },
  "language_info": {
   "codemirror_mode": {
    "name": "ipython",
    "version": 3
   },
   "file_extension": ".py",
   "mimetype": "text/x-python",
   "name": "python",
   "nbconvert_exporter": "python",
   "pygments_lexer": "ipython3",
   "version": "3.8.5"
  },
  "orig_nbformat": 4
 },
 "nbformat": 4,
 "nbformat_minor": 2
}
