{
 "cells": [
  {
   "cell_type": "markdown",
   "metadata": {},
   "source": [
    "## 数组"
   ]
  },
  {
   "cell_type": "markdown",
   "metadata": {},
   "source": [
    "* sentinel dict/array/stack, one or multiple as needed. 697, 485\n"
   ]
  },
  {
   "cell_type": "markdown",
   "metadata": {},
   "source": [
    "### 283 Move Zeroes\n",
    "Given an integer array nums, move all 0's to the end of it while maintaining the relative order of the non-zero elements.\n",
    "\n",
    "Note that you must do this in-place without making a copy of the array."
   ]
  },
  {
   "cell_type": "markdown",
   "metadata": {},
   "source": [
    "* 不能pop 然后 append。 pop之后list change in place\n",
    "* https://pic.leetcode-cn.com/9669b4ffb158eaeeee6f0cd66a70f24411575edab1ab8a037c4c9084b1c743f5-283_1.gif"
   ]
  },
  {
   "cell_type": "code",
   "execution_count": 18,
   "metadata": {},
   "outputs": [],
   "source": [
    "def moveZeroes(nums):\n",
    "    \"\"\"\n",
    "    :type nums: List[int]\n",
    "    :rtype: None Do not return anything, modify nums in-place instead.\n",
    "    \"\"\"\n",
    "    i = 0; j = 0\n",
    "    while i <= len(nums)-1:\n",
    "        if nums[i] == 0:\n",
    "            i = i+1\n",
    "        else:\n",
    "            nums[j] = nums[i]\n",
    "            j = j+1\n",
    "            i = i+1\n",
    "    while j <= len(nums)-1:\n",
    "        nums[j] = 0\n",
    "        j = j+1\n",
    "    return nums"
   ]
  },
  {
   "cell_type": "markdown",
   "metadata": {},
   "source": [
    "### 566. Reshape the Matrix"
   ]
  },
  {
   "cell_type": "markdown",
   "metadata": {},
   "source": [
    "mat = [[1,2],[3,4]]Input: , r = 1, c = 4\n",
    "Output: [[1,2,3,4]]"
   ]
  },
  {
   "cell_type": "code",
   "execution_count": 29,
   "metadata": {},
   "outputs": [],
   "source": [
    "def matrixReshape(mat, r, c):\n",
    "    \"\"\"\n",
    "    :type mat: List[List[int]]\n",
    "    :type r: int\n",
    "    :type c: int\n",
    "    :rtype: List[List[int]]\n",
    "    \"\"\"\n",
    "\n",
    "    new_mat = [[0]*c]*r\n",
    "    flat_mat = [i for m in mat for i in m]\n",
    "    size = len(mat) * len(mat[0])\n",
    "    for i in range(size):\n",
    "        m = i//c\n",
    "        n = i%c\n",
    "        new_mat[m][n] = flat_mat[i]\n",
    "    return new_mat\n"
   ]
  },
  {
   "cell_type": "markdown",
   "metadata": {},
   "source": [
    "### 485 Max Consecutive Ones\n",
    "Given a binary array nums, return the maximum number of consecutive 1's in the array.  \n",
    "Input: nums = [1,1,0,1,1,1]\n",
    "Output: 3"
   ]
  },
  {
   "cell_type": "code",
   "execution_count": 3,
   "metadata": {},
   "outputs": [],
   "source": [
    "def findMaxConsecutiveOnes(nums):\n",
    "    max_one = 0\n",
    "    local_one = 0 ### Use sentinel\n",
    "    i = 0\n",
    "    while (i < len(nums)):\n",
    "        if nums[i] == 1:\n",
    "            local_one = local_one + 1\n",
    "            max_one = max_one if max_one > local_one else local_one\n",
    "            i = i + 1\n",
    "        else:\n",
    "            local_one = 0\n",
    "            i = i + 1\n",
    "    return max_one\n"
   ]
  },
  {
   "cell_type": "markdown",
   "metadata": {},
   "source": [
    "### 766 Toeplitz Matrix\n",
    "Given an m x n matrix, return true if the matrix is Toeplitz. Otherwise, return false.\n",
    "\n",
    "A matrix is Toeplitz if every diagonal from top-left to bottom-right has the same elements.\n"
   ]
  },
  {
   "cell_type": "code",
   "execution_count": 6,
   "metadata": {},
   "outputs": [],
   "source": [
    "def isToeplitzMatrix(matrix):\n",
    "    m = len(matrix)\n",
    "    n = len(matrix[0])\n",
    "    check = True\n",
    "    for i in range(m-1):\n",
    "        for j in range(n-1):\n",
    "            # if i+1 < m and j+1 < n:\n",
    "            if matrix[i][j] == matrix[i+1][j+1]:\n",
    "                continue\n",
    "            else:\n",
    "                check = False\n",
    "                break\n",
    "    return check\n"
   ]
  },
  {
   "cell_type": "markdown",
   "metadata": {},
   "source": [
    "\n",
    "### 697 Degree of an Array\n",
    "Given a non-empty array of non-negative integers nums, the degree of this array is defined as the maximum frequency of any one of its elements.\n",
    "\n",
    "Your task is to find the smallest possible length of a (contiguous) subarray of nums, that has the same degree as nums.\n",
    "\n",
    "Input: nums = [1,2,2,3,1]  \n",
    "Output: 2  \n",
    "Explanation:   \n",
    "The input array has a degree of 2 because both elements 1 and 2 appear twice.\n",
    "Of the subarrays that have the same degree:\n",
    "[1, 2, 2, 3, 1], [1, 2, 2, 3], [2, 2, 3, 1], [1, 2, 2], [2, 2, 3], [2, 2]\n",
    "The shortest length is 2. So return 2."
   ]
  },
  {
   "cell_type": "code",
   "execution_count": 4,
   "metadata": {},
   "outputs": [],
   "source": [
    "\n",
    "### 一次loop，count同时找到value第一次和最后一次出现的位置\n",
    "def findShortestSubArray(nums: List[int]) -> int:\n",
    "    counter, left, right = dict(), dict(), dict()\n",
    "    # counter = collections.Counter()\n",
    "    for i, num in enumerate(nums):\n",
    "        counter[num] = counter.get(num, 0) + 1\n",
    "        if num not in left:\n",
    "            left[num] = i\n",
    "        right[num] = i\n",
    "        # counter[num] += 1\n",
    "    degree = max(counter.values())\n",
    "    res = len(nums)\n",
    "    for k, v in counter.items():\n",
    "        if v == degree:\n",
    "            res = min(res, right[k] - left[k] + 1)\n",
    "    return res"
   ]
  },
  {
   "cell_type": "markdown",
   "metadata": {},
   "source": [
    "### 240. Search a 2D Matrix II\n",
    "Write an efficient algorithm that searches for a value target in an m x n integer matrix matrix. This matrix has the following properties:\n",
    "\n",
    "Integers in each row are sorted in ascending from left to right.\n",
    "Integers in each column are sorted  in ascending from top to bottom."
   ]
  },
  {
   "cell_type": "code",
   "execution_count": null,
   "metadata": {},
   "outputs": [],
   "source": [
    "# binary search\n",
    "def searchMatrix(self, matrix: List[List[int]], target: int) -> bool:\n",
    "    def bisect(line, target):\n",
    "        i = 0; j = len(line) - 1\n",
    "        while i <= j:\n",
    "            mid = i + (j-i)//2\n",
    "            if line[mid] == target:\n",
    "                return target\n",
    "            elif line[mid] < target:\n",
    "                i = mid + 1\n",
    "            else:\n",
    "                j = mid - 1\n",
    "        return False\n",
    "    res = False\n",
    "    for line in matrix:\n",
    "        fond = bisect(line, target)\n",
    "        if found is not False:\n",
    "            res = found\n",
    "        else:\n",
    "            continue\n",
    "    return res"
   ]
  },
  {
   "cell_type": "code",
   "execution_count": null,
   "metadata": {},
   "outputs": [],
   "source": [
    "def searchMatrix(self, matrix: List[List[int]], target: int) -> bool:\n",
    "    m = len(matrix); n = len(matrix[0])\n",
    "    i = 0; j = n - 1\n",
    "    while i <= m-1 and j >= 0:\n",
    "        curr = matrix[i][j]\n",
    "        if curr == target:\n",
    "            return target\n",
    "        elif curr > target:\n",
    "            j -= 1\n",
    "        else:\n",
    "            i += 1\n",
    "    return False"
   ]
  },
  {
   "cell_type": "markdown",
   "metadata": {},
   "source": [
    "### 378. Kth Smallest Element in a Sorted Matrix\n",
    "Given an n x n matrix where each of the rows and columns is sorted in ascending order, return the kth smallest element in the matrix.\n",
    "\n",
    "Note that it is the kth smallest element in the sorted order, not the kth distinct element.\n",
    "\n",
    "You must find a solution with a memory complexity better than O(n2)."
   ]
  },
  {
   "cell_type": "markdown",
   "metadata": {},
   "source": [
    "Idea:\n",
    "* 归并排序\n",
    "* binary search how much elements < k: https://leetcode.cn/problems/kth-smallest-element-in-a-sorted-matrix/solution/you-xu-ju-zhen-zhong-di-kxiao-de-yuan-su-by-leetco/"
   ]
  },
  {
   "cell_type": "code",
   "execution_count": null,
   "metadata": {},
   "outputs": [],
   "source": [
    "def kthSmallest(self, matrix: List[List[int]], k: int) -> int:\n",
    "    import heapq as hp\n",
    "    heap = [y for x in matrix for y in x]\n",
    "    hp.heapify(heap)\n",
    "    for i in range(k-1):\n",
    "        hp.heappop(heap)\n",
    "    return hp.heappop(heap)\n"
   ]
  },
  {
   "cell_type": "code",
   "execution_count": null,
   "metadata": {},
   "outputs": [],
   "source": [
    "# https://leetcode.cn/problems/kth-smallest-element-in-a-sorted-matrix/solution/shi-yong-dui-heapde-si-lu-xiang-jie-ling-fu-python/\n",
    "\n",
    "class Solution:\n",
    "    def kthSmallest(self, matrix: List[List[int]], k: int) -> int:\n",
    "        n = len(matrix) #注：题目中这个矩阵是n*n的，所以长宽都是n\n",
    "\n",
    "        pq = [(matrix[i][0], i, 0) for i in range(n)] #取出第一列候选人\n",
    "        #matrix[i][0]是具体的值，后面的(i,0)是在记录候选人在矩阵中的位置，方便每次右移添加下一个候选人\n",
    "\n",
    "        heapq.heapify(pq) #变成一个heap\n",
    "\n",
    "        for i in range(k - 1): #一共弹k次：这里k-1次，return的时候1次\n",
    "            num, x, y = heapq.heappop(pq) #弹出候选人里最小一个\n",
    "            if y != n - 1: #如果这一行还没被弹完\n",
    "                heapq.heappush(pq, (matrix[x][y + 1], x, y + 1)) #加入这一行的下一个候选人\n",
    "        \n",
    "        return heapq.heappop(pq)[0]"
   ]
  },
  {
   "cell_type": "markdown",
   "metadata": {},
   "source": [
    "### 287. Find the Duplicate Number\n",
    "Given an array of integers nums containing n + 1 integers where each integer is in the range [1, n] inclusive.\n",
    "\n",
    "There is only one repeated number in nums, return this repeated number.\n",
    "\n",
    "solve the problem without modifying the array nums and uses only constant extra space."
   ]
  },
  {
   "cell_type": "markdown",
   "metadata": {},
   "source": [
    "Idea:\n",
    "* 环形链表， 快慢指针\n",
    " https://leetcode-cn.com/problems/find-the-duplicate-number/solution/287-xun-zhao-zhong-fu-shu-by-ming-zhi-shan-you-m9r/       \n",
    " https://leetcode-cn.com/problems/find-the-duplicate-number/solution/xun-zhao-zhong-fu-shu-by-leetcode-solution/\n",
    " * 这道题只能使用常数的额外空间, 采用二分法，多次遍历数组，以时间换取空间 \n",
    "    [1,3,4,2,2]\n",
    "    nums\t1\t2\t3\t4\n",
    "    cnt\t    1\t3\t4\t5  # 计算input里  <= nums[i]的个数。第一次nums[i] < i 就是重复元素\n",
    "* 1.数组中有一个重复的整数 <==> 链表中存在环  \n",
    "2.找到数组中的重复整数 <==> 找到链表的环入口"
   ]
  },
  {
   "cell_type": "code",
   "execution_count": null,
   "metadata": {},
   "outputs": [],
   "source": [
    "def findDuplicate(self, nums: List[int]) -> int:\n",
    "    n = len(nums)\n",
    "    l, r = 1, n\n",
    "    while l <= r:\n",
    "        mid = l+ (r - l)//2\n",
    "        count = 0\n",
    "        for num in nums:\n",
    "            if num <= mid:\n",
    "                count += 1\n",
    "        if count > mid:\n",
    "            r = mid\n",
    "        else:\n",
    "            l = mid + 1\n",
    "    return l"
   ]
  },
  {
   "cell_type": "code",
   "execution_count": null,
   "metadata": {},
   "outputs": [],
   "source": [
    "def findDuplicate(nums: List[int]) -> int:\n",
    "    slow = nums[0]; fast = nums[nums[0]]\n",
    "    while slow != fast: \n",
    "        slow = nums[slow]\n",
    "        fast = nums[nums[fast]]\n",
    "    # after while loop, slow and fast could encounter in anywhere of the loop, but need to find the entry of the loop\n",
    "    slow = 0\n",
    "    while slow != fast:\n",
    "        slow = nums[slow]\n",
    "        fast = nums[fast]\n",
    "    return slow"
   ]
  }
 ],
 "metadata": {
  "interpreter": {
   "hash": "96b3db1ba501e2036d5ffa359dd7a984d144cc5b19755c3a7f94483ac299aa27"
  },
  "kernelspec": {
   "display_name": "base",
   "language": "python",
   "name": "base"
  },
  "language_info": {
   "codemirror_mode": {
    "name": "ipython",
    "version": 3
   },
   "file_extension": ".py",
   "mimetype": "text/x-python",
   "name": "python",
   "nbconvert_exporter": "python",
   "pygments_lexer": "ipython3",
   "version": "3.8.5"
  },
  "orig_nbformat": 4
 },
 "nbformat": 4,
 "nbformat_minor": 2
}
