{
 "cells": [
  {
   "cell_type": "code",
   "execution_count": null,
   "metadata": {},
   "outputs": [],
   "source": [
    "def bfs(root):\n",
    "    q = deque()\n",
    "    q.append(root)\n",
    "    res = []\n",
    "    while q:\n",
    "        node = q.popleft()\n",
    "        res.append(node)\n",
    "        if not node.left:\n",
    "            q.append(node.left)\n",
    "        if not node.right:\n",
    "            q.append(node.right)"
   ]
  },
  {
   "cell_type": "code",
   "execution_count": null,
   "metadata": {},
   "outputs": [],
   "source": [
    "\n",
    "def bfs(v):\n",
    "    marked = [False for _ ..]\n",
    "    q = deque()\n",
    "    q.append(v)\n",
    "    marked[v] = True\n",
    "    while q:\n",
    "        v = q.popleft()\n",
    "        for w in adj(v):\n",
    "            if not marked[w]:\n",
    "                marked[w] = True\n",
    "                q.append(w)"
   ]
  },
  {
   "cell_type": "code",
   "execution_count": null,
   "metadata": {},
   "outputs": [],
   "source": [
    "\n",
    "def bfs(v):\n",
    "    marked = [False for _ ..]\n",
    "    q = deque()\n",
    "    q.append(v)\n",
    "    while q:\n",
    "        v = q.popleft()\n",
    "        marked[v] = True\n",
    "        for w in adj(v):\n",
    "            if not marked[w]:\n",
    "                q.append(w)\n",
    "        "
   ]
  },
  {
   "cell_type": "markdown",
   "metadata": {},
   "source": [
    "### 102. Binary Tree Level Order Traversal\n",
    "Given the root of a binary tree, return the level order traversal of its nodes' values. (i.e., from left to right, level by level)."
   ]
  },
  {
   "cell_type": "code",
   "execution_count": null,
   "metadata": {},
   "outputs": [],
   "source": [
    "# Definition for a binary tree node.\n",
    "# class TreeNode:\n",
    "#     def __init__(self, val=0, left=None, right=None):\n",
    "#         self.val = val\n",
    "#         self.left = left\n",
    "#         self.right = right\n",
    "def levelOrder(root: TreeNode) -> List[List[int]]:\n",
    "    from collections import deque\n",
    "    queue = deque()\n",
    "    queue.append(root)\n",
    "    res = []\n",
    "    while queue:\n",
    "        level_value = []\n",
    "        for i in range(len(queue)):\n",
    "            node = queue.popleft()\n",
    "            level_value.append(node.val)\n",
    "            if node.left:\n",
    "                queue.append(node.left)\n",
    "            if node.right:\n",
    "                queue.append(node.right)\n",
    "        res.append(level_value)\n",
    "    return res"
   ]
  },
  {
   "cell_type": "markdown",
   "metadata": {},
   "source": [
    "### 637. Average of Levels in Binary Tree\n",
    "Given the root of a binary tree, return the average value of the nodes on each level in the form of an array.\n"
   ]
  },
  {
   "cell_type": "code",
   "execution_count": null,
   "metadata": {},
   "outputs": [],
   "source": [
    "# Definition for a binary tree node.\n",
    "# class TreeNode:\n",
    "#     def __init__(self, val=0, left=None, right=None):\n",
    "#         self.val = val\n",
    "#         self.left = left\n",
    "#         self.right = right\n",
    "class Solution:\n",
    "    def averageOfLevels(root: Optional[TreeNode]) -> List[float]:\n",
    "        from collections import deque\n",
    "        queue = deque()\n",
    "        queue.append(root)\n",
    "        res = []\n",
    "        while queue:\n",
    "            level_value = []\n",
    "            for _ in range(len(queue)):\n",
    "                node = queue.popleft()\n",
    "                level_value.append(node.val)\n",
    "                if node.left:\n",
    "                    queue.append(node.left)\n",
    "                if node.right:\n",
    "                    queue.append(node.right)\n",
    "            res.append(level_value)\n",
    "        res = [sum(i)/len(i) for i in res]\n",
    "        return res\n"
   ]
  },
  {
   "cell_type": "markdown",
   "metadata": {},
   "source": [
    "### 513. Find Bottom Left Tree Value\n",
    "Given the root of a binary tree, return the leftmost value in the last row of the tree."
   ]
  },
  {
   "cell_type": "code",
   "execution_count": null,
   "metadata": {},
   "outputs": [],
   "source": [
    "def findBottomLeftValue(root: Optional[TreeNode]) -> int:\n",
    "    from collections import deque\n",
    "    queue = deque()\n",
    "    queue.append(root)\n",
    "    tree = []\n",
    "    while queue:\n",
    "        level = []\n",
    "        for _ in range(len(queue)):\n",
    "            node = queue.popleft()\n",
    "            level.append(node.val)\n",
    "            if node.left:\n",
    "                queue.append(node.left)\n",
    "            if node.right:\n",
    "                queue.append(node.right)\n",
    "        tree.append(level)\n",
    "    res = tree[-1][0]\n",
    "    return res\n",
    "\n"
   ]
  },
  {
   "cell_type": "markdown",
   "metadata": {},
   "source": [
    "### 934. Shortest Bridge"
   ]
  },
  {
   "cell_type": "code",
   "execution_count": null,
   "metadata": {},
   "outputs": [],
   "source": [
    "def shortestBridge(grid: List[List[int]]) -> int:\n",
    "    m = len(grid)\n",
    "    n = len(grid[0])\n",
    "    def in_grid(x, y):\n",
    "        return x >=0 and x < n and y >= 0 and y < m\n",
    "    marked = [[-1 for _ in range(n)] for _ in range(m)]\n",
    "    source = []\n",
    "    def dfs(x, y):\n",
    "        marked[x][y] = 2\n",
    "        source.append((x, y))\n",
    "        for (new_x, new_y) in [(x-1, y), (x+1, y), (x, y-1), (x, y+1)]:\n",
    "            if in_grid(new_x, new_y) and marked[new_x][new_y] != 2 and grid[new_x][new_y] == 1:\n",
    "                dfs(new_x, new_y)\n",
    "\n",
    "    for i in range(m):\n",
    "        for j in range(n):\n",
    "            if grid[i][j]:\n",
    "                print((i, j))\n",
    "                dfs(i, j) \n",
    "                break   \n",
    "        else: # `for .. else..`: Used to break Nested loop \n",
    "            continue\n",
    "        break\n",
    "    print(source)\n",
    "\n",
    "    # Put source in queue to star BFS\n",
    "    from collections import deque\n",
    "    # q = deque()\n",
    "    # for i in source:\n",
    "    #     q.append(i)\n",
    "    q = deque(source)\n",
    "\n",
    "    # BFS search\n",
    "    distance = 0\n",
    "    while q:\n",
    "        for _ in range(len(q)):\n",
    "            node = q.popleft()\n",
    "            x, y = node\n",
    "            for (new_x, new_y) in [(x-1, y), (x+1, y), (x, y-1), (x, y+1)]:\n",
    "                if in_grid(new_x, new_y) and marked[new_x][new_y] != 2:\n",
    "                    if grid[new_x][new_y] == 1:\n",
    "                        return distance\n",
    "                    else:\n",
    "                        marked[new_x][new_y] = 2\n",
    "                        q.append((new_x, new_y))\n",
    "        distance += 1\n",
    "\n"
   ]
  },
  {
   "cell_type": "markdown",
   "metadata": {},
   "source": [
    "### 310. Minimum Height Trees\n",
    "When you select a node x as the root, the result tree has height h. Among all possible rooted trees, those with minimum height (i.e. min(h))  are called minimum height trees (MHTs)."
   ]
  },
  {
   "cell_type": "markdown",
   "metadata": {},
   "source": [
    "Idea:\n",
    "* brutal force:Use bfs to search each point, O(n^2)\n",
    "* Start from point with degree of 1, then search inwards"
   ]
  },
  {
   "cell_type": "code",
   "execution_count": 28,
   "metadata": {},
   "outputs": [],
   "source": [
    "def findMinHeightTrees(n: int, edges: List[List[int]]) -> List[int]:\n",
    "    from collections import deque\n",
    "    adj = [[] for _ in range(n)]\n",
    "    # for edge in edges:\n",
    "    #     adj[edge[0]].append(edge[1])\n",
    "    #     adj[edge[1]].append(edge[0])\n",
    "    for v, w in edges:\n",
    "        adj[v].append(w)\n",
    "        adj[w].append(v)\n",
    "    def bfs(root):\n",
    "        marked = [False for _ in range(n)]\n",
    "        distance = 0\n",
    "        q = deque()\n",
    "        q.append(root)\n",
    "        while q:\n",
    "            for _ in range(len(q)):\n",
    "                v = q.popleft()\n",
    "                marked[v] = True\n",
    "                for w in adj[v]:\n",
    "                    if not marked[w]:\n",
    "                        q.append(w)\n",
    "            distance += 1\n",
    "        return distance\n",
    "    distances = [bfs(i) for i in range(n)]\n",
    "    print(distances)\n",
    "    min_dist = min(distances)\n",
    "    res = [i for i, j in enumerate(distances) if j == min_dist]\n",
    "    return res\n",
    "    "
   ]
  },
  {
   "cell_type": "markdown",
   "metadata": {},
   "source": [
    "越是靠里面的节点越有可能是最小高度树。先找到所有出度为1的节点，然后把所有出度为1的节点进队列，然后更新degree，重新从degree 1 开始bfs，最后找到的就是两边同时向中间靠近的节点，那么这个中间节点就相当于把整个距离二分了"
   ]
  },
  {
   "cell_type": "code",
   "execution_count": 8,
   "metadata": {},
   "outputs": [],
   "source": [
    "from typing import List\n",
    "def findMinHeightTrees(n: int, edges: List[List[int]]) -> List[int]:\n",
    "    from collections import deque\n",
    "    if not edges:\n",
    "        return [0]\n",
    "    adj = [[] for _ in range(n)]\n",
    "    degrees = [0]*n\n",
    "    for v, w in edges:\n",
    "        degrees[v] += 1\n",
    "        degrees[w] += 1\n",
    "        adj[v].append(w)\n",
    "        adj[w].append(v)\n",
    "    # degrees = [len(i) for i in adj]\n",
    "    # leaf nodes\n",
    "    leafs = [v for v, degree in enumerate(degrees) if degree==1]\n",
    "    # marked = [True if i in leafs else False for i in range(n) ]\n",
    "    # put in queue\n",
    "    q = deque(leafs)\n",
    "    # bfs\n",
    "    import copy\n",
    "    while q:\n",
    "        res = copy.deepcopy(q) # record the last nonempty layer\n",
    "        for _ in range(len(q)):\n",
    "            v = q.popleft()\n",
    "            for w in adj[v]:\n",
    "                degrees[w] -= 1 # key step. \n",
    "                if degrees[w] == 1:\n",
    "                # if not marked[w] and degrees[w] == 1: # key step\n",
    "                    # marked[w] = True\n",
    "                    q.append(w) \n",
    "    return list(res)"
   ]
  },
  {
   "cell_type": "code",
   "execution_count": 9,
   "metadata": {},
   "outputs": [
    {
     "data": {
      "text/plain": [
       "[1, 2]"
      ]
     },
     "execution_count": 9,
     "metadata": {},
     "output_type": "execute_result"
    }
   ],
   "source": [
    "from typing import List\n",
    "n = 7\n",
    "edges = [[0,1],[1,2],[1,3],[2,4],[3,5],[4,6]]\n",
    "findMinHeightTrees(n, edges)"
   ]
  },
  {
   "cell_type": "code",
   "execution_count": null,
   "metadata": {},
   "outputs": [],
   "source": []
  }
 ],
 "metadata": {
  "kernelspec": {
   "display_name": "base",
   "language": "python",
   "name": "base"
  },
  "language_info": {
   "codemirror_mode": {
    "name": "ipython",
    "version": 3
   },
   "file_extension": ".py",
   "mimetype": "text/x-python",
   "name": "python",
   "nbconvert_exporter": "python",
   "pygments_lexer": "ipython3",
   "version": "3.8.5"
  },
  "orig_nbformat": 4
 },
 "nbformat": 4,
 "nbformat_minor": 2
}
