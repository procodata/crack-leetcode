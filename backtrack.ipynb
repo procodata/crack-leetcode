{
 "cells": [
  {
   "cell_type": "markdown",
   "metadata": {},
   "source": [
    "Corn Maze exploration\n",
    "其实是暴力法"
   ]
  },
  {
   "cell_type": "markdown",
   "metadata": {},
   "source": [
    "### 17. Letter Combinations of a Phone Number\n",
    "Given a string containing digits from 2-9 inclusive, return all possible letter combinations that the number could represent. Return the answer in any order.\n",
    "\n",
    "Input: digits = \"23\"\n",
    "Output: [\"ad\",\"ae\",\"af\",\"bd\",\"be\",\"bf\",\"cd\",\"ce\",\"cf\"]"
   ]
  },
  {
   "cell_type": "markdown",
   "metadata": {},
   "source": [
    "Idea:\n",
    "* BFS or DFS"
   ]
  },
  {
   "cell_type": "markdown",
   "metadata": {},
   "source": [
    "回溯算法有三个要点：\n",
    "\n",
    "选择\n",
    "决定了你每个节点有哪些分支，帮助你构建出解的空间树。\n",
    "本题的选择就是，每个数字对应的多个字母，选择翻译成其中一个字母，就继续递归\n",
    "约束条件\n",
    "用来剪枝，剪去不满足约束条件的子树，避免无效的搜索。这题好像没怎么体现\n",
    "目标\n",
    "决定了何时捕获解，或者剪去得不到解的子树，提前回溯。扫描数字的指针到头了就可以将解加入解集了。"
   ]
  },
  {
   "cell_type": "code",
   "execution_count": null,
   "metadata": {},
   "outputs": [],
   "source": [
    "def letterCombinations(digits: str) -> List[str]:\n",
    "    if not digits:\n",
    "            return list()\n",
    "        \n",
    "        phoneMap = {\n",
    "            \"2\": \"abc\",\n",
    "            \"3\": \"def\",\n",
    "            \"4\": \"ghi\",\n",
    "            \"5\": \"jkl\",\n",
    "            \"6\": \"mno\",\n",
    "            \"7\": \"pqrs\",\n",
    "            \"8\": \"tuv\",\n",
    "            \"9\": \"wxyz\",\n",
    "        }\n",
    "\n",
    "        def backtrack(index: int):\n",
    "            if index == len(digits):\n",
    "                combinations.append(\"\".join(combination))\n",
    "            else:\n",
    "                digit = digits[index]\n",
    "                for letter in phoneMap[digit]:\n",
    "                    combination.append(letter)\n",
    "                    backtrack(index + 1)\n",
    "                    combination.pop()\n",
    "\n",
    "        combination = list()\n",
    "        combinations = list()\n",
    "        backtrack(0)\n",
    "        return combinations"
   ]
  },
  {
   "cell_type": "code",
   "execution_count": null,
   "metadata": {},
   "outputs": [],
   "source": [
    "def letterCombinations(self, digits: str) -> List[str]:\n",
    "    letter = {\n",
    "        '2':'abc',\n",
    "        '3':'def',\n",
    "        '4':'ghi',\n",
    "        '5':'jkl',\n",
    "        '6':'mno',\n",
    "        '7':'pqrs',\n",
    "        '8':'tuv',\n",
    "        '9':'wxyz'\n",
    "    }\n",
    "    self.res = []\n",
    "    # 构建辅助函数\n",
    "    def helper(digits, index, res):\n",
    "        ## 如果搜寻到最后一个字符，就找到了一组字母组合，保存\n",
    "        if index >= len(digits):\n",
    "            self.res.append(res)\n",
    "            return \n",
    "        ## 对于树形结构进行遍历\n",
    "        for i in letter[digits[index]]: # when recursive helper returns, move on in the for loop\n",
    "            helper(digits, index+1, res + [i]) # avoid global combination which need append and pop\n",
    "        return \n",
    "\n",
    "    if not digits: return self.res\n",
    "    helper(digits, 0, [])\n",
    "    \n",
    "    return [''.join(character) for character in self.res]"
   ]
  },
  {
   "cell_type": "markdown",
   "metadata": {},
   "source": [
    "### 93. Restore IP Addresses\n",
    "A valid IP address consists of exactly four integers separated by single dots. Each integer is between 0 and 255 (inclusive) and cannot have leading zeros.\n",
    "\n",
    "For example, \"0.1.2.201\" and \"192.168.1.1\" are valid IP addresses, but \"0.011.255.245\", \"192.168.1.312\" and \"192.168@1.1\" are invalid IP addresses.\n",
    "\n",
    "Given a string s containing only digits, return all possible valid IP addresses that can be formed by inserting dots into s\n",
    "\n",
    "Input: s = \"25525511135\"\n",
    "Output: [\"255.255.11.135\",\"255.255.111.35\"]"
   ]
  },
  {
   "cell_type": "markdown",
   "metadata": {},
   "source": [
    "Idea:\n",
    "* https://leetcode-cn.com/problems/restore-ip-addresses/solution/shou-hua-tu-jie-huan-yuan-dfs-hui-su-de-xi-jie-by-/\n",
    "* parameter of dfs:\n",
    "    * path\n",
    "    * state of recursion, could use index or sub-input"
   ]
  },
  {
   "cell_type": "code",
   "execution_count": null,
   "metadata": {},
   "outputs": [],
   "source": [
    "def restoreIpAddresses(s: str) -> List[str]:\n",
    "    res = []\n",
    "    def dfs(subRes, start): \n",
    "        # 片段满4段，且耗尽所有字符\n",
    "        if (len(subRes) == 4 and start == len(s)):\n",
    "            res.append('.'.join(subRes))\n",
    "            return\n",
    "        if (len(subRes) == 4 and start < len(s)):\n",
    "            return\n",
    "        for i in range(1, 4):\n",
    "            if (start + i -1 > len(s)): return\n",
    "            if (i > 1 and s[start] == '0'): return\n",
    "            seg = s[start: start+i]\n",
    "            if (i == 3 and int(seg) > 255): return\n",
    "\n",
    "            # subRes.append(seg)\n",
    "            # dfs(subRes, start+i)\n",
    "            # subRes.pop()\n",
    "            dfs(subRes+[seg], start+i) # subRes+[seg] doesnt' modify subRes, just pass a value\n",
    "    dfs([], 0)\n",
    "    return res\n"
   ]
  },
  {
   "cell_type": "code",
   "execution_count": null,
   "metadata": {},
   "outputs": [],
   "source": [
    "class Solution:\n",
    "    def restoreIpAddresses(self, s: str) -> List[str]:\n",
    "        self.res = []\n",
    "        ## 定义辅助函数\n",
    "        def helper(s,flag,  ip):\n",
    "        ## 分离得到四部分之后保存结果\n",
    "            if flag == 4 and s =='':\n",
    "                    self.res.append(ip[:-1])\n",
    "                return\n",
    "            ## ip的每一部分都在0到255之间，最多三位\n",
    "            for i in range(1,4):\n",
    "                if i > len(s): continue\n",
    "                if int(s[:i]) < 256:\n",
    "                    helper(s[i:], flag + 1, ip +s[:i]+ '.')\n",
    "                    if s[0] == '0': break\n",
    "            return\n",
    "        helper(s,0, '')\n",
    "        return self.res"
   ]
  },
  {
   "cell_type": "markdown",
   "metadata": {},
   "source": [
    "### 131. Palindrome Partitioning\n",
    "Given a string s, partition s such that every substring of the partition is a palindrome. Return all possible palindrome partitioning of s.  \n",
    "A palindrome string is a string that reads the same backward as forward.\n",
    "\n",
    "Input: s = \"aab\"\n",
    "Output: [[\"a\",\"a\",\"b\"],[\"aa\",\"b\"]]"
   ]
  },
  {
   "cell_type": "code",
   "execution_count": 21,
   "metadata": {},
   "outputs": [],
   "source": [
    "\n",
    "from typing import List\n",
    "def partition(s: str) -> List[List[str]]:\n",
    "    res = []\n",
    "    \n",
    "\n",
    "    def dfs(path, start):\n",
    "        if start == len(s):\n",
    "            res.append(path)\n",
    "            return\n",
    "        for end in range(start, len(s)):\n",
    "            seg = s[start: end+1]\n",
    "            if is_palindrome(seg):\n",
    "                dfs(path+[seg], end+1)\n",
    "            else:\n",
    "                continue # return or break will eliminate all following possibilities. 'aba', though 'ab' is not palindrome, but 'aba' could be\n",
    "    @cache # remember previous calculation\n",
    "    def is_palindrome(s):\n",
    "        i = 0\n",
    "        j = len(s) - 1\n",
    "        while (i <= j):\n",
    "            if s[i] == s[j]:\n",
    "                i += 1\n",
    "                j -= 1\n",
    "                continue\n",
    "            else:\n",
    "                return False\n",
    "        return True\n",
    "\n",
    "    dfs([], 0)\n",
    "    # isPalindrome.cache_clear()\n",
    "    return res"
   ]
  },
  {
   "cell_type": "markdown",
   "metadata": {},
   "source": [
    "## 46 Permutations\n",
    "Given an array nums of distinct integers, return all the possible permutations."
   ]
  },
  {
   "cell_type": "code",
   "execution_count": 45,
   "metadata": {},
   "outputs": [],
   "source": [
    "def permute(nums: List[int]) -> List[List[int]]:\n",
    "    res = []\n",
    "    def dfs(path, sub_num):\n",
    "        if not sub_num:\n",
    "            res.append(path)\n",
    "            return\n",
    "        for i in range(len(sub_num)):\n",
    "            dfs(path + [sub_num[i]], sub_num[:i] + sub_num[i+1:])\n",
    "    dfs([], nums)\n",
    "    return res"
   ]
  },
  {
   "cell_type": "code",
   "execution_count": 49,
   "metadata": {},
   "outputs": [],
   "source": [
    "def permute(nums: List[int]) -> List[List[int]]:\n",
    "    res = []\n",
    "    def dfs(path, sub_num):\n",
    "        if not sub_num:\n",
    "            res.append(path)\n",
    "            return\n",
    "        for i in sub_num:\n",
    "            from copy import deepcopy\n",
    "            sub_num2 = deepcopy(sub_num)\n",
    "            sub_num2.remove(i)\n",
    "            dfs(path + [i], sub_num2)\n",
    "    dfs([], nums)\n",
    "    return res"
   ]
  },
  {
   "cell_type": "markdown",
   "metadata": {},
   "source": [
    "### 47. Permutations II\n",
    "Given a collection of numbers, nums, that might contain duplicates, return all possible unique permutations in any order.\n"
   ]
  },
  {
   "cell_type": "code",
   "execution_count": 57,
   "metadata": {},
   "outputs": [],
   "source": [
    "def permuteUnique(nums: List[int]) -> List[List[int]]:\n",
    "    res = []\n",
    "    def dfs(path, res_nums):\n",
    "        if not res_nums:\n",
    "            if path not in res:\n",
    "                res.append(path)\n",
    "            return\n",
    "        for i in range(len(res_nums)):\n",
    "            dfs(path+[res_nums[i]], res_nums[:i] + res_nums[i+1:])\n",
    "\n",
    "    dfs([], nums)\n",
    "    return res"
   ]
  },
  {
   "cell_type": "code",
   "execution_count": 63,
   "metadata": {},
   "outputs": [],
   "source": [
    "def permuteUnique(nums: List[int]) -> List[List[int]]:\n",
    "\n",
    "    def helper(nums, res):\n",
    "        if not nums:\n",
    "            res.append(res)\n",
    "            return\n",
    "\n",
    "        for i in range(len(nums)):\n",
    "            if nums[i] in nums[:i]: continue\n",
    "            helper(nums[:i] + nums[i+1:], res+[nums[i]]) # ??\n",
    "        return\n",
    "    \n",
    "    res = []\n",
    "    helper(nums, [])\n",
    "    return res"
   ]
  },
  {
   "cell_type": "markdown",
   "metadata": {},
   "source": [
    "### 77. Combinations\n",
    "Given two integers n and k, return all possible combinations of k numbers out of the range [1, n]."
   ]
  },
  {
   "cell_type": "code",
   "execution_count": 92,
   "metadata": {},
   "outputs": [],
   "source": [
    "def combine(n: int, k: int) -> List[List[int]]:\n",
    "    res = []\n",
    "    def dfs(path, cnt, sub): # cnt  已有元素个数\n",
    "        if cnt == k:\n",
    "            res.append(path)\n",
    "            return\n",
    "        else:\n",
    "            for i in range(len(sub)):\n",
    "                if len(sub) < k-cnt: continue # 提前终止一部分，因为遍历到最后，如果剩余的元素少于所需要结果的长度，就提前终止。\n",
    "                dfs(path + [sub[i]], cnt+1, sub[i+1:])\n",
    "    dfs([], 0, list(range(1, n+1)))             \n",
    "    return res\n"
   ]
  },
  {
   "cell_type": "markdown",
   "metadata": {},
   "source": [
    "### 39. Combination Sum\n",
    "Given an array of distinct integers candidates and a target integer target, return a list of all unique combinations of candidates where the chosen numbers sum to target.  \n",
    "The same number may be chosen from candidates an unlimited number of times. Two combinations are unique if the frequency of at least one of the chosen numbers is different.  \n",
    "\n",
    "Input: candidates = [2,3,6,7], target = 7\n",
    "    Output: [[2,2,3],[7]]"
   ]
  },
  {
   "cell_type": "code",
   "execution_count": 94,
   "metadata": {},
   "outputs": [],
   "source": [
    "def combinationSum(candidates: List[int], target: int) -> List[List[int]]:\n",
    "    res = []\n",
    "    def dfs(path, sub):\n",
    "        if sum(path) == target:\n",
    "            res.append(path)\n",
    "            return\n",
    "        if sum(path) > target:\n",
    "            return\n",
    "        for i in range(len(sub)):\n",
    "            dfs(path + [sub[i]], sub[i:]) # 一个元素可以多次选择，因此这里层的起始索引不再是i+1，而是i\n",
    "    dfs([], candidates)\n",
    "    return res\n"
   ]
  },
  {
   "cell_type": "markdown",
   "metadata": {},
   "source": [
    "### 40. Combination Sum II\n",
    "Given a collection of candidate numbers (candidates) and a target number (target), find all unique combinations in candidates where the candidate numbers sum to target.\n",
    "\n",
    "Each number in candidates may only be used once in the combination.  \n",
    "\n",
    "Input: candidates = [10,1,2,7,6,1,5], target = 8\n",
    "Output: \n",
    "[\n",
    "[1,1,6],\n",
    "[1,2,5],\n",
    "[1,7],\n",
    "[2,6]\n",
    "]"
   ]
  },
  {
   "cell_type": "code",
   "execution_count": null,
   "metadata": {},
   "outputs": [],
   "source": [
    "def combinationSum2(candidates: List[int], target: int) -> List[List[int]]:\n",
    "    res = []\n",
    "    def dfs(path, sub):\n",
    "        if sum(path) == target:\n",
    "            res.append(path)\n",
    "            return\n",
    "        if sum(path) > target:\n",
    "            return\n",
    "        for i in range(len(sub)):\n",
    "            dfs(path + [sub[i]], sub[i+1:]) # ?? 排序\n",
    "    dfs([], candidates)\n",
    "    return res"
   ]
  }
 ],
 "metadata": {
  "interpreter": {
   "hash": "767d51c1340bd893661ea55ea3124f6de3c7a262a8b4abca0554b478b1e2ff90"
  },
  "kernelspec": {
   "display_name": "base",
   "language": "python",
   "name": "base"
  },
  "language_info": {
   "codemirror_mode": {
    "name": "ipython",
    "version": 3
   },
   "file_extension": ".py",
   "mimetype": "text/x-python",
   "name": "python",
   "nbconvert_exporter": "python",
   "pygments_lexer": "ipython3",
   "version": "3.8.5"
  },
  "orig_nbformat": 4
 },
 "nbformat": 4,
 "nbformat_minor": 2
}
