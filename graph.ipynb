{
 "cells": [
  {
   "cell_type": "markdown",
   "metadata": {},
   "source": [
    "# Topological order"
   ]
  },
  {
   "cell_type": "markdown",
   "metadata": {},
   "source": [
    "### 207. Course Schedule\n",
    "There are a total of numCourses courses you have to take, labeled from 0 to numCourses - 1. You are given an array prerequisites where prerequisites[i] = [ai, bi] indicates that you must take course bi first if you want to take course ai.\n",
    "Return true if you can finish all courses. Otherwise, return false."
   ]
  },
  {
   "cell_type": "code",
   "execution_count": 61,
   "metadata": {},
   "outputs": [],
   "source": [
    "def canFinish(numCourses: int, prerequisites: List[List[int]]) -> bool:\n",
    "    # adj = collections.defaultdict(list)\n",
    "    adj = [[] for _ in range(numCourses)] \n",
    "    for v, w in prerequisites:\n",
    "        adj[w].append(v)\n",
    "    marked = [-1 for i in range(numCourses)] # # -1 表示未被访问， 0表示被其他的节点访问， 1表示被本节点访问过\n",
    "    valid = True\n",
    "\n",
    "\n",
    "    def dfs(v):\n",
    "        nonlocal valid \n",
    "        marked[v] = 1\n",
    "        for w in adj[v]:\n",
    "            if marked[w] == -1:\n",
    "                dfs(w)\n",
    "            elif marked[w] == 1:\n",
    "                valid = False\n",
    "                return\n",
    "        marked[v] = 0 # key step\n",
    "\n",
    "    for vertex in range(numCourses):\n",
    "        if valid and marked[vertex] == -1:\n",
    "            dfs(vertex) \n",
    "            \n",
    "    return valid\n"
   ]
  },
  {
   "cell_type": "markdown",
   "metadata": {},
   "source": [
    "### 210. Course Schedule II\n",
    "Return the ordering of courses you should take to finish all courses. If there are many valid answers, return any of them. If it is impossible to finish all courses, return an empty array."
   ]
  },
  {
   "cell_type": "code",
   "execution_count": 69,
   "metadata": {},
   "outputs": [],
   "source": [
    "class Solution:\n",
    "    def findOrder(self, numCourses: int, prerequisites: List[List[int]]) -> List[int]:\n",
    "        adj = [[] for _ in range(numCourses)]\n",
    "        for end, start in prerequisites:\n",
    "            adj[start].append(end)\n",
    "        marked = [-1 for _ in range(numCourses)]  # -1 表示未被访问， 0表示被其他的节点访问， 1表示被本节点访问过\n",
    "        valid = True # whether a cycle exists or not\n",
    "        reverse_post = []\n",
    "\n",
    "        def dfs(v):\n",
    "            nonlocal valid\n",
    "            marked[v] = 1\n",
    "            for w in adj[v]:\n",
    "                if marked[w] == -1:\n",
    "                    dfs(w)\n",
    "                elif marked[w] == 1:\n",
    "                    valid = False\n",
    "                    return\n",
    "                else: # 0\n",
    "                    continue\n",
    "            reverse_post.append(v)\n",
    "            marked[v] = 0\n",
    "\n",
    "        for vertex in range(numCourses):\n",
    "            if valid and marked[vertex] == -1:\n",
    "                dfs(vertex)\n",
    "        \n",
    "        if not valid: return []\n",
    "        if valid: return reverse_post[::-1]\n",
    "        "
   ]
  },
  {
   "cell_type": "markdown",
   "metadata": {},
   "source": [
    "### 684. Redundant Connection\n",
    "Input: edges = [[1,2],[1,3],[2,3]]\n",
    "Output: [2,3]"
   ]
  },
  {
   "cell_type": "markdown",
   "metadata": {},
   "source": [
    "Idea:\n",
    "* a tree is an undirected graph that is connected and has no cycles. E = V - 1\n",
    "* Union find "
   ]
  },
  {
   "cell_type": "code",
   "execution_count": 83,
   "metadata": {},
   "outputs": [],
   "source": [
    "def findRedundantConnection(edges: List[List[int]]) -> List[int]:\n",
    "    id = list(range(len(edges) + 1))\n",
    "    res = []\n",
    "    def root(i):\n",
    "        while i != id[i]:\n",
    "            i = id[i]\n",
    "        return i\n",
    "    def union(p, q): # two indices \n",
    "        i = root(p)\n",
    "        j = root(q)\n",
    "        id[i] = j\n",
    "\n",
    "    for edge in edges:\n",
    "        w = edge[0]\n",
    "        v = edge[1]\n",
    "        if root(w) != root(v):\n",
    "            union(w, v)\n",
    "        else:\n",
    "            res.append(edge)\n",
    "    return res[-1]"
   ]
  },
  {
   "cell_type": "code",
   "execution_count": 84,
   "metadata": {},
   "outputs": [
    {
     "data": {
      "text/plain": [
       "[[2, 3]]"
      ]
     },
     "execution_count": 84,
     "metadata": {},
     "output_type": "execute_result"
    }
   ],
   "source": [
    "edges = [[1,2],[1,3],[2,3]]\n",
    "findRedundantConnection(edges)"
   ]
  },
  {
   "cell_type": "code",
   "execution_count": 76,
   "metadata": {},
   "outputs": [
    {
     "ename": "TypeError",
     "evalue": "'range' object does not support item assignment",
     "output_type": "error",
     "traceback": [
      "\u001b[0;31m---------------------------------------------------------------------------\u001b[0m",
      "\u001b[0;31mTypeError\u001b[0m                                 Traceback (most recent call last)",
      "Input \u001b[0;32mIn [76]\u001b[0m, in \u001b[0;36m<cell line: 2>\u001b[0;34m()\u001b[0m\n\u001b[1;32m      1\u001b[0m a \u001b[39m=\u001b[39m \u001b[39mrange\u001b[39m(\u001b[39m10\u001b[39m)\n\u001b[0;32m----> 2\u001b[0m a[\u001b[39m0\u001b[39m] \u001b[39m=\u001b[39m \u001b[39m1\u001b[39m\n\u001b[1;32m      3\u001b[0m a\n",
      "\u001b[0;31mTypeError\u001b[0m: 'range' object does not support item assignment"
     ]
    }
   ],
   "source": [
    "a = range(10)\n",
    "a[0] = 1\n",
    "a"
   ]
  }
 ],
 "metadata": {
  "kernelspec": {
   "display_name": "base",
   "language": "python",
   "name": "base"
  },
  "language_info": {
   "codemirror_mode": {
    "name": "ipython",
    "version": 3
   },
   "file_extension": ".py",
   "mimetype": "text/x-python",
   "name": "python",
   "nbconvert_exporter": "python",
   "pygments_lexer": "ipython3",
   "version": "3.8.5"
  },
  "orig_nbformat": 4
 },
 "nbformat": 4,
 "nbformat_minor": 2
}
