{
 "cells": [
  {
   "cell_type": "markdown",
   "metadata": {},
   "source": [
    "### 160. Intersection of Two Linked Lists\n",
    "Given the heads of two singly linked-lists headA and headB, return the node at which the two lists intersect. If the two linked lists have no intersection at all, return null."
   ]
  },
  {
   "cell_type": "code",
   "execution_count": 2,
   "metadata": {},
   "outputs": [],
   "source": [
    "def getIntersectionNode(headA, headB):\n",
    "    # https://leetcode-cn.com/problems/intersection-of-two-linked-lists/solution/intersection-of-two-linked-lists-shuang-zhi-zhen-l/\n",
    "    a, b = headA, headB\n",
    "    while a != b: # if not intersect, both are null\n",
    "        # a = a.next if not a.next else headB\n",
    "        # b = b.next if not b.next else headA  \n",
    "        a = a.next if a else headB\n",
    "        b = b.next if b else headA  \n",
    "    return a  "
   ]
  },
  {
   "cell_type": "markdown",
   "metadata": {},
   "source": [
    "### 206. Reverse Linked List"
   ]
  },
  {
   "cell_type": "code",
   "execution_count": 4,
   "metadata": {},
   "outputs": [],
   "source": [
    "def reverseList(head):\n",
    "    previous = None\n",
    "    A = head\n",
    "    while A:\n",
    "        next = A.next\n",
    "        A.next = previous\n",
    "        previous = A\n",
    "        A = next\n",
    "    return previous\n",
    "\n",
    "        "
   ]
  },
  {
   "cell_type": "markdown",
   "metadata": {},
   "source": [
    "### 21 Merge Two Sorted Lists\n",
    "Input: list1 = [1,2,4], list2 = [1,3,4]\n",
    "Output: [1,1,2,3,4,4]"
   ]
  },
  {
   "cell_type": "code",
   "execution_count": 5,
   "metadata": {},
   "outputs": [],
   "source": [
    "def mergeTwoLists(list1, list2):\n",
    "    a = list1\n",
    "    b = list2\n",
    "    prehead = ListNode(-1)\n",
    "\n",
    "    current = prehead\n",
    "    while a and b:\n",
    "        if a.val <= b.val:\n",
    "            current.next = a\n",
    "            current = a\n",
    "            a = a.next\n",
    "        else:\n",
    "            current.next = b\n",
    "            current = b\n",
    "            b = b.next\n",
    "    current.next = a if a else b\n",
    "    return prehead.next\n",
    "\n"
   ]
  },
  {
   "cell_type": "markdown",
   "metadata": {},
   "source": [
    "### 83. Remove Duplicates from Sorted List\n",
    "Given the head of a sorted linked list, delete all duplicates such that each element appears only once. Return the linked list sorted as well"
   ]
  },
  {
   "cell_type": "code",
   "execution_count": null,
   "metadata": {},
   "outputs": [],
   "source": [
    "def deleteDuplicates(head):\n",
    "    # Edge case: head = []\n",
    "    if not head:\n",
    "        return head\n",
    "    next = head.next\n",
    "    current = head\n",
    "    while next:\n",
    "        if current.val == next.val:\n",
    "            next = next.next\n",
    "        else:\n",
    "            current.next = next\n",
    "            current = next\n",
    "            next = next.next\n",
    "    current.next = next\n",
    "    return head\n",
    "    "
   ]
  },
  {
   "cell_type": "code",
   "execution_count": 1,
   "metadata": {},
   "outputs": [
    {
     "name": "stdout",
     "output_type": "stream",
     "text": [
      "a\n"
     ]
    }
   ],
   "source": [
    "def deleteDuplicates(self, head: ListNode) -> ListNode:\n",
    "    if not head:\n",
    "        return head\n",
    "\n",
    "    cur = head\n",
    "    while cur.next:\n",
    "        if cur.val == cur.next.val:\n",
    "            cur.next = cur.next.next\n",
    "        else:\n",
    "            cur = cur.next\n",
    "\n",
    "    return head\n"
   ]
  },
  {
   "cell_type": "markdown",
   "metadata": {},
   "source": [
    "### 234. Palindrome Linked List\n",
    "Given the head of a singly linked list, return true if it is a palindrome."
   ]
  },
  {
   "cell_type": "markdown",
   "metadata": {},
   "source": [
    "\n",
    "    复制链表值到数组列表中。\n",
    "    使用双指针法判断是否为回文。"
   ]
  },
  {
   "cell_type": "code",
   "execution_count": null,
   "metadata": {},
   "outputs": [],
   "source": [
    "class Solution:\n",
    "    def isPalindrome(self, head: ListNode) -> bool:\n",
    "        vals = []\n",
    "        current_node = head\n",
    "        while current_node is not None:\n",
    "            vals.append(current_node.val)\n",
    "            current_node = current_node.next\n",
    "        return vals == vals[::-1]"
   ]
  }
 ],
 "metadata": {
  "interpreter": {
   "hash": "96b3db1ba501e2036d5ffa359dd7a984d144cc5b19755c3a7f94483ac299aa27"
  },
  "kernelspec": {
   "display_name": "Python 3.8.5 64-bit ('trading': virtualenv)",
   "language": "python",
   "name": "python3"
  },
  "language_info": {
   "codemirror_mode": {
    "name": "ipython",
    "version": 3
   },
   "file_extension": ".py",
   "mimetype": "text/x-python",
   "name": "python",
   "nbconvert_exporter": "python",
   "pygments_lexer": "ipython3",
   "version": "3.8.5"
  },
  "orig_nbformat": 4
 },
 "nbformat": 4,
 "nbformat_minor": 2
}
