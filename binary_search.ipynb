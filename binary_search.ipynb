{
 "cells": [
  {
   "cell_type": "markdown",
   "metadata": {},
   "source": [
    "# Binary search on ordered array"
   ]
  },
  {
   "cell_type": "code",
   "execution_count": 13,
   "metadata": {},
   "outputs": [],
   "source": [
    "def binary_search(nums, target):\n",
    "    l = 0\n",
    "    r = len(nums) - 1\n",
    "    while l <= r:\n",
    "        m = l + (r-l)//2  # 直接采用(r+l)//2. 容易出现整形溢出\n",
    "        if nums[m] == target:\n",
    "            return m\n",
    "        elif target < nums[m]:\n",
    "            r = m - 1\n",
    "        else:\n",
    "            l = m + 1\n",
    "    return l"
   ]
  },
  {
   "cell_type": "markdown",
   "metadata": {},
   "source": [
    "If target is out of range of nums, `r==-1` or `l == len(nums`), out of range"
   ]
  },
  {
   "cell_type": "markdown",
   "metadata": {},
   "source": [
    "**Last step of binary search**\n",
    "* r == l == m\n",
    "* l + 1 == r, m == l\n",
    "Then l > r exit the while loop\n"
   ]
  },
  {
   "cell_type": "markdown",
   "metadata": {},
   "source": [
    "两个非常困扰而且易错的细节点:\n",
    "\n",
    "    while循环的判断条件是l<r还是l<=r\n",
    "    当target != nums[mid]时, 使用mid还是mid (+或者-) 1\n",
    "\n",
    "解决这两个问题的只需要考虑清楚,查找区间的封闭情况, 例如对于上边写的代码,采用的方式为(左右均为闭区间)[l, r], 因此决定了循环判断条件为l<=r. 同时 l = mid + 1与r = mid - 1, 在过程中始终保持全闭区间的情况不变\n",
    "\n",
    "当然代码也可以采用左开右闭或者左闭右开的区间进行查找,然后判断需要如何更改这两个问题."
   ]
  },
  {
   "cell_type": "markdown",
   "metadata": {},
   "source": [
    "### 69. Sqrt(x)\n",
    "Since the return type is an integer, the decimal digits are truncated, and only the integer part of the result is returned."
   ]
  },
  {
   "cell_type": "code",
   "execution_count": 36,
   "metadata": {},
   "outputs": [],
   "source": [
    "def mySqrt(x):\n",
    "    l = 1\n",
    "    r = x\n",
    "    while (l <= r):\n",
    "        m = l + (r-l)//2\n",
    "        if m*m == x:\n",
    "            return m\n",
    "        elif m*m < x:\n",
    "            l = m + 1\n",
    "        else:\n",
    "            r = m - 1\n",
    "    return r # 最后一次退出循环时， r<l"
   ]
  },
  {
   "cell_type": "markdown",
   "metadata": {},
   "source": [
    "牛顿 迭代法\n",
    "C 的平方根就是函数\n",
    "\n",
    "$y=f(x)=x^2−C$\n",
    "\n",
    "的零点。 ![](2022-04-24-16-18-09.png)"
   ]
  },
  {
   "cell_type": "code",
   "execution_count": null,
   "metadata": {},
   "outputs": [],
   "source": [
    "class Solution:\n",
    "    def mySqrt(self, x: int) -> int:\n",
    "        if x == 0:\n",
    "            return 0\n",
    "        \n",
    "        C, x0 = float(x), float(x)\n",
    "        while True:\n",
    "            xi = 0.5 * (x0 + C / x0)\n",
    "            if abs(x0 - xi) < 1e-7:\n",
    "                break\n",
    "            x0 = xi\n",
    "        \n",
    "        return int(x0)\n"
   ]
  },
  {
   "cell_type": "markdown",
   "metadata": {},
   "source": [
    "### 744. Find Smallest Letter Greater Than Target\n",
    "Given a characters array letters that is sorted in non-decreasing order and a character target, return the smallest character in the array that is larger than target\n",
    "\n",
    "**Note that the letters wrap around.**\n",
    "\n",
    "    For example, if target == 'z' and letters == ['a', 'b'], the answer is 'a'.\n",
    "\n",
    "\n",
    "Input: letters = [\"c\",\"f\",\"j\"], target = \"a\"  \n",
    "Output: \"c\""
   ]
  },
  {
   "cell_type": "code",
   "execution_count": 38,
   "metadata": {},
   "outputs": [],
   "source": [
    "def nextGreatestLetter(letters, target):\n",
    "    l = 0\n",
    "    r = len(letters) -1\n",
    "    while(l <= r):\n",
    "        m = l + (r-l)//2\n",
    "\n",
    "        if target < letters[m]:\n",
    "            r = m -1 \n",
    "        else:\n",
    "            l = m + 1\n",
    "    # 循环有序。\n",
    "    # 1: 没有target， 但是要output greater element\n",
    "    # 2: 超过最大element\n",
    "    # 3: 小于最小element\n",
    "    if (r < 0 or l > len(letters) -1): \n",
    "        return letters[0]\n",
    "    else:\n",
    "        return letters[l]\n",
    "        "
   ]
  },
  {
   "cell_type": "markdown",
   "metadata": {},
   "source": [
    "### 278. First Bad Version\n",
    "Since each version is developed based on the previous version, all the versions after a bad version are also bad.\n",
    "\n",
    "Suppose you have n versions [1, 2, ..., n] and you want to find out the first bad one, which causes all the following ones to be bad.\n"
   ]
  },
  {
   "cell_type": "code",
   "execution_count": null,
   "metadata": {},
   "outputs": [],
   "source": [
    "def firstBadVersion(n):\n",
    "    l = 0\n",
    "    r = n - 1\n",
    "    while (l<=r):\n",
    "        mid = l + (r-l)//2\n",
    "        if isBadVersion(mid):\n",
    "            r = mid - 1\n",
    "        else:\n",
    "            l = mid + 1\n",
    "    return l # case 1: l == r == mid; case 2: l + 1 == r, mid == l\n",
    "\n",
    "# Last step is left is good, right is bad;"
   ]
  },
  {
   "cell_type": "markdown",
   "metadata": {},
   "source": [
    "### 540. Single Element in a Sorted Array\n",
    "You are given a sorted array consisting of only integers where every element appears exactly twice, except for one element which appears exactly once.\n",
    "\n",
    "Return the single element that appears only once.\n",
    "\n",
    "Your solution must run in O(log n) time and O(1) space.\n",
    "\n",
    "Input: nums = [1,1,2,3,3,4,4,8,8]  \n",
    "Output: 2"
   ]
  },
  {
   "cell_type": "markdown",
   "metadata": {},
   "source": [
    "Idea:\n",
    "* 22 3 34 or 223 3 445"
   ]
  },
  {
   "cell_type": "code",
   "execution_count": 20,
   "metadata": {},
   "outputs": [],
   "source": [
    "def singleNonDuplicate(nums: List[int]) -> int:\n",
    "    l = 0; r = len(nums) - 1\n",
    "    while (l < r): # when l == r, must be the target\n",
    "        mid = l + (r-l)//2\n",
    "        # If mid is even\n",
    "        if mid%2 == 0:\n",
    "            if nums[mid] != nums[mid-1] and nums[mid] != nums[mid+1]: # 11 2 33\n",
    "                return nums[mid]\n",
    "            if nums[mid] == nums[mid+1]: # 22 3 34\n",
    "                l = mid + 1\n",
    "            else:\n",
    "                r = mid - 1\n",
    "        if mid%2 == 1: # 223 3 445\n",
    "            if nums[mid] == nums[mid-1]:\n",
    "                l = mid + 1\n",
    "            else:\n",
    "                r = mid - 1\n",
    "    return nums[l]\n"
   ]
  },
  {
   "cell_type": "markdown",
   "metadata": {},
   "source": [
    "### 153. Find Minimum in Rotated Sorted Array\n",
    "Suppose an array of length n sorted in ascending order is rotated between 1 and n times.  \n",
    "\n",
    "Input: nums = [3,4,5,1,2]  \n",
    "Output: 1  \n",
    "Explanation: The original array was [1,2,3,4,5] rotated 3 times.  \n"
   ]
  },
  {
   "cell_type": "markdown",
   "metadata": {},
   "source": [
    "Idea:  \n",
    "    ![<img width=\"20\"/>](2022-04-25-22-23-55.png)\n",
    "    ![](2022-04-25-22-24-17.png)"
   ]
  },
  {
   "cell_type": "code",
   "execution_count": 2,
   "metadata": {},
   "outputs": [],
   "source": [
    "def findMin(nums: List[int]) -> int:\n",
    "    l = 0; r = len(nums) - 1\n",
    "    while l < r:\n",
    "        mid = l + (r-l)//2\n",
    "        if nums[mid] > nums[-1]:\n",
    "            l = mid + 1\n",
    "        else:\n",
    "            r = mid\n",
    "    return nums[l]\n",
    "    "
   ]
  },
  {
   "cell_type": "markdown",
   "metadata": {},
   "source": [
    "### 34. Find First and Last Position of Element in Sorted Array\n",
    "Given an array of integers nums sorted in non-decreasing order, find the starting and ending position of a given target value.  \n",
    "algorithm with O(log n)\n",
    "\n",
    "Input: nums = [5,7,7,8,8,10], target = 8  \n",
    "Output: [3,4]"
   ]
  },
  {
   "cell_type": "code",
   "execution_count": 17,
   "metadata": {},
   "outputs": [],
   "source": [
    "def searchRange(nums: List[int], target: int) -> List[int]:\n",
    "    l = 0 ; r = len(nums) -1\n",
    "    res = []\n",
    "    # find index of the first target\n",
    "    while l <= r:\n",
    "        mid = l + (r-l)//2\n",
    "        if nums[mid] < target:\n",
    "            l = mid + 1\n",
    "        elif nums[mid] > target:\n",
    "            r = mid - 1\n",
    "        else: \n",
    "            # \n",
    "            # if mid == 0 or nums[mid-1] != target:\n",
    "            #     res.append(mid)\n",
    "            #     break\n",
    "            r = mid - 1\n",
    "    if l == len(nums) or nums[l] != target:\n",
    "        start = -1\n",
    "    else:\n",
    "        start = l\n",
    "\n",
    "    l = 0 ; r = len(nums) -1\n",
    "    while l <= r:\n",
    "        mid = l + (r-l)//2\n",
    "        if nums[mid] < target:\n",
    "            l = mid + 1\n",
    "        elif nums[mid] > target:\n",
    "            r = mid -1\n",
    "        else:\n",
    "            l = mid + 1\n",
    "    if r == -1 or nums[r] != target:\n",
    "        end = -1\n",
    "    else:\n",
    "        end = r\n",
    "    return [start, end]"
   ]
  },
  {
   "cell_type": "code",
   "execution_count": 18,
   "metadata": {},
   "outputs": [
    {
     "data": {
      "text/plain": [
       "[-1, -1]"
      ]
     },
     "execution_count": 18,
     "metadata": {},
     "output_type": "execute_result"
    }
   ],
   "source": [
    "searchRange([5,7,7,8,8,10], 11)"
   ]
  },
  {
   "cell_type": "code",
   "execution_count": null,
   "metadata": {},
   "outputs": [],
   "source": []
  },
  {
   "cell_type": "code",
   "execution_count": null,
   "metadata": {},
   "outputs": [],
   "source": []
  }
 ],
 "metadata": {
  "interpreter": {
   "hash": "96b3db1ba501e2036d5ffa359dd7a984d144cc5b19755c3a7f94483ac299aa27"
  },
  "kernelspec": {
   "display_name": "base",
   "language": "python",
   "name": "base"
  },
  "language_info": {
   "codemirror_mode": {
    "name": "ipython",
    "version": 3
   },
   "file_extension": ".py",
   "mimetype": "text/x-python",
   "name": "python",
   "nbconvert_exporter": "python",
   "pygments_lexer": "ipython3",
   "version": "3.8.5"
  },
  "orig_nbformat": 4
 },
 "nbformat": 4,
 "nbformat_minor": 2
}
