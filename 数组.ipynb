{
 "cells": [
  {
   "cell_type": "markdown",
   "metadata": {},
   "source": [
    "## 数组"
   ]
  },
  {
   "cell_type": "markdown",
   "metadata": {},
   "source": [
    "### 283 Move Zeroes\n",
    "Given an integer array nums, move all 0's to the end of it while maintaining the relative order of the non-zero elements.\n",
    "\n",
    "Note that you must do this in-place without making a copy of the array."
   ]
  },
  {
   "cell_type": "markdown",
   "metadata": {},
   "source": [
    "* 不能pop 然后 append。 pop之后list change in place\n",
    "* https://pic.leetcode-cn.com/9669b4ffb158eaeeee6f0cd66a70f24411575edab1ab8a037c4c9084b1c743f5-283_1.gif"
   ]
  },
  {
   "cell_type": "code",
   "execution_count": 18,
   "metadata": {},
   "outputs": [],
   "source": [
    "def moveZeroes(nums):\n",
    "    \"\"\"\n",
    "    :type nums: List[int]\n",
    "    :rtype: None Do not return anything, modify nums in-place instead.\n",
    "    \"\"\"\n",
    "    i = 0; j = 0\n",
    "    while i <= len(nums)-1:\n",
    "        if nums[i] == 0:\n",
    "            i = i+1\n",
    "        else:\n",
    "            nums[j] = nums[i]\n",
    "            j = j+1\n",
    "            i = i+1\n",
    "    while j <= len(nums)-1:\n",
    "        nums[j] = 0\n",
    "        j = j+1\n",
    "    return nums\n",
    "\n"
   ]
  },
  {
   "cell_type": "markdown",
   "metadata": {},
   "source": [
    "### 566. Reshape the Matrix"
   ]
  },
  {
   "cell_type": "markdown",
   "metadata": {},
   "source": [
    "mat = [[1,2],[3,4]]Input: , r = 1, c = 4\n",
    "Output: [[1,2,3,4]]"
   ]
  },
  {
   "cell_type": "code",
   "execution_count": 29,
   "metadata": {},
   "outputs": [],
   "source": [
    "def matrixReshape(mat, r, c):\n",
    "    \"\"\"\n",
    "    :type mat: List[List[int]]\n",
    "    :type r: int\n",
    "    :type c: int\n",
    "    :rtype: List[List[int]]\n",
    "    \"\"\"\n",
    "\n",
    "    new_mat = [[0]*c]*r\n",
    "    flat_mat = [i for m in mat for i in m]\n",
    "    size = len(mat) * len(mat[0])\n",
    "    for i in range(size):\n",
    "        m = i//c\n",
    "        n = i%c\n",
    "        new_mat[m][n] = flat_mat[i]\n",
    "    return new_mat\n"
   ]
  },
  {
   "cell_type": "markdown",
   "metadata": {},
   "source": [
    "### 485 Max Consecutive Ones\n",
    "Given a binary array nums, return the maximum number of consecutive 1's in the array.  \n",
    "Input: nums = [1,1,0,1,1,1]\n",
    "Output: 3"
   ]
  },
  {
   "cell_type": "code",
   "execution_count": 3,
   "metadata": {},
   "outputs": [],
   "source": [
    "def findMaxConsecutiveOnes(nums):\n",
    "    max_one = 0\n",
    "    local_one = 0 ### Use sentinel\n",
    "    i = 0\n",
    "    while (i < len(nums)):\n",
    "        if nums[i] == 1:\n",
    "            local_one = local_one + 1\n",
    "            max_one = max_one if max_one > local_one else local_one\n",
    "            i = i + 1\n",
    "        else:\n",
    "            local_one = 0\n",
    "            i = i + 1\n",
    "    return max_one\n"
   ]
  },
  {
   "cell_type": "markdown",
   "metadata": {},
   "source": [
    "### 766 Toeplitz Matrix\n",
    "Given an m x n matrix, return true if the matrix is Toeplitz. Otherwise, return false.\n",
    "\n",
    "A matrix is Toeplitz if every diagonal from top-left to bottom-right has the same elements.\n"
   ]
  },
  {
   "cell_type": "code",
   "execution_count": 6,
   "metadata": {},
   "outputs": [],
   "source": [
    "def isToeplitzMatrix(matrix):\n",
    "    m = len(matrix)\n",
    "    n = len(matrix[0])\n",
    "    check = True\n",
    "    for i in range(m-1):\n",
    "        for j in range(n-1):\n",
    "            # if i+1 < m and j+1 < n:\n",
    "            if matrix[i][j] == matrix[i+1][j+1]:\n",
    "                continue\n",
    "            else:\n",
    "                check = False\n",
    "                break\n",
    "    return check\n"
   ]
  },
  {
   "cell_type": "code",
   "execution_count": 8,
   "metadata": {},
   "outputs": [
    {
     "data": {
      "text/plain": [
       "False"
      ]
     },
     "execution_count": 8,
     "metadata": {},
     "output_type": "execute_result"
    }
   ],
   "source": [
    "isToeplitzMatrix([[1,2],[2,2]])"
   ]
  },
  {
   "cell_type": "code",
   "execution_count": null,
   "metadata": {},
   "outputs": [],
   "source": []
  }
 ],
 "metadata": {
  "interpreter": {
   "hash": "96b3db1ba501e2036d5ffa359dd7a984d144cc5b19755c3a7f94483ac299aa27"
  },
  "kernelspec": {
   "display_name": "Python 3.8.5 64-bit ('trading': virtualenv)",
   "language": "python",
   "name": "python3"
  },
  "language_info": {
   "codemirror_mode": {
    "name": "ipython",
    "version": 3
   },
   "file_extension": ".py",
   "mimetype": "text/x-python",
   "name": "python",
   "nbconvert_exporter": "python",
   "pygments_lexer": "ipython3",
   "version": "3.8.5"
  },
  "orig_nbformat": 4
 },
 "nbformat": 4,
 "nbformat_minor": 2
}
