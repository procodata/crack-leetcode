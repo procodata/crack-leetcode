{
 "cells": [
  {
   "cell_type": "markdown",
   "metadata": {},
   "source": [
    "局部最优—>全局最优\n",
    "贪心策略的选择必须具备无后效性，也就是说某个状态以前的过程不会影响以后的状态，只与当前状态有关。"
   ]
  },
  {
   "cell_type": "markdown",
   "metadata": {},
   "source": [
    "### 455. Assign Cookies\n",
    "Assume you are an awesome parent and want to give your children some cookies. But, you should give each child at most one cookie.\n",
    "\n",
    "Each child i has a greed factor g[i], which is the minimum size of a cookie that the child will be content with; and each cookie j has a size s[j]. If s[j] >= g[i], we can assign the cookie j to the child i, and the child i will be content. Your goal is to maximize the number of your content children and output the maximum number."
   ]
  },
  {
   "cell_type": "code",
   "execution_count": null,
   "metadata": {},
   "outputs": [],
   "source": [
    "def findContentChildren(g, s):\n",
    "    g.sort()\n",
    "    s.sort()\n",
    "    i = 0\n",
    "    j = 0\n",
    "    count = 0\n",
    "    while i <= len(g)-1 and j <= len(s)-1:\n",
    "        if g[i] <= s[j]:\n",
    "            count = count + 1\n",
    "            i = i+1\n",
    "            j = j + 1\n",
    "        else:\n",
    "            j = j + 1\n",
    "    return count\n"
   ]
  },
  {
   "cell_type": "markdown",
   "metadata": {},
   "source": [
    "### 121. Best Time to Buy and Sell Stock\n",
    "You are given an array prices where prices[i] is the price of a given stock on the ith day.\n",
    "\n",
    "You want to maximize your profit by choosing a single day to buy one stock and choosing a different day in the future to sell that stock\n",
    "\n",
    "Input: prices = [7,1,5,3,6,4]\n",
    "Output: 5\n",
    "Explanation: Buy on day 2 (price = 1) and sell on day 5 (price = 6), profit = 6-1 = 5."
   ]
  },
  {
   "cell_type": "code",
   "execution_count": null,
   "metadata": {},
   "outputs": [],
   "source": [
    "# This is actually a DP way. \n",
    "# 第i天的最大收益只需要知道前i天的最低点就可以算出来了。而第i天以前（包括第i天）的最低点和i-1天的最低点有关\n",
    "def maxProfit(prices):\n",
    "    pre_min = prices[0]\n",
    "    max_profit = 0\n",
    "    i = 1\n",
    "    while i <= len(prices) - 1:\n",
    "        profit = prices[i] - pre_min\n",
    "        max_profit = profit if profit >= max_profit else max_profit\n",
    "        pre_min = min(pre_min, prices[i])\n",
    "        i = i + 1\n",
    "    return max_profit\n"
   ]
  },
  {
   "cell_type": "markdown",
   "metadata": {},
   "source": [
    "### 122. Best Time to Buy and Sell Stock II\n",
    "On each day, you may decide to buy and/or sell the stock. You can only hold at most one share of the stock at any time. However, you can buy it then immediately sell it on the same day.\n",
    "\n",
    "Input: prices = [7,1,5,3,6,4]\n",
    "Output: 7\n",
    "Explanation: Buy on day 2 (price = 1) and sell on day 3 (price = 5), profit = 5-1 = 4.\n",
    "Then buy on day 4 (price = 3) and sell on day 5 (price = 6), profit = 6-3 = 3.\n",
    "Total profit is 4 + 3 = 7."
   ]
  },
  {
   "cell_type": "markdown",
   "metadata": {},
   "source": [
    "For each day and the following day, collect profit or pass  \n",
    "贪心算法进行 4次买入和 4 次卖出 （local optimal），而不是在第 1 天买入，第 5 天卖出 (全局)"
   ]
  },
  {
   "cell_type": "code",
   "execution_count": null,
   "metadata": {},
   "outputs": [],
   "source": [
    "def maxProfit(prices):\n",
    "    buy = 0\n",
    "    current = 1\n",
    "    profit = 0\n",
    "    while current < len(prices):\n",
    "        if prices[current] >= prices[buy]:\n",
    "            profit = profit + (prices[current] - prices[buy])\n",
    "        buy = current\n",
    "        current = current + 1\n",
    "    return profit"
   ]
  },
  {
   "cell_type": "markdown",
   "metadata": {},
   "source": [
    "### 605. Can Place Flowers\n",
    "You have a long flowerbed in which some of the plots are planted, and some are not. However, flowers cannot be planted in adjacent plots.\n",
    "\n",
    "Given an integer array flowerbed containing 0's and 1's, where 0 means empty and 1 means not empty, and an integer n, return if n new flowers can be planted in the flowerbed without violating the no-adjacent-flowers rule.\n",
    "\n",
    "Input: flowerbed = [1,0,0,0,1], n = 1\n",
    "Output: true\n"
   ]
  },
  {
   "cell_type": "markdown",
   "metadata": {},
   "source": [
    "* Edge case, boundary of index"
   ]
  },
  {
   "cell_type": "code",
   "execution_count": null,
   "metadata": {},
   "outputs": [],
   "source": [
    "def canPlaceFlowers(flowerbed, n):\n",
    "    total = 0\n",
    "    # if flowerbed[0] == 0 and flowerbed[1] == 0:\n",
    "    #     flowerbed[0] = 1\n",
    "    #     total = total + 1\n",
    "    # if flowerbed[-1] == 0 and flowerbed[-2] == 0:\n",
    "    #     flowerbed[-1] = 1\n",
    "    #     total = total + 1\n",
    "    # for i in range(1, len(flowerbed)-1): \n",
    "\n",
    "    for i in range(len(flowerbed)):\n",
    "        if flowerbed[i] == 0 and (i == 0 or flowerbed[i-1] == 0 ) and (i == len(flowerbed)-1 or flowerbed[i+1] == 0):\n",
    "            flowerbed[i] = 1\n",
    "            total = total + 1\n",
    "\n",
    "    return True if total >= n else False"
   ]
  },
  {
   "cell_type": "markdown",
   "metadata": {},
   "source": [
    "### 65. Non-decreasing Array\n",
    "Given an array nums with n integers, your task is to check if it could become non-decreasing by modifying at most one element\n",
    "\n",
    "Input: nums = [4,2,3]  \n",
    "Output: true    \n",
    "Explanation: You could modify the first 4 to 1 to get a non-decreasing array\n",
    "\n",
    "[3,4,2,3] false与[5,7,1,8] true\n",
    "\n",
    "* edge case: boundary of index "
   ]
  },
  {
   "cell_type": "code",
   "execution_count": null,
   "metadata": {},
   "outputs": [],
   "source": [
    "def checkPossibility(nums):\n",
    "    n = 0\n",
    "    for i in range(len(nums) - 1): \n",
    "        if nums[i] > nums[i+1]: # 优先考虑降低 nums[i] = nums[i+1]保持单调， 才能留空间使之后尽可能单调；然后再考虑增大 nums[i+1] = nums[i]\n",
    "            n = n + 1\n",
    "\n",
    "            if i == 0 or nums[i-1] <= nums[i+1]: # 确保 i 之前单调\n",
    "                nums[i] = nums[i+1]\n",
    "            else:\n",
    "                nums[i+1] = nums[i]\n",
    "        else:\n",
    "            continue\n",
    "    return True if n < 2 else False\n",
    "        "
   ]
  },
  {
   "cell_type": "markdown",
   "metadata": {},
   "source": [
    "### 53. Maximum Subarray\n",
    "Given an integer array nums, find the contiguous subarray (containing at least one number) which has the largest sum and return its sum.\n",
    "\n",
    "Input: nums = [-2,1,-3,4,-1,2,1,-5,4]  \n",
    "Output: 6  \n",
    "Explanation: [4,-1,2,1] has the largest sum = 6."
   ]
  },
  {
   "cell_type": "markdown",
   "metadata": {},
   "source": [
    "greedy, dp, \n",
    "分治法：线段树\n",
    "https://leetcode-cn.com/problems/maximum-subarray/solution/zui-da-zi-xu-he-by-leetcode-solution/"
   ]
  },
  {
   "cell_type": "code",
   "execution_count": null,
   "metadata": {},
   "outputs": [],
   "source": [
    "def maxSubArray(nums):\n",
    "    cache = 0 # 爱的存储\n",
    "    result = float(\"-inf\") # case when nums = [-1]\n",
    "    for i in range(len(nums)):\n",
    "        cache += nums[i] # 爱的存储增加或消耗\n",
    "        result = max(result, cache) # 记录最大值\n",
    "        if cache < 0: #如果爱的存储被消耗光，就重新开始一段\n",
    "            cache = 0\n",
    "    return result"
   ]
  },
  {
   "cell_type": "markdown",
   "metadata": {},
   "source": [
    "### 435. Non-overlapping Intervals\n",
    " Given an array of intervals intervals where intervals[i] = [starti, endi], return the minimum number of intervals you need to remove to make the rest of the intervals non-overlapping.\n",
    "\n",
    "Input: intervals = [[1,2],[2,3],[3,4],[1,3]]  \n",
    "Output: 1  \n",
    "Explanation: [1,3] can be removed and the rest of the intervals are non-overlapping."
   ]
  },
  {
   "cell_type": "markdown",
   "metadata": {},
   "source": [
    "Idea: 最大的不重合区间\n",
    "* greedy: 这个题其实是预定会议的一个问题，给你若干时间的会议，然后去预定会议，那么能够预定的最大的会议数量是多少？核心在于我们要找到最大不重叠区间的个数。 如果我们把本题的区间看成是会议，那么按照右端点排序，我们一定能够找到一个最先结束的会议，而这个会议一定是我们需要添加到最终结果的的首个会议。（这个不难贪心得到，因为这样能够给后面预留的时间更长\n"
   ]
  },
  {
   "cell_type": "code",
   "execution_count": null,
   "metadata": {},
   "outputs": [],
   "source": [
    "def eraseOverlapIntervals(self, intervals: List[List[int]]) -> int:\n",
    "    '''\n",
    "    贪心算法是特殊的dp，每次选择结束最早的区间\n",
    "    '''\n",
    "    if not intervals: return 0\n",
    "    ## 按照区间结束进行排序\n",
    "    intervals.sort(key= lambda x:(x[1],x[0]))\n",
    "    # print(intervals)\n",
    "    pre = 0\n",
    "    res = 1\n",
    "    for i in range(1, len(intervals)):\n",
    "        if intervals[i][0] >= intervals[pre][1]:\n",
    "            pre = i\n",
    "            res += 1\n",
    "    return len(intervals) - res"
   ]
  },
  {
   "cell_type": "code",
   "execution_count": null,
   "metadata": {},
   "outputs": [],
   "source": [
    "def eraseOverlapIntervals(self, intervals: List[List[int]]) -> int:\n",
    "    '''\n",
    "    考虑递归中的重叠子问题，然后采用dp\n",
    "    状态转移方程：dp[i]表示前i个元素最长的不重叠区间\n",
    "                dp[i+1] = max(dp[:i+1] + 1)或者为max(dp[:i+1])\n",
    "    '''\n",
    "    if not intervals: return 0\n",
    "    ## 按照区间结束进行排序\n",
    "    intervals.sort(key= lambda x:(x[0],x[1]))\n",
    "    # print(intervals)\n",
    "    dp = [0] * (len(intervals))\n",
    "    dp[0] = 1\n",
    "    for i in range(1, len(intervals)):\n",
    "        for j in range(0, i):\n",
    "            if intervals[j][1] <= intervals[i][0]:\n",
    "                dp[i] = max(dp[j] + 1, dp[i])\n",
    "            else:\n",
    "                dp[i] = max(dp[i], dp[j])\n",
    "    return len(intervals) - max(dp)"
   ]
  },
  {
   "cell_type": "markdown",
   "metadata": {},
   "source": [
    "### 452. Minimum Number of Arrows to Burst Balloons\n"
   ]
  },
  {
   "cell_type": "markdown",
   "metadata": {},
   "source": [
    "image.png![](2022-05-15-11-25-59.png)"
   ]
  },
  {
   "cell_type": "code",
   "execution_count": null,
   "metadata": {},
   "outputs": [],
   "source": [
    "class Solution:\n",
    "    def findMinArrowShots(self, points: List[List[int]]) -> int:\n",
    "        '''\n",
    "        用少量的箭引爆气球，将数组排序，\n",
    "        有重合的区间采用一个箭，遇到完全分离的区间所需要的箭的总数加一\n",
    "        '''\n",
    "        if not points: return 0\n",
    "        ## 按照区间终点排序\n",
    "        points.sort(key=lambda x:x[1])\n",
    "        # print(points)\n",
    "        res = 1\n",
    "        end = points[0][1]\n",
    "        for i in range(1, len(points)):\n",
    "            if points[i][0] > end:\n",
    "                res += 1\n",
    "                end = points[i][1]\n",
    "            # print(res)\n",
    "\n",
    "        return res"
   ]
  },
  {
   "cell_type": "markdown",
   "metadata": {},
   "source": [
    "### 406. Queue Reconstruction by Height\n",
    "Input: people = [[7,0],[4,4],[7,1],[5,0],[6,1],[5,2]]  \n",
    "Output: [[5,0],[7,0],[5,2],[6,1],[4,4],[7,1]]"
   ]
  },
  {
   "cell_type": "markdown",
   "metadata": {},
   "source": [
    "Idea:\n",
    "* 先按高度降序排列，再按个数升序排。之后插入不影响正确性 https://leetcode.cn/problems/queue-reconstruction-by-height/solution/xian-pai-xu-zai-cha-dui-dong-hua-yan-shi-suan-fa-g/"
   ]
  },
  {
   "cell_type": "code",
   "execution_count": null,
   "metadata": {},
   "outputs": [],
   "source": [
    "class Solution:\n",
    "    def reconstructQueue(self, people: List[List[int]]) -> List[List[int]]:\n",
    "        people.sort(key=lambda x: (-x[0], x[1]))\n",
    "        print(people)\n",
    "        res = []\n",
    "        for i in people:\n",
    "            res.insert(i[1], i)\n",
    "        return res"
   ]
  },
  {
   "cell_type": "markdown",
   "metadata": {},
   "source": [
    "### 763. Partition Labels\n",
    "You are given a string s. We want to partition the string into as many parts as possible so that each letter appears in at most one part.\n",
    "\n",
    "Input: s = \"ababcbacadefegdehijhklij\"  \n",
    "Output: [9,7,8]  \n",
    "Explanation:  \n",
    "The partition is \"ababcbaca\", \"defegde\", \"hijhklij\".\n",
    "This is a partition so that each letter appears in at most one part."
   ]
  },
  {
   "cell_type": "code",
   "execution_count": null,
   "metadata": {},
   "outputs": [],
   "source": [
    "def partitionLabels(self, S: str) -> List[int]:\n",
    "    '''\n",
    "    先遍历整个数组，然后记录每个元素最后一次出现的索引值，用字典表示\n",
    "    然后顺序遍历数组，更新区间的断点值，例如对于defegde，原始区间端点值为5，当遍历到e时，端点值更新为6\n",
    "    '''\n",
    "    max_index = {S[i]:i for i in range(len(S))} # dict comprehensive\n",
    "    end = 0\n",
    "    start = 0\n",
    "    res = []\n",
    "    for i in range(len(S)):\n",
    "        end = max(end, max_index[S[i]])\n",
    "        if i == end:\n",
    "            res.append(end - start + 1)\n",
    "            start = end + 1\n",
    "    return res"
   ]
  }
 ],
 "metadata": {
  "interpreter": {
   "hash": "516d7705c61dadb30d508dc3909dabe1904808ac2418a064dd8da0c33202147f"
  },
  "kernelspec": {
   "display_name": "Python 3.8.5 ('base')",
   "language": "python",
   "name": "python3"
  },
  "language_info": {
   "codemirror_mode": {
    "name": "ipython",
    "version": 3
   },
   "file_extension": ".py",
   "mimetype": "text/x-python",
   "name": "python",
   "nbconvert_exporter": "python",
   "pygments_lexer": "ipython3",
   "version": "3.8.5"
  },
  "orig_nbformat": 4
 },
 "nbformat": 4,
 "nbformat_minor": 2
}
