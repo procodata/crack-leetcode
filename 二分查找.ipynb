{
 "cells": [
  {
   "cell_type": "markdown",
   "metadata": {},
   "source": [
    "# Binary search on ordered array"
   ]
  },
  {
   "cell_type": "code",
   "execution_count": 34,
   "metadata": {},
   "outputs": [],
   "source": [
    "def binary_search(nums, target):\n",
    "    l = 0\n",
    "    r = len(nums) - 1\n",
    "    while l <= r:\n",
    "        m = l + (r-l)//2  # 直接采用(r+l)//2. 容易出现整形溢出\n",
    "        if nums[m] == target:\n",
    "            return m\n",
    "        elif target < nums[m]:\n",
    "            r = m - 1\n",
    "        else:\n",
    "            l = m + 1\n",
    "    return "
   ]
  },
  {
   "cell_type": "markdown",
   "metadata": {},
   "source": [
    "两个非常困扰而且易错的细节点:\n",
    "\n",
    "    while循环的判断条件是l<r还是l<=r\n",
    "    当target != nums[mid]时, 使用mid还是mid (+或者-) 1\n",
    "\n",
    "解决这两个问题的只需要考虑清楚,查找区间的封闭情况, 例如对于上边写的代码,采用的方式为(左右均为闭区间)[l, r], 因此决定了循环判断条件为l<=r. 同时 l = mid + 1与r = mid - 1, 在过程中始终保持全闭区间的情况不变\n",
    "\n",
    "当然代码也可以采用左开右闭或者左闭右开的区间进行查找,然后判断需要如何更改这两个问题."
   ]
  },
  {
   "cell_type": "markdown",
   "metadata": {},
   "source": [
    "### 69. Sqrt(x)\n",
    "Since the return type is an integer, the decimal digits are truncated, and only the integer part of the result is returned."
   ]
  },
  {
   "cell_type": "code",
   "execution_count": 36,
   "metadata": {},
   "outputs": [],
   "source": [
    "def mySqrt(x):\n",
    "    l = 1\n",
    "    r = x\n",
    "    while (l <= r):\n",
    "        m = l + (r-l)//2\n",
    "        if m*m == x:\n",
    "            return m\n",
    "        elif m*m < x:\n",
    "            l = m + 1\n",
    "        else:\n",
    "            r = m - 1\n",
    "    return r # 最后一次退出循环时， r<l"
   ]
  },
  {
   "cell_type": "markdown",
   "metadata": {},
   "source": [
    "牛顿 迭代法\n",
    "C 的平方根就是函数\n",
    "\n",
    "$y=f(x)=x^2−C$\n",
    "\n",
    "的零点。"
   ]
  },
  {
   "cell_type": "code",
   "execution_count": null,
   "metadata": {},
   "outputs": [],
   "source": [
    "class Solution:\n",
    "    def mySqrt(self, x: int) -> int:\n",
    "        if x == 0:\n",
    "            return 0\n",
    "        \n",
    "        C, x0 = float(x), float(x)\n",
    "        while True:\n",
    "            xi = 0.5 * (x0 + C / x0)\n",
    "            if abs(x0 - xi) < 1e-7:\n",
    "                break\n",
    "            x0 = xi\n",
    "        \n",
    "        return int(x0)\n"
   ]
  },
  {
   "cell_type": "markdown",
   "metadata": {},
   "source": [
    "### 744. Find Smallest Letter Greater Than Target\n",
    "Given a characters array letters that is sorted in non-decreasing order and a character target, return the smallest character in the array that is larger than target\n",
    "\n",
    "**Note that the letters wrap around.**\n",
    "\n",
    "    For example, if target == 'z' and letters == ['a', 'b'], the answer is 'a'.\n",
    "\n",
    "\n",
    "Input: letters = [\"c\",\"f\",\"j\"], target = \"a\"  \n",
    "Output: \"c\""
   ]
  },
  {
   "cell_type": "code",
   "execution_count": 38,
   "metadata": {},
   "outputs": [],
   "source": [
    "def nextGreatestLetter(letters, target):\n",
    "    l = 0\n",
    "    r = len(letters) -1\n",
    "    while(l <= r):\n",
    "        m = l + (r-l)//2\n",
    "\n",
    "        if target < letters[m]:\n",
    "            r = m -1 \n",
    "        else:\n",
    "            l = m + 1\n",
    "    # 循环有序。\n",
    "    # 1: 没有target， 但是要output greater element\n",
    "    # 2: 超过最大element\n",
    "    # 3: 小于最小element\n",
    "    if (r < 0 or l > len(letters) -1): \n",
    "        return letters[0]\n",
    "    else:\n",
    "        return letters[l]\n",
    "        "
   ]
  },
  {
   "cell_type": "code",
   "execution_count": null,
   "metadata": {},
   "outputs": [],
   "source": []
  },
  {
   "cell_type": "markdown",
   "metadata": {},
   "source": [
    "### 278. First Bad Version\n",
    "Since each version is developed based on the previous version, all the versions after a bad version are also bad.\n",
    "\n",
    "Suppose you have n versions [1, 2, ..., n] and you want to find out the first bad one, which causes all the following ones to be bad.\n"
   ]
  },
  {
   "cell_type": "code",
   "execution_count": null,
   "metadata": {},
   "outputs": [],
   "source": [
    "def firstBadVersion(n):\n",
    "    l = 0\n",
    "    r = n - 1\n",
    "    while (l<=r):\n",
    "        mid = l + (r-l)//2\n",
    "        if isBadVersion(mid+1):\n",
    "            r = mid - 1\n",
    "        else:\n",
    "            l = mid + 1\n",
    "    return l + 1\n",
    "\n",
    "# Last step is left is good, right is bad;"
   ]
  },
  {
   "cell_type": "markdown",
   "metadata": {},
   "source": []
  }
 ],
 "metadata": {
  "interpreter": {
   "hash": "96b3db1ba501e2036d5ffa359dd7a984d144cc5b19755c3a7f94483ac299aa27"
  },
  "kernelspec": {
   "display_name": "Python 3.8.5 ('trading')",
   "language": "python",
   "name": "python3"
  },
  "language_info": {
   "codemirror_mode": {
    "name": "ipython",
    "version": 3
   },
   "file_extension": ".py",
   "mimetype": "text/x-python",
   "name": "python",
   "nbconvert_exporter": "python",
   "pygments_lexer": "ipython3",
   "version": "3.8.5"
  },
  "orig_nbformat": 4
 },
 "nbformat": 4,
 "nbformat_minor": 2
}
