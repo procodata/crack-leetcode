{
 "cells": [
  {
   "cell_type": "markdown",
   "metadata": {},
   "source": [
    "### 235 Lowest Common Ancestor of a Binary Search Tree\n",
    "Given a binary search tree (BST), find the lowest common ancestor (LCA) of two given nodes in the BST.\n",
    "\n",
    "According to the definition of LCA on Wikipedia: “The lowest common ancestor is defined between two nodes p and q as the lowest node in T that has both p and q as descendants (where we allow a node to be a descendant of itself).”"
   ]
  },
  {
   "cell_type": "code",
   "execution_count": null,
   "metadata": {},
   "outputs": [],
   "source": [
    "def lowestCommonAncestor(root, p, q):\n",
    "    x = root\n",
    "    while (x != None):\n",
    "        if ( x.val > p.val and x.val > q.val ):\n",
    "            x = x.left\n",
    "        elif (x.val < p.val and x.val < q.val):\n",
    "            x = x.right\n",
    "        # else:\n",
    "        #     return x\n",
    "        else:\n",
    "            break\n",
    "    return x # make sure return outside of while loop"
   ]
  },
  {
   "cell_type": "markdown",
   "metadata": {},
   "source": [
    "### 108 Convert Sorted Array to Binary Search Tree\n",
    "Given an integer array nums where the elements are sorted in ascending order, convert it to a height-balanced binary search tree.\n",
    "\n",
    "A height-balanced binary tree is a binary tree in which the depth of the two subtrees of every node never differs by more than one."
   ]
  },
  {
   "cell_type": "code",
   "execution_count": null,
   "metadata": {},
   "outputs": [],
   "source": [
    "# Definition for a binary tree node.\n",
    "# class TreeNode(object):\n",
    "#     def __init__(self, val=0, left=None, right=None):\n",
    "#         self.val = val\n",
    "#         self.left = left\n",
    "#         self.right = right\n",
    "\n",
    "class Solution(object):\n",
    "    def sortedArrayToBST(self, nums):\n",
    "        \"\"\"\n",
    "        :type nums: List[int]\n",
    "        :rtype: TreeNode\n",
    "        \"\"\"\n",
    "        def helper(left, right):\n",
    "            mid = (left + right)//2\n",
    "            if left > right:\n",
    "                return None\n",
    "            else:\n",
    "                root = TreeNode(val = nums[mid])\n",
    "                root.left = helper(left, mid-1)\n",
    "                root.right = helper(mid+1, right)\n",
    "                return root\n",
    "        return helper(0, len(nums) - 1)"
   ]
  },
  {
   "cell_type": "markdown",
   "metadata": {},
   "source": [
    "### 653. Two Sum IV - Input is a BST\n",
    "Given the root of a Binary Search Tree and a target number k, return true if there exist two elements in the BST such that their sum is equal to the given target.\n"
   ]
  },
  {
   "cell_type": "code",
   "execution_count": null,
   "metadata": {},
   "outputs": [],
   "source": [
    "# Definition for a binary tree node.\n",
    "# class TreeNode(object):\n",
    "#     def __init__(self, val=0, left=None, right=None):\n",
    "#         self.val = val\n",
    "#         self.left = left\n",
    "#         self.right = right\n",
    "class Solution(object): # ToDo\n",
    "    def findTarget(self, root, k):\n",
    "        \"\"\"\n",
    "        :type root: TreeNode\n",
    "        :type k: int\n",
    "        :rtype: bool\n",
    "        \"\"\"\n",
    "        if root.val * 2 = k:\n",
    "            s = root.left\n",
    "            l = root.right\n",
    "        elif root.val < k - root.val:\n",
    "            s = root\n",
    "            l = root.right\n",
    "        else:\n",
    "            s = root.left\n",
    "            l = root\n",
    "        while (s != None and l != None):\n",
    "            \n",
    "                \n",
    "\n"
   ]
  },
  {
   "cell_type": "markdown",
   "metadata": {},
   "source": [
    "### 530. Minimum Absolute Difference in BST"
   ]
  },
  {
   "cell_type": "code",
   "execution_count": null,
   "metadata": {},
   "outputs": [],
   "source": [
    "# Definition for a binary tree node.\n",
    "# class TreeNode(object):\n",
    "#     def __init__(self, val=0, left=None, right=None):\n",
    "#         self.val = val\n",
    "#         self.left = left\n",
    "#         self.right = right\n",
    "class Solution(object):\n",
    "    def getMinimumDifference(self, root):\n",
    "        \"\"\"\n",
    "        :type root: TreeNode\n",
    "        :rtype: int\n",
    "        \"\"\"\n",
    "        self.pre = -1\n",
    "        self.ans = float('inf')\n",
    "        def inOrder(root):\n",
    "            if root is None:\n",
    "                return\n",
    "            inOrder(root.left)\n",
    "            if self.pre == -1:\n",
    "                self.pre = root.val\n",
    "            else:\n",
    "                self.ans = min(self.ans, root.val - self.pre)\n",
    "                self.pre = root.val\n",
    "            inOrder(root.right)\n",
    "        inOrder(root)\n",
    "        return self.ans\n"
   ]
  },
  {
   "cell_type": "code",
   "execution_count": 5,
   "metadata": {},
   "outputs": [
    {
     "data": {
      "text/plain": [
       "4"
      ]
     },
     "execution_count": 5,
     "metadata": {},
     "output_type": "execute_result"
    }
   ],
   "source": [
    "class Solution:\n",
    "    def getMinimumDifference(self, root: TreeNode) -> int:\n",
    "        if not root: return\n",
    "        # 中序遍历，然后计算差值\n",
    "        def helper(root):\n",
    "            if not root: return\n",
    "            helper(root.left)\n",
    "            res.append(root.val)\n",
    "            helper(root.right)\n",
    "            return \n",
    "        res = []\n",
    "        helper(root)\n",
    "        minnum = float('inf')\n",
    "        for i in range(len(res)-1):\n",
    "            minnum = min(minnum, res[i+1]-res[i])\n",
    "        return minnum"
   ]
  },
  {
   "cell_type": "markdown",
   "metadata": {},
   "source": [
    "### 501. Find Mode in Binary Search Tree\n",
    "Given the root of a binary search tree (BST) with duplicates, return all the mode(s) (i.e., the most frequently occurred element) in it.\n",
    "\n",
    "If the tree has more than one mode, return them in any order."
   ]
  },
  {
   "cell_type": "markdown",
   "metadata": {},
   "source": [
    "笨法，BST -> hashcode-> mode"
   ]
  },
  {
   "cell_type": "code",
   "execution_count": null,
   "metadata": {},
   "outputs": [],
   "source": [
    "# Definition for a binary tree node.\n",
    "# class TreeNode(object):\n",
    "#     def __init__(self, val=0, left=None, right=None):\n",
    "#         self.val = val\n",
    "#         self.left = left\n",
    "#         self.right = right\n",
    "class Solution(object):\n",
    "    def findMode(self, root):\n",
    "        \"\"\"\n",
    "        :type root: TreeNode\n",
    "        :rtype: List[int]\n",
    "        \"\"\"\n",
    "\n",
    "        self.map = dict()\n",
    "        def inOrder(root):\n",
    "            if root == None:\n",
    "                return\n",
    "            inOrder(root.left)\n",
    "            self.map[root.val] = 1 if not self.map.get(root.val) else self.map[root.val] + 1\n",
    "            inOrder(root.right)\n",
    "        inOrder(root)\n",
    "        max_count = max(self.map.values())\n",
    "        mode = [key for key, value in self.map.items() if value == max_count]\n",
    "        return mode"
   ]
  },
  {
   "cell_type": "code",
   "execution_count": null,
   "metadata": {},
   "outputs": [],
   "source": [
    "# Definition for a binary tree node.\n",
    "# class TreeNode(object):\n",
    "#     def __init__(self, val=0, left=None, right=None):\n",
    "#         self.val = val\n",
    "#         self.left = left\n",
    "#         self.right = right\n",
    "class Solution(object):\n",
    "    def findMode(self, root):\n",
    "        \"\"\"\n",
    "        :type root: TreeNode\n",
    "        :rtype: List[int]\n",
    "        \"\"\"\n",
    "        self.max_count = 0\n",
    "        self.mode = []\n",
    "        self.count = 0\n",
    "        self.pre = None ### 遍历，想要lookback， 看curr是不是和previous一样。对1，2，2来说还要增加extra index考虑最后一个element -> CAUTION. 最好always 处理currnent，就不用担心这么多\n",
    "\n",
    "        def InOrder(root):\n",
    "            if root is None:\n",
    "                return \n",
    "            InOrder(root.left)\n",
    "            if self.pre == root.val:\n",
    "                self.count = self.count + 1\n",
    "            else:\n",
    "                if self.max_count == self.count:\n",
    "                    self.mode.append(root.val)\n",
    "                elif self.max_count > self.count:\n",
    "                    self.count = 0\n",
    "                else:\n",
    "                    self.max_count = self.count\n",
    "                    self.mode = [root.val]\n",
    "                self.count = 0\n",
    "                self.pre = root.val\n",
    "            InOrder(root.right)\n",
    "        InOrder(root)\n",
    "        return self.mode\n",
    "\n",
    "\n"
   ]
  },
  {
   "cell_type": "code",
   "execution_count": null,
   "metadata": {},
   "outputs": [],
   "source": [
    "# Definition for a binary tree node.\n",
    "# class TreeNode(object):\n",
    "#     def __init__(self, val=0, left=None, right=None):\n",
    "#         self.val = val\n",
    "#         self.left = left\n",
    "#         self.right = right\n",
    "class Solution(object):\n",
    "    def findMode(self, root):\n",
    "        \"\"\"\n",
    "        :type root: TreeNode\n",
    "        :rtype: List[int]\n",
    "        \"\"\"\n",
    "        self.base = None\n",
    "        self.max_count = 0\n",
    "        self.count = 0\n",
    "        self.mode = []\n",
    "        def InOrder(root):\n",
    "            if root is None:\n",
    "                return\n",
    "            InOrder(root.left)\n",
    "            if self.base == root.val:\n",
    "                self.count = self.count + 1\n",
    "            else:\n",
    "                self.count = 1\n",
    "                self.base = root.val\n",
    "            # 对所有element同样操作，就不用考虑特殊地首尾情况，降低复杂度\n",
    "            if self.count > self.max_count:\n",
    "                self.mode = [root.val]\n",
    "                self.max_count = self.count\n",
    "            if self.count == self.max_count:\n",
    "                # 如果还是同一个value，\n",
    "                if root.val not in self.mode:\n",
    "                    self.mode.append(root.val)\n",
    "            InOrder(root.right)\n",
    "        InOrder(root)\n",
    "        return self.mode\n",
    "\n"
   ]
  }
 ],
 "metadata": {
  "interpreter": {
   "hash": "96b3db1ba501e2036d5ffa359dd7a984d144cc5b19755c3a7f94483ac299aa27"
  },
  "kernelspec": {
   "display_name": "Python 3.8.5 ('trading')",
   "language": "python",
   "name": "python3"
  },
  "language_info": {
   "codemirror_mode": {
    "name": "ipython",
    "version": 3
   },
   "file_extension": ".py",
   "mimetype": "text/x-python",
   "name": "python",
   "nbconvert_exporter": "python",
   "pygments_lexer": "ipython3",
   "version": "3.8.5"
  },
  "orig_nbformat": 4
 },
 "nbformat": 4,
 "nbformat_minor": 2
}
