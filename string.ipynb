{
 "cells": [
  {
   "cell_type": "markdown",
   "metadata": {},
   "source": [
    "### 647. Palindromic Substrings 回文子串\n",
    "Input: s = \"aaa\"\n",
    "Output: 6\n",
    "Explanation: Six palindromic strings: \"a\", \"a\", \"a\", \"aa\", \"aa\", \"aaa\"."
   ]
  },
  {
   "cell_type": "code",
   "execution_count": null,
   "metadata": {},
   "outputs": [],
   "source": [
    "int countSubstrings(string s) {\n",
    "    int count = 0;\n",
    "    for (int i = 0; i < s.length(); ++i) {\n",
    "    count += extendSubstrings(s, i, i); // 奇数长度 count += extendSubstrings(s, i, i + 1); // 偶数长度\n",
    "    }\n",
    "    return count;\n",
    "}\n",
    "int extendSubstrings(string s, int l, int r) {\n",
    "    int count = 0;\n",
    "    while (l >= 0 && r < s.length() && s[l] == s[r]) {\n",
    "        --l;\n",
    "        ++r;\n",
    "        ++count; }\n",
    "    return count;\n",
    "}"
   ]
  },
  {
   "cell_type": "markdown",
   "metadata": {},
   "source": [
    "### 696. Count Binary Substrings\n",
    "Give a binary string s, return the number of non-empty substrings that have the same number of 0's and 1's, and all the 0's and all the 1's in these substrings are grouped consecutively.\n",
    "\n",
    "Input: s = \"00110011\"  \n",
    "Output: 6  \n",
    "Explanation: There are 6 substrings that have equal number of consecutive 1's and 0's: \"0011\", \"01\", \"1100\", \"10\", \"0011\", and \"01\"."
   ]
  },
  {
   "cell_type": "markdown",
   "metadata": {},
   "source": [
    "对于 000111 来说，符合要求的子串是 000111 0011 01  \n",
    "不难发现，如果我们找到一段类似 000111 的数据，就可以用来统计答案  \n",
    "即 这样前面是连续 0/1 后面是连续 1/0 的数据  \n",
    "这一段的所有 3 个子串，取决于前面 0/1 的个数和后面 1/0 的个数    \n",
    "即 min(cnt_pre, cnt_cur)  \n"
   ]
  },
  {
   "cell_type": "code",
   "execution_count": null,
   "metadata": {},
   "outputs": [],
   "source": [
    "class Solution {\n",
    "public:\n",
    "    int countBinarySubstrings(string s) {\n",
    "        vector<int> counts;\n",
    "        int ptr = 0, n = s.size();\n",
    "        while (ptr < n) {\n",
    "            char c = s[ptr];\n",
    "            int count = 0;\n",
    "            while (ptr < n && s[ptr] == c) {\n",
    "                ++ptr;\n",
    "                ++count;\n",
    "            }\n",
    "            counts.push_back(count);\n",
    "        }\n",
    "        int ans = 0;\n",
    "        for (int i = 1; i < counts.size(); ++i) {\n",
    "            ans += min(counts[i], counts[i - 1]);\n",
    "        }\n",
    "        return ans;\n",
    "    }\n",
    "};\n"
   ]
  }
 ],
 "metadata": {
  "interpreter": {
   "hash": "96b3db1ba501e2036d5ffa359dd7a984d144cc5b19755c3a7f94483ac299aa27"
  },
  "kernelspec": {
   "display_name": "Python 3.8.5 ('trading')",
   "language": "python",
   "name": "python3"
  },
  "language_info": {
   "name": "python",
   "version": "3.8.5"
  },
  "orig_nbformat": 4
 },
 "nbformat": 4,
 "nbformat_minor": 2
}
