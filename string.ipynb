{
 "cells": [
  {
   "cell_type": "markdown",
   "metadata": {},
   "source": [
    "### 647. Palindromic Substrings 回文子串\n",
    "Input: s = \"aaa\"\n",
    "Output: 6\n",
    "Explanation: Six palindromic strings: \"a\", \"a\", \"a\", \"aa\", \"aa\", \"aaa\"."
   ]
  },
  {
   "cell_type": "code",
   "execution_count": null,
   "metadata": {},
   "outputs": [],
   "source": [
    "# 中心拓展\n",
    "int countSubstrings(string s) {\n",
    "    int count = 0;\n",
    "    for (int i = 0; i < s.length(); ++i) {\n",
    "    count += extendSubstrings(s, i, i); // 奇数长度 \n",
    "    count += extendSubstrings(s, i, i + 1); // 偶数长度\n",
    "    }\n",
    "    return count;\n",
    "}\n",
    "int extendSubstrings(string s, int l, int r) {\n",
    "    int count = 0;\n",
    "    while (l >= 0 && r < s.length() && s[l] == s[r]) {\n",
    "        --l;\n",
    "        ++r;\n",
    "        ++count; }\n",
    "    return count;\n",
    "}"
   ]
  },
  {
   "cell_type": "markdown",
   "metadata": {},
   "source": [
    "### 696. Count Binary Substrings\n",
    "Give a binary string s, return the number of non-empty substrings that have the same number of 0's and 1's, and all the 0's and all the 1's in these substrings are grouped consecutively.\n",
    "\n",
    "Input: s = \"00110011\"  \n",
    "Output: 6  \n",
    "Explanation: There are 6 substrings that have equal number of consecutive 1's and 0's: \"0011\", \"01\", \"1100\", \"10\", \"0011\", and \"01\"."
   ]
  },
  {
   "cell_type": "markdown",
   "metadata": {},
   "source": [
    "对于 000111 来说，符合要求的子串是 000111 0011 01  \n",
    "不难发现，如果我们找到一段类似 000111 的数据，就可以用来统计答案  \n",
    "即 这样前面是连续 0/1 后面是连续 1/0 的数据  \n",
    "这一段的所有 3 个子串，取决于前面 0/1 的个数和后面 1/0 的个数    \n",
    "即 min(cnt_pre, cnt_cur)  \n"
   ]
  },
  {
   "cell_type": "code",
   "execution_count": 3,
   "metadata": {},
   "outputs": [],
   "source": [
    "def countBinarySubstrings(s: str) -> int:\n",
    "    i = 0\n",
    "    n = len(s)\n",
    "    cnts = []\n",
    "    while i < n:\n",
    "        cnt = 0 \n",
    "        current_char = s[i]\n",
    "        while i < n and s[i] == current_char:\n",
    "            cnt += 1 \n",
    "            i += 1\n",
    "        cnts.append(cnt)\n",
    "\n",
    "    ans = 0\n",
    "    j = 1\n",
    "    while j < len(cnts):\n",
    "        ans += min(cnts[j-1], cnts[j])\n",
    "        j += 1\n",
    "    return ans\n",
    "\n"
   ]
  },
  {
   "cell_type": "code",
   "execution_count": 4,
   "metadata": {},
   "outputs": [
    {
     "data": {
      "text/plain": [
       "6"
      ]
     },
     "execution_count": 4,
     "metadata": {},
     "output_type": "execute_result"
    }
   ],
   "source": [
    "countBinarySubstrings(\"00110011\")"
   ]
  },
  {
   "cell_type": "code",
   "execution_count": null,
   "metadata": {},
   "outputs": [],
   "source": [
    "class Solution {\n",
    "public:\n",
    "    int countBinarySubstrings(string s) {\n",
    "        vector<int> counts;\n",
    "        int ptr = 0, n = s.size();\n",
    "        while (ptr < n) {\n",
    "            char c = s[ptr];\n",
    "            int count = 0;\n",
    "            while (ptr < n && s[ptr] == c) {\n",
    "                ++ptr;\n",
    "                ++count;\n",
    "            }\n",
    "            counts.push_back(count);\n",
    "        }\n",
    "        int ans = 0;\n",
    "        for (int i = 1; i < counts.size(); ++i) {\n",
    "            ans += min(counts[i], counts[i - 1]);\n",
    "        }\n",
    "        return ans;\n",
    "    }\n",
    "};\n"
   ]
  },
  {
   "cell_type": "markdown",
   "metadata": {},
   "source": [
    "### 227. Basic Calculator II\n",
    "Given a string s which represents an expression, evaluate this expression and return its value. \n",
    "The integer division should truncate toward zero. \n",
    "\n",
    "Input: s = \"3+2*2\"  \n",
    "Output: 7"
   ]
  },
  {
   "cell_type": "markdown",
   "metadata": {},
   "source": [
    "Idea:  \n",
    "    * 加号：将数字压入栈；\n",
    "        减号：将数字的相反数压入栈；\n",
    "        乘除号：计算数字与栈顶元素，并将栈顶元素替换为计算结果。"
   ]
  },
  {
   "cell_type": "code",
   "execution_count": 5,
   "metadata": {},
   "outputs": [],
   "source": [
    "def calculate(s: str) -> int:\n",
    "    n = len(s)\n",
    "    stack = []\n",
    "    preSign = '+' # 如果我们在字符串左边加上一个加号，可以证明其并不改变运算结果，且字符串可以分割成 多个 < 一个运算符，一个数字 > 对子的形式;这样一来我们就可以从左往右处理了。\n",
    "    num = 0\n",
    "    for i in range(n):\n",
    "        if s[i] != ' ' and s[i].isdigit():\n",
    "            num = num * 10 + ord(s[i]) - ord('0') # ord():returns the Unicode code from a given character; Need to consider if num is more than two digits\n",
    "        if i == n - 1 or s[i] in '+-*/':\n",
    "            if preSign == '+':\n",
    "                stack.append(num)\n",
    "            elif preSign == '-':\n",
    "                stack.append(-num)\n",
    "            elif preSign == '*':\n",
    "                stack.append(stack.pop() * num)\n",
    "            else:\n",
    "                stack.append(int(stack.pop() / num))\n",
    "            preSign = s[i]\n",
    "            num = 0\n",
    "    return sum(stack)\n"
   ]
  },
  {
   "cell_type": "markdown",
   "metadata": {},
   "source": [
    "### 28. Implement strStr()\n",
    "Given two strings needle and haystack, return the index of the first occurrence of needle in haystack, or -1 if needle is not part of haystack.\n",
    "\n",
    "Input: haystack = \"hello\", needle = \"ll\"\n",
    "Output: 2"
   ]
  },
  {
   "cell_type": "code",
   "execution_count": 12,
   "metadata": {},
   "outputs": [],
   "source": [
    "def strStr(haystack: str, needle: str) -> int:\n",
    "    n = len(haystack)\n",
    "    m = len(needle)\n",
    "    for i in range(n-m+1):\n",
    "        flag = True # Use flag to deal with nested loop; \n",
    "        for j in range(m):\n",
    "            if haystack[i+j] != needle[j]: # Easy to detect negative case\n",
    "                flag = False\n",
    "                break\n",
    "        if flag:\n",
    "            return i # Use flag to deal with nested loop; \n",
    "    return -1"
   ]
  },
  {
   "cell_type": "markdown",
   "metadata": {},
   "source": [
    "KMP: https://leetcode.cn/problems/implement-strstr/solution/zhe-ke-neng-shi-quan-wang-zui-xi-de-kmp-8zl57/"
   ]
  },
  {
   "cell_type": "markdown",
   "metadata": {},
   "source": []
  }
 ],
 "metadata": {
  "interpreter": {
   "hash": "96b3db1ba501e2036d5ffa359dd7a984d144cc5b19755c3a7f94483ac299aa27"
  },
  "kernelspec": {
   "display_name": "Python 3.8.5 ('trading')",
   "language": "python",
   "name": "python3"
  },
  "language_info": {
   "codemirror_mode": {
    "name": "ipython",
    "version": 3
   },
   "file_extension": ".py",
   "mimetype": "text/x-python",
   "name": "python",
   "nbconvert_exporter": "python",
   "pygments_lexer": "ipython3",
   "version": "3.8.5"
  },
  "orig_nbformat": 4
 },
 "nbformat": 4,
 "nbformat_minor": 2
}
