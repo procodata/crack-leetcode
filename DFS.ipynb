{
 "cells": [
  {
   "cell_type": "markdown",
   "metadata": {},
   "source": [
    "### 144. Binary Tree Preorder Traversal\n"
   ]
  },
  {
   "cell_type": "code",
   "execution_count": null,
   "metadata": {},
   "outputs": [],
   "source": [
    "def preorderTraversal(root):\n",
    "    \"\"\"\n",
    "    :type root: TreeNode\n",
    "    :rtype: List[int]\n",
    "    \"\"\"\n",
    "    res = []\n",
    "    def preorder(x):\n",
    "        if not x:\n",
    "            return\n",
    "        res.append(x.val)\n",
    "        preorder(x.left)\n",
    "        preorder(x.right)\n",
    "    preorder(root)\n",
    "    return res"
   ]
  },
  {
   "cell_type": "markdown",
   "metadata": {},
   "source": [
    "* Recursion \n",
    "* Morris 遍历：space complexity O(1)  \n",
    "https://leetcode-cn.com/problems/binary-tree-preorder-traversal/solution/er-cha-shu-de-qian-xu-bian-li-by-leetcode-solution/    \n",
    "https://blog.csdn.net/liujia2115/article/details/109215284  \n",
    "Morris其实解决了一个常规循环中循环到叶子节点后难以回到根节点的问题。 我们都知道前序遍历是先左后右，那么对任一节点p1来说，其右子树p1right所有节点必然在左子树p1left之后。代码中第二个while做的是，在p1left里一直往右，直到找不到更右的点，记这一点为p2。然后把p1right接到p2的右边。 这样既保证了p1right在p1left所有点之后，又不需要再回到p1节点。 即在正常的往下循环的过程中，不断把右半部分剪下来，接到左半部分的最右下"
   ]
  },
  {
   "cell_type": "markdown",
   "metadata": {},
   "source": []
  }
 ],
 "metadata": {
  "language_info": {
   "name": "python"
  },
  "orig_nbformat": 4
 },
 "nbformat": 4,
 "nbformat_minor": 2
}
