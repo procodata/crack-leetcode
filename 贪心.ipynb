{
 "cells": [
  {
   "cell_type": "markdown",
   "metadata": {},
   "source": [
    "局部最优—>全局最优\n",
    "贪心策略的选择必须具备无后效性，也就是说某个状态以前的过程不会影响以后的状态，只与当前状态有关。"
   ]
  },
  {
   "cell_type": "markdown",
   "metadata": {},
   "source": [
    "### 455. Assign Cookies\n",
    "Assume you are an awesome parent and want to give your children some cookies. But, you should give each child at most one cookie.\n",
    "\n",
    "Each child i has a greed factor g[i], which is the minimum size of a cookie that the child will be content with; and each cookie j has a size s[j]. If s[j] >= g[i], we can assign the cookie j to the child i, and the child i will be content. Your goal is to maximize the number of your content children and output the maximum number."
   ]
  },
  {
   "cell_type": "code",
   "execution_count": null,
   "metadata": {},
   "outputs": [],
   "source": [
    "def findContentChildren(g, s):\n",
    "    g.sort()\n",
    "    s.sort()\n",
    "    i = 0\n",
    "    j = 0\n",
    "    count = 0\n",
    "    while i <= len(g)-1 and j <= len(s)-1:\n",
    "        if g[i] <= s[j]:\n",
    "            count = count + 1\n",
    "            i = i+1\n",
    "            j = j + 1\n",
    "        else:\n",
    "            j = j + 1\n",
    "    return count\n"
   ]
  },
  {
   "cell_type": "markdown",
   "metadata": {},
   "source": [
    "### 121. Best Time to Buy and Sell Stock\n",
    "You are given an array prices where prices[i] is the price of a given stock on the ith day.\n",
    "\n",
    "You want to maximize your profit by choosing a single day to buy one stock and choosing a different day in the future to sell that stock\n",
    "\n",
    "Input: prices = [7,1,5,3,6,4]\n",
    "Output: 5\n",
    "Explanation: Buy on day 2 (price = 1) and sell on day 5 (price = 6), profit = 6-1 = 5."
   ]
  },
  {
   "cell_type": "code",
   "execution_count": null,
   "metadata": {},
   "outputs": [],
   "source": [
    "# This is actually a DP way. \n",
    "# 第i天的最大收益只需要知道前i天的最低点就可以算出来了。而第i天以前（包括第i天）的最低点和i-1天的最低点有关\n",
    "def maxProfit(prices):\n",
    "    pre_min = prices[0]\n",
    "    max_profit = 0\n",
    "    i = 1\n",
    "    while i <= len(prices) - 1:\n",
    "        profit = prices[i] - pre_min\n",
    "        max_profit = profit if profit >= max_profit else max_profit\n",
    "        pre_min = min(pre_min, prices[i])\n",
    "        i = i + 1\n",
    "    return max_profit\n"
   ]
  },
  {
   "cell_type": "markdown",
   "metadata": {},
   "source": [
    "### 122. Best Time to Buy and Sell Stock II\n",
    "On each day, you may decide to buy and/or sell the stock. You can only hold at most one share of the stock at any time. However, you can buy it then immediately sell it on the same day.\n",
    "\n",
    "Input: prices = [7,1,5,3,6,4]\n",
    "Output: 7\n",
    "Explanation: Buy on day 2 (price = 1) and sell on day 3 (price = 5), profit = 5-1 = 4.\n",
    "Then buy on day 4 (price = 3) and sell on day 5 (price = 6), profit = 6-3 = 3.\n",
    "Total profit is 4 + 3 = 7."
   ]
  },
  {
   "cell_type": "markdown",
   "metadata": {},
   "source": [
    "For each day and the following day, collect profit or pass  \n",
    "贪心算法进行 4次买入和 4 次卖出 （local optimal），而不是在第 1 天买入，第 5 天卖出 (全局)"
   ]
  },
  {
   "cell_type": "code",
   "execution_count": null,
   "metadata": {},
   "outputs": [],
   "source": [
    "def maxProfit(prices):\n",
    "    buy = 0\n",
    "    current = 1\n",
    "    profit = 0\n",
    "    while current < len(prices):\n",
    "        if prices[current] >= prices[buy]:\n",
    "            profit = profit + (prices[current] - prices[buy])\n",
    "        buy = current\n",
    "        current = current + 1\n",
    "    return profit"
   ]
  },
  {
   "cell_type": "markdown",
   "metadata": {},
   "source": [
    "### 605. Can Place Flowers\n",
    "You have a long flowerbed in which some of the plots are planted, and some are not. However, flowers cannot be planted in adjacent plots.\n",
    "\n",
    "Given an integer array flowerbed containing 0's and 1's, where 0 means empty and 1 means not empty, and an integer n, return if n new flowers can be planted in the flowerbed without violating the no-adjacent-flowers rule.\n",
    "\n",
    "Input: flowerbed = [1,0,0,0,1], n = 1\n",
    "Output: true\n"
   ]
  },
  {
   "cell_type": "markdown",
   "metadata": {},
   "source": [
    "* Edge case, boundary of index"
   ]
  },
  {
   "cell_type": "code",
   "execution_count": null,
   "metadata": {},
   "outputs": [],
   "source": [
    "def canPlaceFlowers(flowerbed, n):\n",
    "    total = 0\n",
    "    # if flowerbed[0] == 0 and flowerbed[1] == 0:\n",
    "    #     flowerbed[0] = 1\n",
    "    #     total = total + 1\n",
    "    # if flowerbed[-1] == 0 and flowerbed[-2] == 0:\n",
    "    #     flowerbed[-1] = 1\n",
    "    #     total = total + 1\n",
    "    # for i in range(1, len(flowerbed)-1): \n",
    "\n",
    "    for i in range(len(flowerbed)):\n",
    "        if flowerbed[i] == 0 and (i == 0 or flowerbed[i-1] == 0 ) and (i == len(flowerbed)-1 or flowerbed[i+1] == 0):\n",
    "            flowerbed[i] = 1\n",
    "            total = total + 1\n",
    "\n",
    "    return True if total >= n else False"
   ]
  },
  {
   "cell_type": "markdown",
   "metadata": {},
   "source": [
    "### 65. Non-decreasing Array\n",
    "Given an array nums with n integers, your task is to check if it could become non-decreasing by modifying at most one element\n",
    "\n",
    "Input: nums = [4,2,3]  \n",
    "Output: true    \n",
    "Explanation: You could modify the first 4 to 1 to get a non-decreasing array\n",
    "\n",
    "[3,4,2,3] false与[5,7,1,8] true\n",
    "\n",
    "* edge case: boundary of index "
   ]
  },
  {
   "cell_type": "code",
   "execution_count": null,
   "metadata": {},
   "outputs": [],
   "source": [
    "def checkPossibility(nums):\n",
    "    n = 0\n",
    "    for i in range(len(nums) - 1): \n",
    "        if nums[i] > nums[i+1]: # 优先考虑降低 nums[i] = nums[i+1]保持单调， 才能留空间使之后尽可能单调；然后再考虑增大 nums[i+1] = nums[i]\n",
    "            n = n + 1\n",
    "\n",
    "            if i == 0 or nums[i-1] <= nums[i+1]: # 确保 i 之前单调\n",
    "                nums[i] = nums[i+1]\n",
    "            else:\n",
    "                nums[i+1] = nums[i]\n",
    "        else:\n",
    "            continue\n",
    "    return True if n < 2 else False\n",
    "        "
   ]
  },
  {
   "cell_type": "markdown",
   "metadata": {},
   "source": [
    "### 53. Maximum Subarray\n",
    "Given an integer array nums, find the contiguous subarray (containing at least one number) which has the largest sum and return its sum.\n",
    "\n",
    "Input: nums = [-2,1,-3,4,-1,2,1,-5,4]  \n",
    "Output: 6  \n",
    "Explanation: [4,-1,2,1] has the largest sum = 6."
   ]
  },
  {
   "cell_type": "markdown",
   "metadata": {},
   "source": [
    "greedy, dp, \n",
    "分治法：线段树\n",
    "https://leetcode-cn.com/problems/maximum-subarray/solution/zui-da-zi-xu-he-by-leetcode-solution/"
   ]
  },
  {
   "cell_type": "code",
   "execution_count": null,
   "metadata": {},
   "outputs": [],
   "source": [
    "def maxSubArray(nums):\n",
    "    cache = 0 # 爱的存储\n",
    "    result = float(\"-inf\") # case when nums = [-1]\n",
    "    for i in range(len(nums)):\n",
    "        cache += nums[i] # 爱的存储增加或消耗\n",
    "        result = max(result, cache) # 记录最大值\n",
    "        if cache < 0: #如果爱的存储被消耗光，就重新开始一段\n",
    "            cache = 0\n",
    "    return result"
   ]
  }
 ],
 "metadata": {
  "interpreter": {
   "hash": "96b3db1ba501e2036d5ffa359dd7a984d144cc5b19755c3a7f94483ac299aa27"
  },
  "kernelspec": {
   "display_name": "Python 3.8.5 ('trading')",
   "language": "python",
   "name": "python3"
  },
  "language_info": {
   "codemirror_mode": {
    "name": "ipython",
    "version": 3
   },
   "file_extension": ".py",
   "mimetype": "text/x-python",
   "name": "python",
   "nbconvert_exporter": "python",
   "pygments_lexer": "ipython3",
   "version": "3.8.5"
  },
  "orig_nbformat": 4
 },
 "nbformat": 4,
 "nbformat_minor": 2
}
