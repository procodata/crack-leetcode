{
 "cells": [
  {
   "cell_type": "markdown",
   "metadata": {},
   "source": [
    "* Recursion `dfs(root, path/dep)` 需要记住recursion的state， 199"
   ]
  },
  {
   "cell_type": "markdown",
   "metadata": {},
   "source": [
    "### 104. Maximum Depth of Binary Tree"
   ]
  },
  {
   "cell_type": "code",
   "execution_count": null,
   "metadata": {},
   "outputs": [],
   "source": [
    "# Definition for a binary tree node.\n",
    "# class TreeNode:\n",
    "#     def __init__(self, val=0, left=None, right=None):\n",
    "#         self.val = val\n",
    "#         self.left = left\n",
    "#         self.right = right\n",
    "def maxDepth(root: Optional[TreeNode]) -> int:\n",
    "    if not root: return 0\n",
    "    left_len = maxDepth(root.left)\n",
    "    right_len = maxDepth(root.right)\n",
    "    return max(left_len, right_len) + 1\n",
    "        "
   ]
  },
  {
   "cell_type": "markdown",
   "metadata": {},
   "source": [
    "### 110. Balanced Binary Tree\n",
    "Given a binary tree, determine if it is height-balanced.\n",
    "\n",
    "For this problem, a height-balanced binary tree is defined as:\n",
    "\n",
    "a binary tree in which the left and right subtrees of every node differ in height by no more than 1."
   ]
  },
  {
   "cell_type": "markdown",
   "metadata": {},
   "source": [
    "Idea: \n",
    "* 自顶向下的递归，重复计算很多次子树的高度. $O(n^2)$\n",
    "* 自下而上递归， 每个节点会递归返回高度，父节点高度只需要取左右节点的较大值加1即可 O(n)"
   ]
  },
  {
   "cell_type": "code",
   "execution_count": null,
   "metadata": {},
   "outputs": [],
   "source": [
    "# 自顶而下相当于两套递归。 isBalanced()向下递归, 每次maxDepth（）也要递归\n",
    "def isBalanced(root: TreeNode) -> bool:\n",
    "    def maxDepth(root: Optional[TreeNode]) -> int:\n",
    "        if not root: return 0\n",
    "        left_len = maxDepth(root.left)\n",
    "        right_len = maxDepth(root.right)\n",
    "        return max(left_len, right_len) + 1\n",
    "    if not root: return True\n",
    "    return abs(maxDepth(root.left) - maxDepth(root.right)) < 2 and isBalanced(root.left) and isBalanced(root.right)"
   ]
  },
  {
   "cell_type": "code",
   "execution_count": 1,
   "metadata": {},
   "outputs": [
    {
     "data": {
      "text/plain": [
       "1"
      ]
     },
     "execution_count": 1,
     "metadata": {},
     "output_type": "execute_result"
    }
   ],
   "source": [
    "# postorder\n",
    "def isBalanced(self, root: TreeNode) -> bool:\n",
    "    def height(root: TreeNode) -> int:\n",
    "        if not root:\n",
    "            return 0\n",
    "        leftHeight = height(root.left)\n",
    "        rightHeight = height(root.right)\n",
    "        if leftHeight == -1 or rightHeight == -1 or abs(leftHeight - rightHeight) > 1:\n",
    "            return -1\n",
    "        else:\n",
    "            return max(leftHeight, rightHeight) + 1\n",
    "\n",
    "    return height(root) >= 0\n"
   ]
  },
  {
   "cell_type": "markdown",
   "metadata": {},
   "source": [
    "### 543. Diameter of Binary Tree\n",
    "Given the root of a binary tree, return the length of the diameter of the tree.\n",
    "\n",
    "The diameter of a binary tree is the length of the longest path between any two nodes in a tree. This path may or may not pass through the root."
   ]
  },
  {
   "cell_type": "markdown",
   "metadata": {},
   "source": [
    "Idea:\n",
    "* maxDepth()的递归\n",
    "* 最大diameter有两种情况：  \n",
    "    1， 经过左，根，右 -> L + R + 1  \n",
    "    2,  左或者右存在更大diameter"
   ]
  },
  {
   "cell_type": "code",
   "execution_count": null,
   "metadata": {},
   "outputs": [],
   "source": [
    "\n",
    "# More intuitive way.\n",
    "\n",
    "class Solution:\n",
    "    def diameterOfBinaryTree(self, root: TreeNode) -> int:\n",
    "        def maxDepth(root: Optional[TreeNode]) -> int:\n",
    "            if not root: return 0\n",
    "            left_len = maxDepth(root.left)\n",
    "            right_len = maxDepth(root.right)\n",
    "            return max(left_len, right_len) + 1\n",
    "        if not root:\n",
    "            return 0\n",
    "        depth_left = maxDepth(root.left)\n",
    "        depth_right = maxDepth(root.right)\n",
    "        dia_left = self.diameterOfBinaryTree(root.left)                \n",
    "        dia_right = self.diameterOfBinaryTree(root.right)\n",
    "        res1 = depth_left + depth_right + 1\n",
    "        return max([res1-1, dia_left, dia_right  ])"
   ]
  },
  {
   "cell_type": "code",
   "execution_count": null,
   "metadata": {},
   "outputs": [],
   "source": [
    "class Solution:\n",
    "    def diameterOfBinaryTree(self, root: TreeNode) -> int:\n",
    "        self.ans = 1\n",
    "        def depth(node):\n",
    "            # 访问到空节点了，返回0\n",
    "            if not node:\n",
    "                return 0\n",
    "            # 左儿子为根的子树的深度\n",
    "            L = depth(node.left)\n",
    "            # 右儿子为根的子树的深度\n",
    "            R = depth(node.right)\n",
    "            # 两种情况\n",
    "            self.ans = max(self.ans, L + R + 1)\n",
    "            # 返回该节点为根的子树的深度\n",
    "            return max(L, R) + 1\n",
    "\n",
    "        depth(root)\n",
    "        return self.ans - 1\n"
   ]
  },
  {
   "cell_type": "markdown",
   "metadata": {},
   "source": [
    "### 226. Invert Binary Tree\n"
   ]
  },
  {
   "cell_type": "code",
   "execution_count": null,
   "metadata": {},
   "outputs": [],
   "source": [
    "# post order: intert from bottom to top \n",
    "class Solution:\n",
    "    def invertTree(self, root: TreeNode) -> TreeNode:\n",
    "        if not root:\n",
    "            return root\n",
    "        self.invertTree(root.left)\n",
    "        self.invertTree(root.right)\n",
    "        root.left, root.right = root.right, root.left\n",
    "        return root"
   ]
  },
  {
   "cell_type": "code",
   "execution_count": null,
   "metadata": {},
   "outputs": [],
   "source": [
    "# pre order: invert from top to bottom\n",
    "public TreeNode invertTree(TreeNode root) {\n",
    "        if(root == null)\n",
    "            return null;\n",
    "        TreeNode right = root.left;\n",
    "        root.left = root.right;\n",
    "        root.right = right;\n",
    "        invertTree(root.left);\n",
    "        invertTree(root.right);\n",
    "        return root;\n",
    "    }"
   ]
  },
  {
   "cell_type": "markdown",
   "metadata": {},
   "source": [
    "### 617. Merge Two Binary Trees\n",
    "![](2022-04-18-16-46-27.png)"
   ]
  },
  {
   "cell_type": "code",
   "execution_count": null,
   "metadata": {},
   "outputs": [],
   "source": [
    "class Solution:\n",
    "    def mergeTrees(self, root1: TreeNode, root2: TreeNode) -> TreeNode:\n",
    "        if not root1 and not root2:\n",
    "            return None\n",
    "        if not root1 and root2:\n",
    "            return root2\n",
    "        if not root2 and root1:\n",
    "            return root1\n",
    "        if root1 and root2:\n",
    "            left = self.mergeTrees(root1.left, root2.left)\n",
    "            right = self.mergeTrees(root1.right, root2.right)\n",
    "            return TreeNode(val=root1.val+root2.val, left=left, right = right)"
   ]
  },
  {
   "cell_type": "code",
   "execution_count": null,
   "metadata": {},
   "outputs": [],
   "source": [
    "class Solution:\n",
    "    def mergeTrees(self, t1: TreeNode, t2: TreeNode) -> TreeNode:\n",
    "        if not t1:\n",
    "            return t2\n",
    "        if not t2:\n",
    "            return t1\n",
    "        \n",
    "        merged = TreeNode(t1.val + t2.val)\n",
    "        merged.left = self.mergeTrees(t1.left, t2.left)\n",
    "        merged.right = self.mergeTrees(t1.right, t2.right)\n",
    "        return merged"
   ]
  },
  {
   "cell_type": "markdown",
   "metadata": {},
   "source": [
    "### 112. Path Sum\n",
    "Given the root of a binary tree and an integer targetSum, return true if the tree has a root-to-leaf path such that adding up all the values along the path equals targetSum."
   ]
  },
  {
   "cell_type": "code",
   "execution_count": null,
   "metadata": {},
   "outputs": [],
   "source": [
    "class Solution:\n",
    "    def hasPathSum(self, root: Optional[TreeNode], targetSum: int) -> bool:\n",
    "        \n",
    "        if not root:\n",
    "            return False\n",
    "        if not root.left and not root.right:\n",
    "            return root.val == targetSum\n",
    "        return self.hasPathSum(root.left, targetSum - root.val) or self.hasPathSum(root.right, targetSum - root.val)"
   ]
  },
  {
   "cell_type": "markdown",
   "metadata": {},
   "source": [
    "### 572. Subtree of Another Tree\n",
    "Given the roots of two binary trees root and subRoot, return true if there is a subtree of root with the same structure and node values of subRoot and false otherwise."
   ]
  },
  {
   "cell_type": "markdown",
   "metadata": {},
   "source": []
  },
  {
   "cell_type": "code",
   "execution_count": null,
   "metadata": {},
   "outputs": [],
   "source": [
    "class Solution:\n",
    "    def isSubtree(self, root: TreeNode, subRoot: TreeNode) -> bool:\n",
    "        if not root:\n",
    "            return False\n",
    "        def isSame(root, subRoot):\n",
    "            if not root and not subRoot:\n",
    "                return True\n",
    "            if not root or not subRoot:\n",
    "                return False\n",
    "            # root and subRoot are not None\n",
    "            if root.val != subRoot.val:\n",
    "                return False\n",
    "            else:\n",
    "                return isSame(root.left, subRoot.left) and isSame(root.right, subRoot.right)\n",
    "        # if root.val == subRoot.val:\n",
    "        #     return isSame(root, subRoot)\n",
    "        return isSame(root, subRoot) or isSubtree(root.left, subRoot) or isSubtree(root.right, subRoot)\n",
    "        "
   ]
  },
  {
   "cell_type": "markdown",
   "metadata": {},
   "source": [
    "### 101. Symmetric Tree"
   ]
  },
  {
   "cell_type": "code",
   "execution_count": null,
   "metadata": {},
   "outputs": [],
   "source": [
    "class Solution:\n",
    "    def isSymmetric(self, root: Optional[TreeNode]) -> bool:\n",
    "        if not root:\n",
    "            return True\n",
    "        left = root.left\n",
    "        right = root.right\n",
    "        def isFlipped(left, right):\n",
    "            if not left and not right:\n",
    "                return True\n",
    "            if not left or not right:\n",
    "                return False\n",
    "            \n",
    "            # if left.val == right.val and isFlipped(left.left, right.right) and isFlipped(left.right, right.left):\n",
    "            #     return True\n",
    "            # else: \n",
    "            #     return False\n",
    "            return left.val == right.val and isFlipped(left.left, right.right) and isFlipped(left.right, right.left)\n",
    "        return isFlipped(left, right)"
   ]
  },
  {
   "cell_type": "markdown",
   "metadata": {},
   "source": [
    "### 111. Minimum Depth of Binary Tree\n",
    "The minimum depth is the number of nodes along the shortest path from the root node down to the nearest leaf node.\n",
    "\n",
    "Note: A leaf is a node with no children."
   ]
  },
  {
   "cell_type": "code",
   "execution_count": null,
   "metadata": {},
   "outputs": [],
   "source": [
    "class Solution:\n",
    "    def minDepth(self, root: TreeNode) -> int:\n",
    "        if not root:\n",
    "            return 0\n",
    "        if not root.left and not root.right:\n",
    "            return 1\n",
    "        if not root.left or not root.right:\n",
    "            return max(minDepth(root.left), minDepth(root.right)) + 1\n",
    "        return min(minDepth(root.left), minDepth(root.right)) + 1"
   ]
  },
  {
   "cell_type": "code",
   "execution_count": null,
   "metadata": {},
   "outputs": [],
   "source": [
    "class Solution {\n",
    "    public int minDepth(TreeNode root) {\n",
    "        if (root == null) return 0;\n",
    "        else if (root.left == null) return minDepth(root.right) + 1;\n",
    "        else if (root.right == null) return minDepth(root.left) + 1;\n",
    "        else return Math.min(minDepth(root.left), minDepth(root.right)) + 1;\n",
    "    }\n",
    "}"
   ]
  },
  {
   "cell_type": "markdown",
   "metadata": {},
   "source": [
    "### 404. Sum of Left Leaves\n",
    "Given the root of a binary tree, return the sum of all left leaves.\n",
    "\n",
    "A leaf is a node with no children. A left leaf is a leaf that is the left child of another node."
   ]
  },
  {
   "cell_type": "code",
   "execution_count": null,
   "metadata": {},
   "outputs": [],
   "source": [
    "class Solution:\n",
    "    def sumOfLeftLeaves(self, root: Optional[TreeNode]) -> int:\n",
    "        self.sum = 0 # 需要一个全局变量，所以定义一个helper function\n",
    "        def dfs(root):\n",
    "            if not root:\n",
    "                return \n",
    "            if root.left and not root.left.left and not root.left.right:\n",
    "                self.sum += root.left.val\n",
    "            else:\n",
    "                dfs(root.left)\n",
    "                dfs(root.right)\n",
    "        dfs(root)\n",
    "        return self.sum"
   ]
  },
  {
   "cell_type": "code",
   "execution_count": null,
   "metadata": {},
   "outputs": [],
   "source": [
    "class Solution:\n",
    "    def __init__(self):\n",
    "        self.res = 0\n",
    "    def sumOfLeftLeaves(self, root: TreeNode) -> int:\n",
    "        if not root: return 0\n",
    "        if root.left and not root.left.left and not root.left.right:\n",
    "            self.res += root.left.val\n",
    "        self.sumOfLeftLeaves(root.left)\n",
    "        self.sumOfLeftLeaves(root.right)\n",
    "        return self.res"
   ]
  },
  {
   "cell_type": "markdown",
   "metadata": {},
   "source": [
    "### 687. Longest Univalue Path\n",
    "Given the root of a binary tree, return the length of the longest path, where each node in the path has the same value. This path may or may not pass through the root."
   ]
  },
  {
   "cell_type": "markdown",
   "metadata": {},
   "source": [
    "Idea:\n",
    "* similar to 110: Balanced binary tree\n",
    "* **这里有两个逻辑： 1）helper 递归 2）longest path**  \n",
    "    * longest path 有几种情况 `max(res, r+l)`解决\n",
    "    * helper递归 只需考虑左或者右，然后`max(r, l)` 因为 example 2 的情况不会影响![](2022-04-19-22-16-27.png)\n",
    "    "
   ]
  },
  {
   "cell_type": "code",
   "execution_count": null,
   "metadata": {},
   "outputs": [],
   "source": [
    "class Solution:\n",
    "    def longestUnivaluePath(self, root: TreeNode) -> int:\n",
    "        \n",
    "        self.res = 0\n",
    "        def helper(root):\n",
    "            if not root: return 0\n",
    "            l = helper(root.left)\n",
    "            r = helper(root.right)\n",
    "            \n",
    "            if root.left:\n",
    "                if root.left.val == root.val:\n",
    "                    l += 1\n",
    "                else:\n",
    "                    l = 0\n",
    "            if root.right:\n",
    "                if root.right.val == root.val:\n",
    "                    r += 1\n",
    "                else:\n",
    "                    r = 0\n",
    "            self.res = max(self.res, l+r) # this includes all possibilities: 1) left right both the same 2) only left or right is the same\n",
    "            return max(l, r)\n",
    "        helper(root)\n",
    "        return self.res\n",
    "        "
   ]
  },
  {
   "cell_type": "markdown",
   "metadata": {},
   "source": [
    "### 100. Same Tree\n",
    "Two binary trees are considered the same if they are structurally identical, and the nodes have the same value."
   ]
  },
  {
   "cell_type": "markdown",
   "metadata": {},
   "source": [
    "Idea:\n",
    "* 3 steps:\n",
    "    * base cases: not p, not q\n",
    "    * recursion in left and right when p, q are not None\n",
    "    * step forward with left, right and root"
   ]
  },
  {
   "cell_type": "code",
   "execution_count": null,
   "metadata": {},
   "outputs": [],
   "source": [
    "class Solution:\n",
    "    def isSameTree(self, p: TreeNode, q: TreeNode) -> bool:\n",
    "        if not p and not q: return True\n",
    "        if (not p and q) or (p and not q): return False\n",
    "\n",
    "        l = self.isSameTree(p.left, q.left)\n",
    "        r = self.isSameTree(p.right, q.right)\n",
    "        \n",
    "        if l and r and p.val == q.val:\n",
    "            return True\n",
    "        else:\n",
    "            return False"
   ]
  },
  {
   "cell_type": "markdown",
   "metadata": {},
   "source": [
    "### 222. Count Complete Tree Nodes\n",
    "Given the root of a complete binary tree, return the number of the nodes in the tree.\n",
    "\n",
    "According to Wikipedia, every level, except possibly the last, is completely filled in a complete binary tree, and all nodes in the last level are as far left as possible. It can have between 1 and 2h nodes inclusive at the last level h.\n",
    "\n",
    "Design an algorithm that runs in **less than O(n)** time complexity.\n"
   ]
  },
  {
   "cell_type": "code",
   "execution_count": null,
   "metadata": {},
   "outputs": [],
   "source": [
    "# O(n)\n",
    "class Solution:\n",
    "    def countNodes(self, root: TreeNode) -> int:\n",
    "        if not root: return 0\n",
    "        l = self.countNodes(root.left)\n",
    "        r = self.countNodes(root.right)\n",
    "        return l+r+1"
   ]
  },
  {
   "cell_type": "code",
   "execution_count": null,
   "metadata": {},
   "outputs": [],
   "source": [
    "class Solution:\n",
    "    def countNodes(self, root: TreeNode) -> int:\n",
    "        if not root: return 0\n",
    "        left_height = 0\n",
    "        left_node = root\n",
    "        right_height = 0\n",
    "        right_node = root\n",
    "        while left_node:\n",
    "            left_node = left_node.left\n",
    "            left_height += 1\n",
    "        while right_node:\n",
    "            right_node = right_node.right\n",
    "            right_height += 1\n",
    "        if left_height == right_height:\n",
    "            return 2**left_height - 1\n",
    "        return 1 + self.countNodes(root.left) + self.countNodes(root.right)"
   ]
  },
  {
   "cell_type": "markdown",
   "metadata": {},
   "source": [
    "### 257. Binary Tree Paths\n",
    "return all root-to-leaf paths in any order."
   ]
  },
  {
   "cell_type": "markdown",
   "metadata": {},
   "source": [
    "Idea:\n",
    "* **pre order is much easier than post order** If post order, need to have a 2d array to save all path. pre order: 化整为零； post order: 化零为整"
   ]
  },
  {
   "cell_type": "code",
   "execution_count": null,
   "metadata": {},
   "outputs": [],
   "source": [
    "# pre order\n",
    "class Solution:\n",
    "    def __init__(self):\n",
    "        self.res = []\n",
    "    def binaryTreePaths(self, root: Optional[TreeNode]) -> List[str]:\n",
    "        def dfs(path, root):\n",
    "            if not root:\n",
    "                return \n",
    "            if not root.left and not root.right:\n",
    "                self.res.append(path + [str(root.val)])\n",
    "            # path = path + [str(root.val)]\n",
    "            dfs(path + [str(root.val)], root.left)\n",
    "            dfs(path + [str(root.val)], root.right)\n",
    "        dfs([], root)\n",
    "        return ['->'.join(res) for res in self.res]"
   ]
  },
  {
   "cell_type": "code",
   "execution_count": null,
   "metadata": {},
   "outputs": [],
   "source": [
    "class Solution:\n",
    "    def binaryTreePaths(self, root):\n",
    "        \"\"\"\n",
    "        :type root: TreeNode\n",
    "        :rtype: List[str]\n",
    "        \"\"\"\n",
    "        def construct_paths(root, path):\n",
    "            if root:\n",
    "                path += str(root.val) # more readable than path + [str(root.val)]\n",
    "                if not root.left and not root.right:  \n",
    "                    paths.append(path)  # 把路径加入到答案中\n",
    "                else:\n",
    "                    path += '->'  # 当前节点不是叶子节点，继续递归遍历\n",
    "                    construct_paths(root.left, path)\n",
    "                    construct_paths(root.right, path)\n",
    "\n",
    "        paths = []\n",
    "        construct_paths(root, '')\n",
    "        return paths"
   ]
  },
  {
   "cell_type": "markdown",
   "metadata": {},
   "source": [
    "### 113. Path Sum II\n",
    "Given the root of a binary tree and an integer targetSum, return all root-to-leaf paths where the sum of the node values in the path equals targetSum. Each path should be returned as a list of the node values, not node references."
   ]
  },
  {
   "cell_type": "code",
   "execution_count": null,
   "metadata": {},
   "outputs": [],
   "source": [
    "# 不能剪枝，因为有可能是负数\n",
    "class Solution:\n",
    "    def pathSum(self, root: Optional[TreeNode], targetSum: int) -> List[List[int]]:\n",
    "        paths = []\n",
    "        def dfs(path, root):\n",
    "            if root:\n",
    "                path = path + [root.val]\n",
    "                if not root.left and not root.right and sum(path) == targetSum:\n",
    "                    paths.append(path)\n",
    "                dfs(path, root.left)\n",
    "                dfs(path, root.right)\n",
    "        dfs([], root)\n",
    "        return paths"
   ]
  },
  {
   "cell_type": "code",
   "execution_count": null,
   "metadata": {},
   "outputs": [],
   "source": [
    "class Solution:\n",
    "    def pathSum(self, root: TreeNode, targetSum: int) -> List[List[int]]:\n",
    "        ret = list()\n",
    "        path = list()\n",
    "        \n",
    "        def dfs(root: TreeNode, targetSum: int):\n",
    "            if not root:\n",
    "                return\n",
    "            path.append(root.val)\n",
    "            targetSum -= root.val\n",
    "            if not root.left and not root.right and targetSum == 0:\n",
    "                ret.append(path[:])\n",
    "            dfs(root.left, targetSum)\n",
    "            dfs(root.right, targetSum)\n",
    "            path.pop()\n",
    "        \n",
    "        dfs(root, targetSum)\n",
    "        return ret"
   ]
  },
  {
   "cell_type": "markdown",
   "metadata": {},
   "source": [
    "### 129. Sum Root to Leaf Numbers\n",
    "You are given the root of a binary tree containing digits from 0 to 9 only.\n",
    "\n",
    "Each root-to-leaf path in the tree represents a number.\n",
    "\n",
    "For example, the root-to-leaf path 1 -> 2 -> 3 represents the number 123.\n",
    "Return the total sum of all root-to-leaf numbers"
   ]
  },
  {
   "cell_type": "code",
   "execution_count": null,
   "metadata": {},
   "outputs": [],
   "source": [
    "class Solution:\n",
    "    def sumNumbers(self, root: TreeNode) -> int:\n",
    "        total = 0\n",
    "        def dfs(path, root):\n",
    "            if root:\n",
    "                path = path + str(root.val)\n",
    "                if not root.left and not root.right:\n",
    "                    total += path\n",
    "                dfs(path, root.left)\n",
    "                dfs(path, root.right)\n",
    "        dfs('', root)\n",
    "        return total\n",
    "                "
   ]
  },
  {
   "cell_type": "markdown",
   "metadata": {},
   "source": [
    "### 199. Binary Tree Right Side View\n"
   ]
  },
  {
   "cell_type": "code",
   "execution_count": null,
   "metadata": {},
   "outputs": [],
   "source": [
    "# dfs\n",
    "def rightSideView(root: Optional[TreeNode]) -> List[int]:\n",
    "    res = []\n",
    "    dep = 0\n",
    "    def dfs(root, dep):\n",
    "        if root:\n",
    "            if len(res) == dep:\n",
    "                res.append(root.val)\n",
    "            dfs(root.right, dep+1)\n",
    "            dfs(root.left, dep+1)\n",
    "    dfs(root, 0)\n",
    "    return res\n"
   ]
  },
  {
   "cell_type": "code",
   "execution_count": null,
   "metadata": {},
   "outputs": [],
   "source": [
    "# bfs\n",
    "# https://leetcode-cn.com/problems/binary-tree-right-side-view/solution/jian-dan-bfsdfs-bi-xu-miao-dong-by-sweetiee/\n",
    "from collections import deque\n",
    "def rightSideView(root: Optional[TreeNode]) -> List[int]:\n",
    "    res = []\n",
    "    if not root:\n",
    "        return []\n",
    "    q = deque()\n",
    "    q.append(root)\n",
    "    while q:\n",
    "        size = len(q)\n",
    "        for i in range(size):\n",
    "            # if node:\n",
    "            #     if i == size-1:\n",
    "            #         res.append(node.val)\n",
    "            #     q.append(node.left)\n",
    "            #     q.append(node.right)\n",
    "            node = q.popleft()\n",
    "            if i == size-1:\n",
    "                res.append(node.val)\n",
    "            if node.left:\n",
    "                q.append(node.left)\n",
    "            if node.right:\n",
    "                q.append(node.right)\n",
    "    return res\n",
    "\n",
    "\n",
    "    "
   ]
  }
 ],
 "metadata": {
  "kernelspec": {
   "display_name": "base",
   "language": "python",
   "name": "base"
  },
  "language_info": {
   "codemirror_mode": {
    "name": "ipython",
    "version": 3
   },
   "file_extension": ".py",
   "mimetype": "text/x-python",
   "name": "python",
   "nbconvert_exporter": "python",
   "pygments_lexer": "ipython3",
   "version": "3.8.5"
  },
  "orig_nbformat": 4
 },
 "nbformat": 4,
 "nbformat_minor": 2
}
